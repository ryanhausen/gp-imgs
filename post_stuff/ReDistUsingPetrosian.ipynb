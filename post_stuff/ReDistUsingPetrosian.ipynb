{
 "cells": [
  {
   "cell_type": "code",
   "execution_count": 6,
   "metadata": {},
   "outputs": [
    {
     "name": "stdout",
     "output_type": "stream",
     "text": [
      "Using matplotlib backend: Qt5Agg\n"
     ]
    }
   ],
   "source": [
    "# adds parent dir to python path\n",
    "import sys\n",
    "sys.path.insert(0, '..')\n",
    "\n",
    "#system lib\n",
    "import os\n",
    "import json\n",
    "\n",
    "# 3rd party lib\n",
    "import numpy as np\n",
    "#import matplotlib\n",
    "#import matplotlib.pyplot as plt\n",
    "#%matplotlib notebook\n",
    "#matplotlib.rcParams.update({'font.size': 22})\n",
    "#from bqplot import pyplot as plt\n",
    "\n",
    "import matplotlib.pyplot as plt\n",
    "%matplotlib auto\n",
    "\n",
    "# astro lib\n",
    "from astropy.io import fits\n",
    "import sep\n",
    "\n",
    "# my lib\n",
    "import ImageTools as it\n",
    "import DataTools as dt\n",
    "from gphelper import GPHelper\n",
    "\n",
    "from importlib import reload\n",
    "\n",
    "import warnings\n",
    "warnings.filterwarnings('ignore')\n",
    "\n",
    "\n",
    "from multiprocessing import Pool"
   ]
  },
  {
   "cell_type": "code",
   "execution_count": null,
   "metadata": {},
   "outputs": [],
   "source": [
    "def make_nonnegative(img):\n",
    "    epsilon = np.abs(img.min()) + 1e-3\n",
    "    img[img<=0] = img[img>0].min()\n",
    "    return img\n",
    "\n",
    "def get_random_spheroids(num=10, with_ids=False):\n",
    "    with open('../spheroids', 'r') as f:\n",
    "        spheroids = np.array(f.readlines())\n",
    "    \n",
    "    if num==-1:\n",
    "        num = len(spheroids)\n",
    "    \n",
    "    selected = np.random.choice(spheroids, num, replace=False)\n",
    "    \n",
    "    data_dir = os.path.join(os.getenv('HOME'), 'Documents/astro_data/orig_images')\n",
    "    fmask = 'GDS_{}_{}.fits'\n",
    "    f_string = os.path.join(data_dir, fmask)\n",
    "\n",
    "    sources = []\n",
    "    for s in selected:\n",
    "        img = fits.getdata(f_string.format(s.strip(), 'h'))\n",
    "        segmap = fits.getdata(f_string.format(s.strip(), 'segmap'))\n",
    "        img_id = int(s.split('_')[1])\n",
    "        sources.append((img.copy(), segmap.copy(), img_id))\n",
    "        del img \n",
    "        del segmap\n",
    "    \n",
    "    if with_ids:\n",
    "        return list(zip(selected, sources))\n",
    "    else:\n",
    "        return sources\n",
    "\n",
    "# Petrosian Helpers ----------------------------------------------------------\n",
    "def one_over_eta(rs, fs, R):\n",
    "    return ((np.pi*R**2) / (np.sum(fs[rs<=R]))) * fs[rs==R]\n",
    "\n",
    "def petrosian_radius(rs, fs):\n",
    "    #r_candidates = np.array([one_over_eta(rs, fs, R) for R in rs])\n",
    "    r_candidates = np.array([fs[rs==r]/fs[rs<=r].mean() for r in rs]).flatten()\n",
    "    r_candidates = r_candidates[rs<12.5]\n",
    "    \n",
    "    return rs[np.square(r_candidates-0.2).argmin()]\n",
    "\n",
    "def petrosian_flux(rs, fs, R_p):\n",
    "    return np.sum(fs[rs<=2*R_p])\n",
    "\n",
    "def R_x(rs, fs, x):\n",
    "    x /= 100\n",
    "    sum_ratio = np.cumsum(fs)/np.sum(fs)\n",
    "    return rs[np.square(sum_ratio-x).argmin()]\n",
    "\n",
    "def petrosian_Re(R_50, R_90):\n",
    "    P_3 = 8e-6\n",
    "    P_4 = 8.47\n",
    "    R_ratio = min(R_90/R_50, 3.8)\n",
    "    return R_50 / (1 - (P_3 * (R_ratio)**P_4))\n",
    "\n",
    "def get_rs_and_fs(img, src_map):\n",
    "    cx, cy = it.img_center(img, src_map)\n",
    "    xs, ys = np.meshgrid(np.arange(img.shape[0]), np.arange(img.shape[1]).T)\n",
    "    rs = np.sqrt(np.square(xs-cx)+np.square(ys-cy))\n",
    "    \n",
    "    rs = rs.flatten()\n",
    "    fs = img.flatten()\n",
    "    sorted_rs = np.argsort(rs)\n",
    "    \n",
    "    rs = rs[sorted_rs]\n",
    "    fs = fs[sorted_rs]\n",
    "    \n",
    "    return rs, fs\n",
    "\n",
    "def get_re(img, src_map):\n",
    "    rs, fs = get_rs_and_fs(img, src_map)\n",
    "    \n",
    "    R_p = petrosian_radius(rs, fs)\n",
    "    F_p = petrosian_flux(rs, fs, R_p)\n",
    "    p_mask = rs <= 2*R_p\n",
    "    \n",
    "    _rs = rs[p_mask]\n",
    "    _fs = fs[p_mask]\n",
    "\n",
    "    R_50 = R_x(_rs, _fs, 50)\n",
    "    R_90 = R_x(_rs, _fs, 90)\n",
    "\n",
    "    re = petrosian_Re(R_50, R_90)\n",
    "    re_idx = np.square(_rs-re).argmin()\n",
    "    \n",
    "    return rs[re_idx], rs, fs\n",
    "\n",
    "def get_re(rsfs):\n",
    "    rs, fs = rsfs\n",
    "    \n",
    "    R_p = petrosian_radius(rs, fs)\n",
    "    F_p = petrosian_flux(rs, fs, R_p)\n",
    "    p_mask = rs <= 2*R_p\n",
    "    \n",
    "    _rs = rs[p_mask]\n",
    "    _fs = fs[p_mask]\n",
    "\n",
    "    R_50 = R_x(_rs, _fs, 50)\n",
    "    R_90 = R_x(_rs, _fs, 90)\n",
    "\n",
    "    re = petrosian_Re(R_50, R_90)\n",
    "    re_idx = np.square(_rs-re).argmin()\n",
    "    \n",
    "    return rs[re_idx]\n",
    "\n",
    "# Petrosian Helpers ----------------------------------------------------------\n",
    "\n",
    "def denoise(img, segmap, img_id):\n",
    "    noise_bank = img[segmap==0].flatten()\n",
    "    other_source = np.logical_and(segmap!=0, segmap!=img_id)\n",
    "    np.place(img, other_source, noise_bank)\n",
    "    \n",
    "    array_sep_likes = img.byteswap().newbyteorder()\n",
    "    bkg = sep.Background(img.newbyteorder('='), mask=segmap==img_id, bw=10, bh=10)\n",
    "    img = img-bkg\n",
    "    \n",
    "    return img\n",
    "\n",
    "# https://ned.ipac.caltech.edu/level5/March05/Graham/Graham2.html\n",
    "def sersic(x):\n",
    "    def b(n):\n",
    "        return 1.9992*n-0.3271\n",
    "\n",
    "    def I(r):\n",
    "        \"\"\"Assuming that I_e=1.0 and that R_e=1.0\"\"\"\n",
    "        n = 4\n",
    "        return np.exp(-b(n) * (np.power(r, 1/n)  - 1))\n",
    "\n",
    "    return I(x)"
   ]
  },
  {
   "cell_type": "code",
   "execution_count": null,
   "metadata": {},
   "outputs": [],
   "source": [
    "_id, (img, segmap, img_id) = get_random_spheroids(num=1, with_ids=True)[0]\n",
    "img = denoise(img, segmap, img_id)\n",
    "plt.title(_id)\n",
    "plt.imshow(img, cmap='gray')\n"
   ]
  },
  {
   "cell_type": "code",
   "execution_count": null,
   "metadata": {},
   "outputs": [],
   "source": [
    "rs, fs = get_rs_and_fs(img, segmap==img_id)\n",
    "\n",
    "str = 'r, I(r)\\n'\n",
    "for r, f in zip(rs, fs):\n",
    "    str += f'{r},{f}\\n'\n",
    "    \n",
    "with open('ascii_rsfs.csv', 'w') as f:\n",
    "    f.write(str)"
   ]
  },
  {
   "cell_type": "code",
   "execution_count": null,
   "metadata": {},
   "outputs": [],
   "source": [
    "rs, fs = [], []\n",
    "with open('ascii_rsfs.csv', 'r') as f:\n",
    "    for line in f:\n",
    "        if 'I(r)' in line:\n",
    "            continue\n",
    "        nums = line.split(' ')\n",
    "        rs.append(float(nums[0]))\n",
    "        fs.append(float(nums[1]))\n",
    "        \n",
    "rs = np.array(rs)\n",
    "fs = np.array(fs)"
   ]
  },
  {
   "cell_type": "code",
   "execution_count": null,
   "metadata": {},
   "outputs": [],
   "source": [
    "plt.plot(rs, fs)"
   ]
  },
  {
   "cell_type": "code",
   "execution_count": null,
   "metadata": {},
   "outputs": [],
   "source": [
    "%%time\n",
    "dR=0.05*(rs.max()-rs.min())\n",
    "print(dR)\n",
    "f_smooth = dt.loessc_p(rs,fs,dx=dR, pnum=2)"
   ]
  },
  {
   "cell_type": "code",
   "execution_count": null,
   "metadata": {},
   "outputs": [],
   "source": [
    "plt.plot(rs, fs)\n",
    "plt.plot(rs, f_smooth)"
   ]
  },
  {
   "cell_type": "code",
   "execution_count": null,
   "metadata": {},
   "outputs": [],
   "source": [
    "(f_smooth<0).sum()"
   ]
  },
  {
   "cell_type": "code",
   "execution_count": null,
   "metadata": {},
   "outputs": [],
   "source": [
    "num_interp = 100\n",
    "interp_rs = np.linspace(rs.min(), rs.max(), num_interp)\n",
    "interp_fs = np.interp(interp_rs, rs, f_smooth)\n",
    "interp_fs[interp_fs<0] = 0\n",
    "\n",
    "plt.plot(interp_rs, interp_fs)"
   ]
  },
  {
   "cell_type": "code",
   "execution_count": null,
   "metadata": {},
   "outputs": [],
   "source": [
    "L = np.zeros(num_interp)\n",
    "L[0] = np.pi*interp_rs[0]**2  * interp_fs[0]\n",
    "for i in range(1,num_interp,1):\n",
    "    L[i] = L[i-1] + np.pi*(interp_rs[i]**2 - interp_rs[i-1]**2)*interp_fs[i]"
   ]
  },
  {
   "cell_type": "code",
   "execution_count": null,
   "metadata": {},
   "outputs": [],
   "source": [
    "plt.plot(interp_rs, L)"
   ]
  },
  {
   "cell_type": "code",
   "execution_count": null,
   "metadata": {},
   "outputs": [],
   "source": [
    "A = np.pi * interp_rs**2"
   ]
  },
  {
   "cell_type": "code",
   "execution_count": null,
   "metadata": {},
   "outputs": [],
   "source": [
    "etas = interp_fs*A/L\n",
    "plt.plot(interp_rs, etas)\n",
    "plt.xlim([0,10])"
   ]
  },
  {
   "cell_type": "code",
   "execution_count": null,
   "metadata": {},
   "outputs": [],
   "source": [
    "eta_idx = np.square(etas[interp_rs<10]-0.2).argmin()\n",
    "interp_rs[eta_idx]"
   ]
  },
  {
   "cell_type": "code",
   "execution_count": null,
   "metadata": {},
   "outputs": [],
   "source": [
    "etas[eta_idx]"
   ]
  },
  {
   "cell_type": "code",
   "execution_count": 7,
   "metadata": {},
   "outputs": [],
   "source": [
    "spheroids = get_random_spheroids(num=-1)"
   ]
  },
  {
   "cell_type": "code",
   "execution_count": null,
   "metadata": {
    "scrolled": true
   },
   "outputs": [],
   "source": [
    "%%time\n",
    "#_ = process_img(spheroids[6])\n",
    "\n",
    "#processed = list(map(process_img, spheroids[:32]))\n",
    "\n",
    "with Pool(4) as p:\n",
    "    processed = list(p.map(process_img, spheroids[:]))"
   ]
  },
  {
   "cell_type": "code",
   "execution_count": 14,
   "metadata": {},
   "outputs": [],
   "source": [
    "rps = [p[4] for p in processed]"
   ]
  },
  {
   "cell_type": "code",
   "execution_count": 34,
   "metadata": {},
   "outputs": [
    {
     "data": {
      "text/plain": [
       "(array([  2.,   1.,   9.,  13.,  30.,  23.,  39.,  30.,  33.,  30.,  15.,\n",
       "         17.,  19.,  28.,  19.,  15.,  13.,  51.,  35.,  78.]),\n",
       " array([ 5.53898668,  5.76202853,  5.98507037,  6.20811221,  6.43115406,\n",
       "         6.6541959 ,  6.87723774,  7.10027958,  7.32332143,  7.54636327,\n",
       "         7.76940511,  7.99244695,  8.2154888 ,  8.43853064,  8.66157248,\n",
       "         8.88461432,  9.10765617,  9.33069801,  9.55373985,  9.77678169,\n",
       "         9.99982354]),\n",
       " <a list of 20 Patch objects>)"
      ]
     },
     "execution_count": 34,
     "metadata": {},
     "output_type": "execute_result"
    }
   ],
   "source": [
    "plt.hist(rps, bins=20, alpha=0.5)"
   ]
  },
  {
   "cell_type": "code",
   "execution_count": 32,
   "metadata": {},
   "outputs": [],
   "source": [
    "res = [p[2] for p in processed]"
   ]
  },
  {
   "cell_type": "code",
   "execution_count": 33,
   "metadata": {},
   "outputs": [
    {
     "data": {
      "text/plain": [
       "(array([  2.,   1.,  12.,  18.,  29.,  36.,  30.,  49.,  31.,  19.,  20.,\n",
       "         23.,  28.,  21.,  17.,  17.,  45.,  47.,  43.,  12.]),\n",
       " array([  6.38189199,   6.69936569,   7.01683939,   7.3343131 ,\n",
       "          7.6517868 ,   7.9692605 ,   8.2867342 ,   8.60420791,\n",
       "          8.92168161,   9.23915531,   9.55662901,   9.87410272,\n",
       "         10.19157642,  10.50905012,  10.82652382,  11.14399753,\n",
       "         11.46147123,  11.77894493,  12.09641863,  12.41389234,  12.73136604]),\n",
       " <a list of 20 Patch objects>)"
      ]
     },
     "execution_count": 33,
     "metadata": {},
     "output_type": "execute_result"
    }
   ],
   "source": [
    "plt.title('$R_e$')\n",
    "plt.hist(res, bins=20, alpha=0.5)"
   ]
  },
  {
   "cell_type": "code",
   "execution_count": 23,
   "metadata": {},
   "outputs": [],
   "source": [
    "max_rs = [max(p[0]/p[2]) for p in processed]"
   ]
  },
  {
   "cell_type": "code",
   "execution_count": 24,
   "metadata": {},
   "outputs": [
    {
     "data": {
      "text/plain": [
       "(array([ 46.,  79.,  41.,  23.,  35.,  35.,  20.,  27.,  30.,  40.,  31.,\n",
       "         22.,  28.,  21.,   8.,   9.,   3.,   0.,   1.,   1.]),\n",
       " array([ 4.64169893,  4.8743245 ,  5.10695006,  5.33957563,  5.57220119,\n",
       "         5.80482676,  6.03745232,  6.27007789,  6.50270345,  6.73532902,\n",
       "         6.96795458,  7.20058015,  7.43320571,  7.66583128,  7.89845684,\n",
       "         8.13108241,  8.36370797,  8.59633354,  8.8289591 ,  9.06158467,\n",
       "         9.29421024]),\n",
       " <a list of 20 Patch objects>)"
      ]
     },
     "execution_count": 24,
     "metadata": {},
     "output_type": "execute_result"
    }
   ],
   "source": [
    "plt.hist(max_rs, bins=20, alpha=0.5)"
   ]
  },
  {
   "cell_type": "code",
   "execution_count": 18,
   "metadata": {},
   "outputs": [
    {
     "data": {
      "text/plain": [
       "<matplotlib.text.Text at 0x7f0109dcaa90>"
      ]
     },
     "execution_count": 18,
     "metadata": {},
     "output_type": "execute_result"
    }
   ],
   "source": [
    "plt.figure()\n",
    "plt.title(\"Spheroid SBP\")\n",
    "for (rs, fs, re, ie, R_p, I_p) in processed:\n",
    "    plt.plot(rs/R_p, np.log10(make_nonnegative(fs/I_p)), color='b', alpha=0.2)\n",
    "plt.xlabel(\"R/$R_p$\")\n",
    "plt.ylabel(\"I/$I_p$ (log)\")"
   ]
  },
  {
   "cell_type": "code",
   "execution_count": 46,
   "metadata": {},
   "outputs": [],
   "source": [
    "rs = [p[0] for p in processed]\n",
    "fs = [p[1] for p in processed]\n",
    "ies = [p[3] for p in processed]\n",
    "\n",
    "sm, lg = [],[]\n",
    "for re, rp, mr, r, f, ie in zip(res, rps, max_rs, rs, fs, ies):\n",
    "    if rp<=9.25:\n",
    "        sm.append((re, rp, mr, r/re, f/ie))\n",
    "    else:\n",
    "        lg.append((re, rp, mr, r/re, f/ie))\n",
    "\n",
    "plt.figure()\n",
    "plt.title('Small population Petrosian Radius <= 9.25')\n",
    "plt.hist([s[0] for s in sm], bins=20, label='Re', alpha=0.5)\n",
    "plt.hist([s[1] for s in sm], bins=20, label='Rp', alpha=0.5)\n",
    "plt.hist([s[2] for s in sm], bins=20, label='Norm-Length', alpha=0.5)\n",
    "plt.legend()\n",
    "    \n",
    "plt.figure()\n",
    "plt.title('Small population sbp')\n",
    "plt.xlim(0,5)\n",
    "for _, _, _, r, f in sm:\n",
    "    plt.plot(r,np.log10(f), color='b', alpha=0.2)\n",
    "    \n",
    "plt.figure()\n",
    "plt.title('Large population Petrosian Radius > 9.25')\n",
    "plt.hist([s[0] for s in lg], bins=20, label='Re', alpha=0.5)\n",
    "plt.hist([s[1] for s in lg], bins=20, label='Rp', alpha=0.5)\n",
    "plt.hist([s[2] for s in lg], bins=20, label='Norm-Length', alpha=0.5)\n",
    "plt.legend()\n",
    "\n",
    "plt.figure()\n",
    "plt.title('Large population sbp')\n",
    "plt.xlim(0,5)\n",
    "for _, _, _, r, f in lg:\n",
    "    plt.plot(r,np.log10(f), color='b', alpha=0.2)\n",
    "        \n",
    "        "
   ]
  },
  {
   "cell_type": "code",
   "execution_count": 180,
   "metadata": {},
   "outputs": [],
   "source": [
    "def petrosian_radius(rs, fs):\n",
    "    #r_candidates = np.array([one_over_eta(rs, fs, R) for R in rs])\n",
    "    r_candidates = np.array([fs[rs==r]/fs[rs<=r].mean() for r in rs]).flatten()\n",
    "    r_candidates = r_candidates[rs<12.5]\n",
    "    \n",
    "    return rs[np.square(r_candidates-0.2).argmin()]\n",
    "\n",
    "\n",
    "def make_nonnegative(img):\n",
    "    epsilon = np.abs(img.min()) + 1e-3\n",
    "    if img.min() <= 0:\n",
    "        img += epsilon\n",
    "    return img\n",
    "\n",
    "def get_random_spheroids(num=10, with_ids=False):\n",
    "    with open('../spheroids', 'r') as f:\n",
    "        spheroids = np.array(f.readlines())\n",
    "    \n",
    "    if num==-1:\n",
    "        num = len(spheroids)\n",
    "    \n",
    "    selected = np.random.choice(spheroids, num, replace=False)\n",
    "    \n",
    "    data_dir = os.path.join(os.getenv('HOME'), 'Documents/astro_data/orig_images')\n",
    "    fmask = 'GDS_{}_{}.fits'\n",
    "    f_string = os.path.join(data_dir, fmask)\n",
    "\n",
    "    sources = []\n",
    "    for s in selected:\n",
    "        img = fits.getdata(f_string.format(s.strip(), 'h'))\n",
    "        segmap = fits.getdata(f_string.format(s.strip(), 'segmap'))\n",
    "        img_id = int(s.split('_')[1])\n",
    "        sources.append((img.copy(), segmap.copy(), img_id))\n",
    "        del img \n",
    "        del segmap\n",
    "    \n",
    "    if with_ids:\n",
    "        return list(zip(selected, sources))\n",
    "    else:\n",
    "        return sources\n",
    "\n",
    "    \n",
    "from itertools import starmap\n",
    "def process_img(args):\n",
    "    def dx_collections(X, Y, dx):\n",
    "        collections = []\n",
    "\n",
    "        for x in X:\n",
    "            dist_x = np.abs(X-x)\n",
    "            dist_x = dist_x<=dx\n",
    "            collections.append((x, X[dist_x], Y[dist_x]))\n",
    "\n",
    "        return collections\n",
    "\n",
    "    def weight_function(d):\n",
    "        return (1 - (d/d.max())**3)**3\n",
    "\n",
    "    def loess_point(x, X, Y):\n",
    "        if len(Y) == 1:\n",
    "            return Y\n",
    "\n",
    "        _Y = weight_function(np.abs(X-x))*Y        \n",
    "        y = np.poly1d(np.polyfit(X, _Y, 2))(x)\n",
    "\n",
    "        return y\n",
    "\n",
    "    def loessc_p(x, y, dx, pnum=1):\n",
    "        if dx is None:\n",
    "            dx = 1.0e-3*np.abs(max(x)-min(x))\n",
    "\n",
    "        collections = dx_collections(x, y, dx)\n",
    "\n",
    "        if pnum==1:\n",
    "            y = starmap(loess_point, collections)\n",
    "\n",
    "        return np.array(list(y)).flatten()\n",
    "    \n",
    "    \n",
    "    \n",
    "    def petrosian_radius(rs, fs):\n",
    "        #r_candidates = np.array([one_over_eta(rs, fs, R) for R in rs])\n",
    "        r_candidates = np.array([fs[rs==r]/fs[rs<=r].mean() for r in rs]).flatten()\n",
    "        r_candidates = r_candidates[rs<20.0]\n",
    "\n",
    "        return rs[np.square(r_candidates-0.2).argmin()]\n",
    "    \n",
    "    \n",
    "    def denoise(img, segmap, img_id):\n",
    "        noise_bank = img[segmap==0].flatten()\n",
    "        other_source = np.logical_and(segmap!=0, segmap!=img_id)\n",
    "        np.place(img, other_source, noise_bank)\n",
    "\n",
    "        sep_arr = img.byteswap().newbyteorder('N')\n",
    "        #print(sep_arr.dtype.byteorder)\n",
    "        bkg = sep.Background(sep_arr, mask=segmap==img_id, bw=10, bh=10)\n",
    "        img = img-bkg\n",
    "\n",
    "        return img\n",
    "    \n",
    "    def get_rs_and_fs(img, src_map):\n",
    "        cx, cy = it.img_center(img, src_map)\n",
    "        xs, ys = np.meshgrid(np.arange(img.shape[0]), np.arange(img.shape[1]).T)\n",
    "        rs = np.sqrt(np.square(xs-cx)+np.square(ys-cy))\n",
    "\n",
    "        rs = rs.flatten()\n",
    "        fs = img.flatten()\n",
    "        sorted_rs = np.argsort(rs)\n",
    "\n",
    "        rs = rs[sorted_rs]\n",
    "        fs = fs[sorted_rs]\n",
    "\n",
    "        return rs, fs\n",
    "    \n",
    "    img, segmap, img_id = args\n",
    "    src_map = segmap==img_id\n",
    "    img = denoise(img, segmap, img_id)\n",
    "    \n",
    "    #plt.figure()\n",
    "    #plt.imshow(img, cmap='gray')\n",
    "    \n",
    "    rs, fs = get_rs_and_fs(img, src_map)\n",
    "    #pixel_Rp = petrosian_radius(rs, fs)\n",
    "    \n",
    "    #plt.figure()\n",
    "    #plt.plot(rs, fs)\n",
    "    \n",
    "    \n",
    "    dr = 0.05*(rs.max()-rs.min())\n",
    "    #print(fs[:10])\n",
    "    fs = loessc_p(rs, fs, dr, pnum=1)\n",
    "    #print(fs[:10])\n",
    "    fs[fs<0]=0\n",
    "    \n",
    "    #plt.figure()\n",
    "    #plt.plot(rs, fs)\n",
    "    \n",
    "    num_interp = 100\n",
    "    _rs = np.linspace(rs.min(), rs.max(), num_interp)\n",
    "    fs = np.interp(_rs, rs, fs)\n",
    "    rs = _rs\n",
    "    \n",
    "    #plt.figure()\n",
    "    #plt.plot(rs, fs)\n",
    "    \n",
    "    L = np.zeros(num_interp)\n",
    "    L[0] = np.pi*rs[0]**2  * fs[0]\n",
    "    for i in range(1,num_interp,1):\n",
    "        L[i] = L[i-1] + np.pi*(rs[i]**2 - rs[i-1]**2)*fs[i]\n",
    "\n",
    "    A = np.pi * rs**2\n",
    "    #print(rs, fs)\n",
    "    etas = fs*A/L\n",
    "    r_lim = rs<20.0\n",
    "    mono_dec = np.argmax(np.diff(etas)>=0)\n",
    "    mono_dec = np.arange(len(etas))<mono_dec\n",
    "    r_lim = np.logical_and(r_lim, mono_dec)\n",
    "    \n",
    "    if np.all(r_lim==False):\n",
    "        return (None, None, None, None, None, None, None, None)\n",
    "    \n",
    "    \n",
    "    R_p = np.interp(0.2, np.flipud(etas[r_lim]), np.flipud(rs[r_lim]))\n",
    "    \n",
    "    #print(etas)\n",
    "    \n",
    "    #plt.figure()\n",
    "    #plt.plot(etas[r_lim], rs[r_lim], '.')\n",
    "    #plt.vlines([0.2], 0, 12.5)\n",
    "    #print(np.flipud(etas[r_lim]), rs[r_lim])\n",
    "    #print(f'R_p:{R_p}')\n",
    "    \n",
    "    #plt.figure()\n",
    "    #plt.plot(rs, etas)\n",
    "    \n",
    "    Fp_idx = np.square(rs - 2*R_p).argmin()\n",
    "    #print(Fp_idx)\n",
    "    \n",
    "    if Fp_idx==0:\n",
    "        return (None, None, None, None, None, None, None, None)\n",
    "    \n",
    "    F_p = np.cumsum(L[:Fp_idx]/L[:Fp_idx].sum())\n",
    "    I_p = np.interp(R_p, rs, fs)\n",
    "    \n",
    "    #plt.figure()\n",
    "    #plt.plot(F_p, rs[:Fp_idx])\n",
    "    #print(len(F_p), len(rs[:Fp_idx]))\n",
    "    \n",
    "    R_50 = np.interp(.5, F_p, rs[:Fp_idx])\n",
    "    R_90 = np.interp(.9, F_p, rs[:Fp_idx])\n",
    "    #print(F_p, rs[:Fp_idx])\n",
    "    #print(f'R_50:{R_50} R_90:{R_90}')\n",
    "    \n",
    "    \n",
    "    P3, P4 = 8e-6, 8.47\n",
    "    re = R_50 / (1 - P3 * (R_90 / R_50)**P4)\n",
    "    ie = np.interp(re, rs, fs)\n",
    "    \n",
    "    return (rs, fs, re, ie, R_p, I_p, etas, None)"
   ]
  },
  {
   "cell_type": "code",
   "execution_count": 59,
   "metadata": {},
   "outputs": [
    {
     "data": {
      "text/plain": [
       "[<matplotlib.lines.Line2D at 0x7f00f704b898>]"
      ]
     },
     "execution_count": 59,
     "metadata": {},
     "output_type": "execute_result"
    }
   ],
   "source": [
    "rps = [(p[4], p[7]) for p in processed]\n",
    "line, pixel = zip(*rps)\n",
    "plt.title(\"2d $R_e$ vs 1D $R_e$ - Data\")\n",
    "plt.xlabel(\"1D $R_e$\")\n",
    "plt.ylabel(\"2D $R_e$\")\n",
    "plt.scatter(line, pixel)\n",
    "\n",
    "mx = np.ceil(max(max(line), max(pixel)))\n",
    "mn = np.floor(min(min(line), min(pixel)))\n",
    "\n",
    "plt.plot(np.arange(mn, mx), np.arange(mn, mx), color='c')"
   ]
  },
  {
   "cell_type": "code",
   "execution_count": 62,
   "metadata": {},
   "outputs": [],
   "source": [
    "plt.title('1/$\\eta(R)$ and $R/R_p$ - Data')\n",
    "plt.ylabel('1/$\\eta(R)$')\n",
    "plt.xlabel('$R/R_p$')\n",
    "for (rs, fs, re, ie, R_p, I_p, etas, pixel_Rp) in processed:\n",
    "    plt.plot(rs/R_p, etas, color='b', alpha=0.2)"
   ]
  },
  {
   "cell_type": "code",
   "execution_count": 50,
   "metadata": {
    "scrolled": true
   },
   "outputs": [
    {
     "ename": "NameError",
     "evalue": "name '_spheroids' is not defined",
     "output_type": "error",
     "traceback": [
      "\u001b[0;31m---------------------------------------------------------------------------\u001b[0m",
      "\u001b[0;31mNameError\u001b[0m                                 Traceback (most recent call last)",
      "\u001b[0;32m<ipython-input-50-b4ad4477aec8>\u001b[0m in \u001b[0;36m<module>\u001b[0;34m()\u001b[0m\n\u001b[1;32m     14\u001b[0m     \u001b[0mcount\u001b[0m \u001b[0;34m+=\u001b[0m \u001b[0;36m1\u001b[0m\u001b[0;34m\u001b[0m\u001b[0m\n\u001b[1;32m     15\u001b[0m \u001b[0;34m\u001b[0m\u001b[0m\n\u001b[0;32m---> 16\u001b[0;31m     \u001b[0mprint\u001b[0m\u001b[0;34m(\u001b[0m\u001b[0mcount\u001b[0m\u001b[0;34m/\u001b[0m\u001b[0mlen\u001b[0m\u001b[0;34m(\u001b[0m\u001b[0m_spheroids\u001b[0m\u001b[0;34m)\u001b[0m\u001b[0;34m,\u001b[0m \u001b[0mend\u001b[0m\u001b[0;34m=\u001b[0m\u001b[0;34m'\\r'\u001b[0m\u001b[0;34m)\u001b[0m\u001b[0;34m\u001b[0m\u001b[0m\n\u001b[0m\u001b[1;32m     17\u001b[0m \u001b[0;34m\u001b[0m\u001b[0m\n\u001b[1;32m     18\u001b[0m     \u001b[0;31m#background subtract images\u001b[0m\u001b[0;34m\u001b[0m\u001b[0;34m\u001b[0m\u001b[0m\n",
      "\u001b[0;31mNameError\u001b[0m: name '_spheroids' is not defined"
     ]
    }
   ],
   "source": [
    "reload(dt)\n",
    "\n",
    "re_max_ratio = []\n",
    "\n",
    "res = []\n",
    "ies = []\n",
    "normed_rs = []\n",
    "normed_fs = []\n",
    "count = 0\n",
    "\n",
    "small_res = []\n",
    "\n",
    "for img, segmap, img_id in spheroids:\n",
    "    count += 1\n",
    "    \n",
    "    print(count/len(_spheroids), end='\\r')\n",
    "\n",
    "    #background subtract images\n",
    "    src_map = segmap==img_id\n",
    "    \n",
    "    img = denoise(img, segmap, img_id)\n",
    "    \n",
    "    # get the sorted r vals and i vals\n",
    "    rs, fs = get_rs_and_fs(img, src_map)\n",
    "    \n",
    "    # smooth the fs using loess\n",
    "    #fs = dt.loessc(rs, fs, .60)\n",
    "    dR = 0.05*(R.max()-R.min())\n",
    "    fs = dt.loessc_p(rs, fs, dR, pnum=2)\n",
    "    #print(len(rs), len(fs))\n",
    "    #fs = lowess(fs, rs)\n",
    "    #print(len(rs), len(fs))\n",
    "    \n",
    "    # measure petrosian re \n",
    "    re = get_re((rs,fs))\n",
    "\n",
    "    if re<3:\n",
    "        small_res.append((img_id, re))\n",
    "    \n",
    "    re_idx = np.where(rs==re)[0][0] \n",
    "    \n",
    "    ie = fs[re_idx]\n",
    "    \n",
    "    #sum_to_re = fs[rs<=re_idx].sum()\n",
    "    #src_L = sum_to_re*2\n",
    "    #img_L = fs.sum()\n",
    "    #if src_L>img_L:\n",
    "    #    re_max_ratio.append(sum_to_re/img_L)\n",
    "    #    continue\n",
    "    \n",
    "    #max_r = np.square(np.cumsum(fs)-src_L).argmin()\n",
    "    \n",
    "    #max_r = rs[max_r]\n",
    "    \n",
    "    #fs = fs\n",
    "    #rs = rs\n",
    "    pos = lambda a: a if (a<=0).sum()==0 else a + ap.abs(a.min()) + 1e-3\n",
    "    normed_rs.append(pos(rs))\n",
    "    normed_fs.append(fs)\n",
    "    ies.append(ie)\n",
    "    res.append(re)    "
   ]
  },
  {
   "cell_type": "code",
   "execution_count": 162,
   "metadata": {},
   "outputs": [
    {
     "data": {
      "text/plain": [
       "(array([ 0.,  0.,  0.,  0.,  0.,  0.,  0.,  0.,  0.,  0.,  0.,  0.,  0.,\n",
       "         0.,  0.,  0.,  0.,  0.,  0.,  0.,  0.,  0.,  0.,  0.,  0.,  0.,\n",
       "         0.,  0.,  0.,  0.,  0.,  0.,  0.,  0.,  0.,  0.,  0.,  0.,  0.,\n",
       "         0.,  0.,  0.,  0.,  0.,  0.,  0.,  0.,  0.,  0.,  0.]),\n",
       " array([ 0.  ,  0.02,  0.04,  0.06,  0.08,  0.1 ,  0.12,  0.14,  0.16,\n",
       "         0.18,  0.2 ,  0.22,  0.24,  0.26,  0.28,  0.3 ,  0.32,  0.34,\n",
       "         0.36,  0.38,  0.4 ,  0.42,  0.44,  0.46,  0.48,  0.5 ,  0.52,\n",
       "         0.54,  0.56,  0.58,  0.6 ,  0.62,  0.64,  0.66,  0.68,  0.7 ,\n",
       "         0.72,  0.74,  0.76,  0.78,  0.8 ,  0.82,  0.84,  0.86,  0.88,\n",
       "         0.9 ,  0.92,  0.94,  0.96,  0.98,  1.  ]),\n",
       " <a list of 50 Patch objects>)"
      ]
     },
     "execution_count": 162,
     "metadata": {},
     "output_type": "execute_result"
    }
   ],
   "source": [
    "plt.title('Effective Radius')\n",
    "plt.xlabel('$R_e$(Pixels)')\n",
    "plt.hist(res, bins=50)"
   ]
  },
  {
   "cell_type": "code",
   "execution_count": 121,
   "metadata": {},
   "outputs": [
    {
     "data": {
      "text/plain": [
       "(1000, 500)"
      ]
     },
     "execution_count": 121,
     "metadata": {},
     "output_type": "execute_result"
    }
   ],
   "source": [
    "stat_vals.shape"
   ]
  },
  {
   "cell_type": "code",
   "execution_count": 126,
   "metadata": {},
   "outputs": [],
   "source": [
    "interped_marks = np.concatenate([np.linspace(0, 1, 50, endpoint=False), np.linspace(1, 20, 950)])\n",
    "#stat_vals = np.dstack(stat_vals)[0,...]\n",
    "f_mean = np.nanmedian(stat_vals, axis=1)\n",
    "f_16 = np.nanpercentile(stat_vals, 16, axis=1)\n",
    "f_84 = np.nanpercentile(stat_vals, 84, axis=1)\n",
    "\n",
    "plt.figure()\n",
    "plt.plot(interped_marks, f_mean, color='r', label='$median$', zorder=100)\n",
    "plt.fill_between(interped_marks, f_16, f_84, color='r', alpha=0.45, label=\"$16^{th}-84^{th}$\", zorder=100)\n",
    "plt.legend()\n",
    "plt.show()"
   ]
  },
  {
   "cell_type": "code",
   "execution_count": 145,
   "metadata": {},
   "outputs": [],
   "source": [
    "interped_marks = np.concatenate([np.linspace(0, 1, 50, endpoint=False), np.linspace(1, 20, 950)])\n",
    "\n",
    "stat_vals = []\n",
    "\n",
    "plt.figure()\n",
    "plt.title('Normalized Surface Brightness')\n",
    "plt.xlabel('$R/R_e$')\n",
    "plt.ylabel('$I/I_e$ (Log)')\n",
    "\n",
    "for (rs, fs, _, _, re, ie, _, _) in processed:\n",
    "    color = 'b'\n",
    "    if np.sum(fs<=0) > 0:\n",
    "        fs = fs + np.abs(fs.min()) + 1e-3\n",
    "        ie = np.interp(re, rs, fs)\n",
    "    \n",
    "    r = rs/re\n",
    "    f = fs/ie\n",
    "    plt.plot(r, np.log10(f), color='k', alpha=.05)\n",
    "    stat_vals.append(np.interp(interped_marks, r, f, left=np.nan, right=np.nan))\n",
    "    \n",
    "\n",
    "stat_vals = np.log10(np.dstack(stat_vals)[0,...])\n",
    "f_mean = np.nanmedian(stat_vals, axis=1)\n",
    "f_16 = np.nanpercentile(stat_vals, 16, axis=1)\n",
    "f_84 = np.nanpercentile(stat_vals, 84, axis=1)\n",
    "    \n",
    "\n",
    "plt.plot(interped_marks, f_mean, color='r', label='$median$', zorder=100)\n",
    "plt.fill_between(interped_marks, f_16, f_84, color='r', alpha=0.45, label=\"$16^{th}-84^{th}$\", zorder=100)\n",
    "plt.legend()\n",
    "plt.show()"
   ]
  },
  {
   "cell_type": "code",
   "execution_count": 35,
   "metadata": {},
   "outputs": [],
   "source": [
    "with open('source_rs.csv', 'w') as f:\n",
    "    f.write(','.join([str(v) for v in interped_marks]) + '\\n')\n",
    "    for i in range(stat_vals.shape[1]):\n",
    "        f.write(','.join([str(v) for v in stat_vals[:,i]]) + '\\n')\n",
    "    f.write('---next is 16th,median,84th\\n')\n",
    "    for a in [f_16,f_mean,f_84]:\n",
    "        f.write(','.join([str(v) for v in a]) + '\\n')    "
   ]
  },
  {
   "cell_type": "code",
   "execution_count": 13,
   "metadata": {},
   "outputs": [
    {
     "data": {
      "text/plain": [
       "(1000, 500)"
      ]
     },
     "execution_count": 13,
     "metadata": {},
     "output_type": "execute_result"
    }
   ],
   "source": [
    "stat_vals.shape"
   ]
  },
  {
   "cell_type": "code",
   "execution_count": 127,
   "metadata": {},
   "outputs": [
    {
     "data": {
      "text/plain": [
       "array([[ nan,  nan],\n",
       "       [ nan,  nan]])"
      ]
     },
     "execution_count": 127,
     "metadata": {},
     "output_type": "execute_result"
    }
   ],
   "source": [
    "plt.scatter(res, ies)\n",
    "plt.xlabel('$R_e$')\n",
    "plt.ylabel('$I_e$')\n",
    "plt.title('$R_e$ $I_e$ Correlation')\n",
    "np.corrcoef(res, ies)"
   ]
  },
  {
   "cell_type": "code",
   "execution_count": 146,
   "metadata": {},
   "outputs": [],
   "source": [
    "valid_points = ~np.isnan(stat_vals).all(axis=1)\n",
    "\n",
    "X = interped_marks[valid_points]\n",
    "Y = f_mean[valid_points]\n",
    "a = f_84[valid_points] - f_mean[valid_points]\n",
    "\n",
    "vals = {'x':dt._nmpy_encode(X),\n",
    "        'y':dt._nmpy_encode(Y),\n",
    "        'a':dt._nmpy_encode(a)}\n",
    "with open('vals_for_gp.json', 'w') as f:\n",
    "    json.dump(vals,f)"
   ]
  },
  {
   "cell_type": "code",
   "execution_count": 21,
   "metadata": {},
   "outputs": [
    {
     "name": "stdout",
     "output_type": "stream",
     "text": [
      "(464,) (464,) (464,)\n"
     ]
    }
   ],
   "source": [
    "with open('vals_for_gp.json', 'r') as f:\n",
    "    vals = json.load(f)\n",
    "    \n",
    "X = dt._nmpy_decode(vals['x'])\n",
    "Y = dt._nmpy_decode(vals['y'])\n",
    "a = dt._nmpy_decode(vals['a'])\n",
    "\n",
    "print(X.shape, Y.shape, a.shape)"
   ]
  },
  {
   "cell_type": "code",
   "execution_count": 20,
   "metadata": {},
   "outputs": [],
   "source": [
    "upto=5"
   ]
  },
  {
   "cell_type": "code",
   "execution_count": 148,
   "metadata": {},
   "outputs": [
    {
     "name": "stdout",
     "output_type": "stream",
     "text": [
      "0 0 0\n"
     ]
    },
    {
     "data": {
      "text/plain": [
       "<matplotlib.legend.Legend at 0x7f00e1abc7b8>"
      ]
     },
     "execution_count": 148,
     "metadata": {},
     "output_type": "execute_result"
    }
   ],
   "source": [
    "# truncate lines from 5re and on\n",
    "upto = 5\n",
    "_X = X[X<=upto]\n",
    "_Y = Y[X<=upto]\n",
    "_a = a[X<=upto]\n",
    "tmp = _Y-_a\n",
    "\n",
    "\n",
    "plt.figure()\n",
    "\n",
    "print(np.isnan(_X).sum(), np.isnan(_Y).sum(), np.isnan(_a).sum())\n",
    "split_idx = 0#np.argmin(np.diff(_a))\n",
    "split_val = _X[split_idx]\n",
    "\n",
    "# fit and pad line to smooth\n",
    "plt.plot(_X[split_idx:],_Y[split_idx:], label='Measured Values')\n",
    "plt.fill_between(_X[split_idx:], tmp[split_idx:], _Y[split_idx:]+_a[split_idx:], alpha=0.2)\n",
    "\n",
    "_X = _X[split_idx:]\n",
    "_Y = _Y[split_idx:]\n",
    "_a = _a[split_idx:]\n",
    "\n",
    "_X, _Y = dt.pad_line(_X, _Y, 10, 10, append=False)\n",
    "_, _a = dt.pad_line(_X, _a, 10, 10, append=False)\n",
    "\n",
    "plt.plot(_X[_X<split_val], _Y[_X<split_val], '--', label='Linear Fit Values')\n",
    "plt.fill_between(_X[_X<split_val], _Y[_X<split_val]-_a[_X<split_val], _Y[_X<split_val]+_a[_X<split_val], alpha=0.2)\n",
    "\n",
    "plt.xlabel('$R/R_e$')\n",
    "plt.ylabel('$I/I_e (Log)$')\n",
    "plt.title('Measured Surface Brightness W/Linear Fit Projection')\n",
    "plt.legend()"
   ]
  },
  {
   "cell_type": "code",
   "execution_count": 149,
   "metadata": {},
   "outputs": [],
   "source": [
    "gp = GPHelper()\n",
    "gp.fit(_X[:,np.newaxis], _Y, _a, optimize='both')\n",
    "_x, std = gp.predict(_X[:, np.newaxis], return_std=True)"
   ]
  },
  {
   "cell_type": "code",
   "execution_count": 133,
   "metadata": {},
   "outputs": [
    {
     "data": {
      "text/plain": [
       "<matplotlib.legend.Legend at 0x7f00e746cbe0>"
      ]
     },
     "execution_count": 133,
     "metadata": {},
     "output_type": "execute_result"
    }
   ],
   "source": [
    "plt.figure()\n",
    "plt.plot(_X,_Y, label='GP Fit')\n",
    "plt.fill_between(_X, _Y-std, _Y+std, alpha=0.2)\n",
    "plt.legend()"
   ]
  },
  {
   "cell_type": "code",
   "execution_count": 24,
   "metadata": {},
   "outputs": [],
   "source": [
    "gp = GPHelper(restore_file='gp.json')"
   ]
  },
  {
   "cell_type": "code",
   "execution_count": 134,
   "metadata": {},
   "outputs": [],
   "source": [
    "test_vals = np.concatenate([np.linspace(0.01, 1, 10, endpoint=False), np.linspace(1, upto, upto*10)])"
   ]
  },
  {
   "cell_type": "code",
   "execution_count": 150,
   "metadata": {
    "scrolled": true
   },
   "outputs": [
    {
     "name": "stdout",
     "output_type": "stream",
     "text": [
      "0.0\n",
      "0.002ng Samples.    \n",
      "0.004ng Samples..   \n",
      "0.006ng Samples.    \n",
      "0.008ng Samples..   \n",
      "0.01ing Samples...  \n",
      "0.012ng Samples     \n",
      "0.014ng Samples     \n",
      "0.016ng Samples..   \n",
      "0.018ng Samples...  \n",
      "0.02ing Samples     \n",
      "0.022ng Samples.    \n",
      "0.024ng Samples..   \n",
      "0.026ng Samples...  \n",
      "0.028ng Samples     \n",
      "0.03ing Samples..   \n",
      "0.032ng Samples...  \n",
      "0.034ng Samples.    \n",
      "0.036ng Samples.    \n",
      "0.038ng Samples.    \n",
      "0.04ing Samples     \n",
      "0.042ng Samples...  \n",
      "0.044ng Samples...  \n",
      "0.046ng Samples.    \n",
      "0.048ng Samples..   \n",
      "0.05ing Samples     \n",
      "0.052ng Samples..   \n",
      "0.054ng Samples...  \n",
      "0.056ng Samples...  \n",
      "0.058ng Samples     \n",
      "0.06ing Samples...  \n",
      "0.062ng Samples..   \n",
      "0.064ng Samples..   \n",
      "0.066ng Samples     \n",
      "0.068ng Samples...  \n",
      "0.07ing Samples...  \n",
      "0.072ng Samples...  \n",
      "0.074ng Samples...  \n",
      "0.076ng Samples...  \n",
      "0.078ng Samples     \n",
      "0.08ing Samples.    \n",
      "0.082ng Samples     \n",
      "0.084ng Samples..   \n",
      "0.086ng Samples..   \n",
      "0.088ng Samples...  \n",
      "0.09ing Samples...  \n",
      "0.092ng Samples...  \n",
      "0.094ng Samples..   \n",
      "0.096ng Samples     \n",
      "0.098ng Samples...  \n",
      "0.1wing Samples..   \n",
      "0.102ng Samples.    \n",
      "0.104ng Samples.    \n",
      "0.106ng Samples..   \n",
      "0.108ng Samples..   \n",
      "0.11ing Samples.    \n",
      "0.112ng Samples     \n",
      "0.114ng Samples.    \n",
      "0.116ng Samples..   \n",
      "0.118ng Samples..   \n",
      "0.12ing Samples.    \n",
      "0.122ng Samples...  \n",
      "0.124ng Samples     \n",
      "0.126ng Samples.    \n",
      "0.128ng Samples     \n",
      "0.13ing Samples.    \n",
      "0.132ng Samples...  \n",
      "0.134ng Samples..   \n",
      "0.136ng Samples.    \n",
      "0.138ng Samples..   \n",
      "0.14ing Samples     \n",
      "0.142ng Samples...  \n",
      "0.144ng Samples.    \n",
      "0.146ng Samples...  \n",
      "0.148ng Samples.    \n",
      "0.15ing Samples     \n",
      "0.152ng Samples     \n",
      "0.154ng Samples     \n",
      "0.156ng Samples..   \n",
      "0.158ng Samples...  \n",
      "0.16ing Samples     \n",
      "0.162ng Samples     \n",
      "0.164ng Samples..   \n",
      "0.166ng Samples...  \n",
      "0.168ng Samples.    \n",
      "0.17ing Samples.    \n",
      "0.172ng Samples     \n",
      "0.174ng Samples...  \n",
      "0.176ng Samples     \n",
      "0.178ng Samples.    \n",
      "0.18ing Samples...  \n",
      "0.182ng Samples...  \n",
      "0.184ng Samples...  \n",
      "0.186ng Samples...  \n",
      "0.188ng Samples..   \n",
      "0.19ing Samples..   \n",
      "0.192ng Samples..   \n",
      "0.194ng Samples...  \n",
      "0.196ng Samples     \n",
      "0.198ng Samples     \n",
      "0.2wing Samples.    \n",
      "0.202ng Samples..   \n",
      "0.204ng Samples     \n",
      "0.206ng Samples..   \n",
      "0.208ng Samples...  \n",
      "0.21ing Samples     \n",
      "0.212ng Samples.    \n",
      "0.214ng Samples.    \n",
      "0.216ng Samples.    \n",
      "0.218ng Samples     \n",
      "0.22ing Samples..   \n",
      "0.222ng Samples...  \n",
      "0.224ng Samples...  \n",
      "0.226ng Samples..   \n",
      "0.228ng Samples...  \n",
      "0.23ing Samples.    \n",
      "0.232ng Samples.    \n",
      "0.234ng Samples     \n",
      "0.236ng Samples..   \n",
      "0.238ng Samples.    \n",
      "0.24ing Samples.    \n",
      "0.242ng Samples.    \n",
      "0.244ng Samples..   \n",
      "0.246\n",
      "0.248ng Samples     \n",
      "0.25ing Samples     \n",
      "0.252ng Samples..   \n",
      "0.254ng Samples.    \n",
      "0.256ng Samples..   \n",
      "0.258ng Samples     \n",
      "0.26ing Samples.    \n",
      "0.262ng Samples...  \n",
      "0.264ng Samples...  \n",
      "0.266ng Samples..   \n",
      "0.268ng Samples     \n",
      "0.27ing Samples     \n",
      "0.272ng Samples..   \n",
      "0.274ng Samples..   \n",
      "0.276ng Samples.    \n",
      "0.278ng Samples     \n",
      "0.28ing Samples..   \n",
      "0.282ng Samples     \n",
      "0.284ng Samples.    \n",
      "0.286ng Samples     \n",
      "0.288ng Samples     \n",
      "0.29ing Samples...  \n",
      "0.292ng Samples.    \n",
      "0.294ng Samples.    \n",
      "0.296ng Samples.    \n",
      "0.298ng Samples.    \n",
      "0.3wing Samples..   \n",
      "0.302ng Samples..   \n",
      "0.304ng Samples...  \n",
      "0.306ng Samples...  \n",
      "0.308ng Samples..   \n",
      "0.31ing Samples...  \n",
      "0.312ng Samples.    \n",
      "0.314ng Samples.    \n",
      "0.316ng Samples.    \n",
      "0.318\n",
      "0.32ing Samples...  \n",
      "0.322ng Samples.    \n",
      "0.324ng Samples..   \n",
      "0.326ng Samples.    \n",
      "0.328ng Samples...  \n",
      "0.33ing Samples...  \n",
      "0.332ng Samples...  \n",
      "0.334ng Samples.    \n",
      "0.336ng Samples.    \n",
      "0.338ng Samples     \n",
      "0.34ing Samples..   \n",
      "0.342ng Samples...  \n",
      "0.344ng Samples...  \n",
      "0.346\n",
      "0.348ng Samples.    \n",
      "0.35ing Samples.    \n",
      "0.352ng Samples.    \n",
      "0.354ng Samples...  \n",
      "0.356ng Samples     \n",
      "0.358ng Samples...  \n",
      "0.36ing Samples...  \n",
      "0.362ng Samples..   \n",
      "0.364ng Samples...  \n",
      "0.366ng Samples..   \n",
      "0.368ng Samples...  \n",
      "0.37ing Samples...  \n",
      "0.372ng Samples.    \n",
      "0.374ng Samples..   \n",
      "0.376ng Samples...  \n",
      "0.378ng Samples..   \n",
      "0.38ing Samples.    \n",
      "0.382ng Samples...  \n",
      "0.384ng Samples..   \n",
      "0.386ng Samples..   \n",
      "0.388ng Samples..   \n",
      "0.39ing Samples..   \n",
      "0.392ng Samples.    \n",
      "0.394ng Samples...  \n",
      "0.396ng Samples     \n",
      "0.398ng Samples..   \n",
      "0.4wing Samples...  \n",
      "0.402ng Samples...  \n",
      "0.404ng Samples..   \n",
      "0.406ng Samples     \n",
      "0.408ng Samples     \n",
      "0.41ing Samples..   \n",
      "0.412ng Samples     \n",
      "0.414ng Samples..   \n",
      "0.416ng Samples..   \n",
      "0.418ng Samples..   \n",
      "0.42ing Samples.    \n",
      "0.422ng Samples     \n",
      "0.424ng Samples..   \n",
      "0.426ng Samples...  \n",
      "0.428ng Samples.    \n",
      "0.43ing Samples..   \n",
      "0.432\n",
      "0.434ng Samples..   \n",
      "0.436ng Samples..   \n",
      "0.438ng Samples     \n",
      "0.44ing Samples..   \n",
      "0.442ng Samples..   \n",
      "0.444ng Samples     \n",
      "0.446\n",
      "0.448ng Samples     \n",
      "0.45ing Samples.    \n",
      "0.452ng Samples     \n",
      "0.454ng Samples.    \n",
      "0.456ng Samples...  \n",
      "0.458ng Samples..   \n",
      "0.46ing Samples     \n",
      "0.462ng Samples..   \n",
      "0.464ng Samples..   \n",
      "0.466ng Samples...  \n",
      "0.468ng Samples...  \n",
      "0.47ing Samples.    \n",
      "0.472ng Samples...  \n",
      "0.474ng Samples.    \n",
      "0.476ng Samples     \n",
      "0.478ng Samples..   \n",
      "0.48ing Samples..   \n",
      "0.482ng Samples.    \n",
      "0.484ng Samples...  \n",
      "0.486ng Samples...  \n",
      "0.488ng Samples...  \n",
      "0.49ing Samples.    \n",
      "0.492ng Samples...  \n",
      "0.494ng Samples..   \n",
      "0.496ng Samples...  \n",
      "0.498ng Samples...  \n",
      "0.5wing Samples.    \n",
      "0.502ng Samples     \n",
      "0.504ng Samples...  \n",
      "0.506ng Samples..   \n",
      "0.508ng Samples..   \n",
      "0.51ing Samples...  \n",
      "0.512ng Samples...  \n",
      "0.514ng Samples.    \n",
      "0.516ng Samples..   \n",
      "0.518ng Samples     \n",
      "0.52ing Samples...  \n",
      "0.522ng Samples...  \n",
      "0.524ng Samples..   \n",
      "0.526ng Samples     \n",
      "0.528ng Samples     \n",
      "0.53ing Samples     \n",
      "0.532ng Samples     \n",
      "0.534ng Samples..   \n",
      "0.536ng Samples     \n",
      "0.538ng Samples..   \n",
      "0.54ing Samples     \n",
      "0.542ng Samples...  \n",
      "0.544ng Samples     \n",
      "0.546ng Samples.    \n",
      "0.548ng Samples.    \n",
      "0.55ing Samples..   \n",
      "0.552ng Samples     \n",
      "0.554ng Samples..   \n",
      "0.556ng Samples..   \n",
      "0.558ng Samples     \n",
      "0.56ing Samples...  \n",
      "0.562ng Samples     \n",
      "0.564ng Samples...  \n",
      "0.566ng Samples.    \n",
      "0.568ng Samples..   \n",
      "0.57ing Samples...  \n",
      "0.572ng Samples     \n",
      "0.574ng Samples.    \n",
      "0.576ng Samples..   \n",
      "0.578ng Samples.    \n",
      "0.58ing Samples.    \n",
      "0.582ng Samples     \n",
      "0.584ng Samples...  \n",
      "0.586ng Samples...  \n",
      "0.588\n",
      "0.59ing Samples...  \n",
      "0.592ng Samples..   \n",
      "0.594ng Samples.    \n",
      "0.596ng Samples..   \n",
      "0.598ng Samples...  \n",
      "0.6wing Samples...  \n",
      "0.602ng Samples...  \n",
      "0.604ng Samples...  \n",
      "0.606ng Samples...  \n",
      "0.608ng Samples...  \n",
      "0.61ing Samples..   \n",
      "0.612ng Samples...  \n",
      "0.614ng Samples     \n",
      "0.616ng Samples...  \n",
      "0.618ng Samples..   \n",
      "0.62ing Samples.    \n",
      "0.622ng Samples     \n",
      "0.624ng Samples..   \n",
      "0.626ng Samples.    \n",
      "0.628ng Samples     \n",
      "0.63ing Samples...  \n",
      "0.632ng Samples.    \n",
      "0.634ng Samples...  \n",
      "0.636ng Samples...  \n",
      "0.638ng Samples     \n",
      "0.64ing Samples     \n",
      "0.642ng Samples.    \n",
      "0.644ng Samples     \n",
      "0.646ng Samples...  \n",
      "0.648ng Samples..   \n",
      "0.65ing Samples..   \n",
      "0.652ng Samples..   \n",
      "0.654ng Samples.    \n",
      "0.656ng Samples.    \n",
      "0.658ng Samples.    \n",
      "0.66ing Samples..   \n",
      "0.662ng Samples     \n",
      "0.664ng Samples...  \n",
      "0.666ng Samples...  \n",
      "0.668ng Samples..   \n",
      "0.67ing Samples.    \n",
      "0.672ng Samples.    \n",
      "0.674ng Samples...  \n",
      "0.676ng Samples...  \n",
      "0.678ng Samples.    \n",
      "0.68ing Samples     \n",
      "0.682ng Samples...  \n",
      "0.684ng Samples.    \n",
      "0.686ng Samples...  \n",
      "0.688ng Samples.    \n",
      "0.69ing Samples...  \n",
      "0.692ng Samples...  \n",
      "0.694ng Samples...  \n",
      "0.696ng Samples.    \n",
      "0.698ng Samples...  \n",
      "0.7wing Samples...  \n",
      "0.702ng Samples..   \n",
      "0.704ng Samples..   \n",
      "0.706ng Samples..   \n",
      "0.708ng Samples.    \n",
      "0.71ing Samples     \n",
      "0.712ng Samples.    \n",
      "0.714ng Samples.    \n",
      "0.716ng Samples.    \n",
      "0.718ng Samples.    \n",
      "0.72ing Samples     \n",
      "0.722ng Samples..   \n",
      "0.724ng Samples..   \n",
      "0.726ng Samples     \n",
      "0.728ng Samples...  \n",
      "0.73ing Samples     \n",
      "0.732ng Samples..   \n",
      "0.734ng Samples     \n",
      "0.736ng Samples.    \n",
      "0.738ng Samples.    \n",
      "0.74ing Samples.    \n",
      "0.742ng Samples.    \n",
      "0.744ng Samples..   \n",
      "0.746ng Samples..   \n",
      "0.748ng Samples..   \n",
      "0.75ing Samples...  \n",
      "0.752ng Samples...  \n",
      "0.754ng Samples     \n",
      "0.756ng Samples.    \n",
      "0.758ng Samples...  \n",
      "0.76ing Samples...  \n",
      "0.762ng Samples.    \n",
      "0.764ng Samples...  \n",
      "0.766ng Samples     \n",
      "0.768ng Samples..   \n",
      "0.77ing Samples...  \n",
      "0.772ng Samples...  \n",
      "0.774ng Samples..   \n",
      "0.776ng Samples     \n",
      "0.778ng Samples..   \n",
      "0.78ing Samples.    \n",
      "0.782ng Samples     \n",
      "0.784ng Samples.    \n",
      "0.786ng Samples...  \n",
      "0.788ng Samples...  \n",
      "0.79ing Samples..   \n",
      "0.792ng Samples..   \n"
     ]
    },
    {
     "name": "stdout",
     "output_type": "stream",
     "text": [
      "0.794ng Samples.    \n",
      "0.796ng Samples...  \n",
      "0.798ng Samples...  \n",
      "0.8wing Samples.    \n",
      "0.802ng Samples     \n",
      "0.804ng Samples     \n",
      "0.806ng Samples.    \n",
      "0.808ng Samples     \n",
      "0.81ing Samples...  \n",
      "0.812ng Samples..   \n",
      "0.814ng Samples.    \n",
      "0.816ng Samples...  \n",
      "0.818ng Samples.    \n",
      "0.82ing Samples...  \n",
      "0.822ng Samples..   \n",
      "0.824ng Samples.    \n",
      "0.826ng Samples...  \n",
      "0.828ng Samples..   \n",
      "0.83ing Samples     \n",
      "0.832ng Samples...  \n",
      "0.834ng Samples.    \n",
      "0.836ng Samples.    \n",
      "0.838\n",
      "0.84ing Samples...  \n",
      "0.842ng Samples..   \n",
      "0.844ng Samples.    \n",
      "0.846ng Samples...  \n",
      "0.848\n",
      "0.85ing Samples..   \n",
      "0.852ng Samples.    \n",
      "0.854ng Samples..   \n",
      "0.856ng Samples.    \n",
      "0.858ng Samples..   \n",
      "0.86ing Samples.    \n",
      "0.862ng Samples.    \n",
      "0.864ng Samples..   \n",
      "0.866ng Samples     \n",
      "0.868ng Samples     \n",
      "0.87ing Samples...  \n",
      "0.872ng Samples..   \n",
      "0.874ng Samples     \n",
      "0.876ng Samples..   \n",
      "0.878ng Samples..   \n",
      "0.88ing Samples..   \n",
      "0.882ng Samples..   \n",
      "0.884ng Samples..   \n",
      "0.886ng Samples...  \n",
      "0.888ng Samples     \n",
      "0.89ing Samples..   \n",
      "0.892ng Samples...  \n",
      "0.894ng Samples..   \n",
      "0.896ng Samples..   \n",
      "0.898ng Samples...  \n",
      "0.9wing Samples..   \n",
      "0.902ng Samples...  \n",
      "0.904ng Samples.    \n",
      "0.906ng Samples...  \n",
      "0.908ng Samples..   \n",
      "0.91ing Samples.    \n",
      "0.912ng Samples     \n",
      "0.914ng Samples...  \n",
      "0.916ng Samples..   \n",
      "0.918ng Samples     \n",
      "0.92ing Samples...  \n",
      "0.922ng Samples     \n",
      "0.924ng Samples...  \n",
      "0.926ng Samples     \n",
      "0.928ng Samples...  \n",
      "0.93ing Samples...  \n",
      "0.932ng Samples..   \n",
      "0.934ng Samples.    \n",
      "0.936ng Samples     \n",
      "0.938ng Samples     \n",
      "0.94ing Samples     \n",
      "0.942ng Samples...  \n",
      "0.944ng Samples     \n",
      "0.946ng Samples..   \n",
      "0.948ng Samples.    \n",
      "0.95ing Samples.    \n",
      "0.952ng Samples...  \n",
      "0.954ng Samples...  \n",
      "0.956ng Samples.    \n",
      "0.958ng Samples...  \n",
      "0.96ing Samples...  \n",
      "0.962ng Samples.    \n",
      "0.964\n",
      "0.966ng Samples.    \n",
      "0.968ng Samples     \n",
      "0.97ing Samples...  \n",
      "0.972ng Samples..   \n",
      "0.974ng Samples     \n",
      "0.976ng Samples..   \n",
      "0.978\n",
      "0.98ing Samples..   \n",
      "0.982ng Samples.    \n",
      "0.984ng Samples     \n",
      "0.986ng Samples..   \n",
      "0.988ng Samples.    \n",
      "0.99ing Samples.    \n",
      "0.992ng Samples...  \n",
      "0.994ng Samples.    \n",
      "0.996ng Samples.    \n",
      "0.998ng Samples.    \n",
      "Drawing Samples.    \r"
     ]
    }
   ],
   "source": [
    "#samples = gp.sample(test_vals[:,np.newaxis], num_samples=500)\n",
    "samples = []\n",
    "for i in range(500):\n",
    "    print(i/500)\n",
    "    samples.append(gp.sample(test_vals[:,np.newaxis]))"
   ]
  },
  {
   "cell_type": "code",
   "execution_count": 152,
   "metadata": {},
   "outputs": [],
   "source": [
    "samples = np.stack(samples)"
   ]
  },
  {
   "cell_type": "code",
   "execution_count": 153,
   "metadata": {},
   "outputs": [
    {
     "data": {
      "text/plain": [
       "(500, 60, 1)"
      ]
     },
     "execution_count": 153,
     "metadata": {},
     "output_type": "execute_result"
    }
   ],
   "source": [
    "samples.shape"
   ]
  },
  {
   "cell_type": "code",
   "execution_count": 37,
   "metadata": {},
   "outputs": [
    {
     "data": {
      "text/plain": [
       "(60,)"
      ]
     },
     "execution_count": 37,
     "metadata": {},
     "output_type": "execute_result"
    }
   ],
   "source": [
    "np.percentile(samples, 16, axis=0).shape"
   ]
  },
  {
   "cell_type": "code",
   "execution_count": 39,
   "metadata": {},
   "outputs": [],
   "source": [
    "with open('gp_vals.csv', 'w') as f:\n",
    "    f.write(','.join([str(v) for v in test_vals]) + '\\n')\n",
    "    \n",
    "    for i in range(500):\n",
    "        f.write(','.join([str(v) for v in samples[i,:]]) + '\\n')\n",
    "    \n",
    "    f.write('---next is 16th,median,84th\\n')\n",
    "    for i in [16, 50, 84]:\n",
    "        f.write(','.join([str(v) for v in np.percentile(samples, i, axis=0)]))"
   ]
  },
  {
   "cell_type": "code",
   "execution_count": 26,
   "metadata": {},
   "outputs": [
    {
     "ename": "AttributeError",
     "evalue": "'list' object has no attribute 'shape'",
     "output_type": "error",
     "traceback": [
      "\u001b[0;31m---------------------------------------------------------------------------\u001b[0m",
      "\u001b[0;31mAttributeError\u001b[0m                            Traceback (most recent call last)",
      "\u001b[0;32m<ipython-input-26-f14be1164182>\u001b[0m in \u001b[0;36m<module>\u001b[0;34m()\u001b[0m\n\u001b[1;32m      3\u001b[0m \u001b[0mplt\u001b[0m\u001b[0;34m.\u001b[0m\u001b[0mylabel\u001b[0m\u001b[0;34m(\u001b[0m\u001b[0;34m'$I/I_e$ (Log)'\u001b[0m\u001b[0;34m)\u001b[0m\u001b[0;34m\u001b[0m\u001b[0m\n\u001b[1;32m      4\u001b[0m \u001b[0;34m\u001b[0m\u001b[0m\n\u001b[0;32m----> 5\u001b[0;31m \u001b[0;32mfor\u001b[0m \u001b[0mi\u001b[0m \u001b[0;32min\u001b[0m \u001b[0mrange\u001b[0m\u001b[0;34m(\u001b[0m\u001b[0msamples\u001b[0m\u001b[0;34m.\u001b[0m\u001b[0mshape\u001b[0m\u001b[0;34m[\u001b[0m\u001b[0;36m0\u001b[0m\u001b[0;34m]\u001b[0m\u001b[0;34m)\u001b[0m\u001b[0;34m:\u001b[0m\u001b[0;34m\u001b[0m\u001b[0m\n\u001b[0m\u001b[1;32m      6\u001b[0m     \u001b[0mplt\u001b[0m\u001b[0;34m.\u001b[0m\u001b[0mplot\u001b[0m\u001b[0;34m(\u001b[0m\u001b[0mtest_vals\u001b[0m\u001b[0;34m,\u001b[0m \u001b[0msamples\u001b[0m\u001b[0;34m[\u001b[0m\u001b[0mi\u001b[0m\u001b[0;34m,\u001b[0m\u001b[0;34m:\u001b[0m\u001b[0;34m,\u001b[0m\u001b[0;36m0\u001b[0m\u001b[0;34m]\u001b[0m\u001b[0;34m,\u001b[0m \u001b[0mcolor\u001b[0m\u001b[0;34m=\u001b[0m\u001b[0;34m'b'\u001b[0m\u001b[0;34m,\u001b[0m \u001b[0malpha\u001b[0m\u001b[0;34m=\u001b[0m\u001b[0;36m0.2\u001b[0m\u001b[0;34m)\u001b[0m\u001b[0;34m\u001b[0m\u001b[0m\n",
      "\u001b[0;31mAttributeError\u001b[0m: 'list' object has no attribute 'shape'"
     ]
    }
   ],
   "source": [
    "plt.title('GP 500 Samples')\n",
    "plt.xlabel('$R/R_e$')\n",
    "plt.ylabel('$I/I_e$ (Log)')\n",
    "\n",
    "for i in range(samples.shape[0]):\n",
    "    plt.plot(test_vals, samples[i,:,0], color='b', alpha=0.2)"
   ]
  },
  {
   "cell_type": "code",
   "execution_count": 171,
   "metadata": {},
   "outputs": [],
   "source": [
    "x = test_vals\n",
    "gp_res = []\n",
    "etas_rrp = []\n",
    "rp_comp = []\n",
    "plt.figure()\n",
    "plt.title(\"R vs 1/$\\eta(R)$\")\n",
    "plt.xlabel(\"1/$\\eta(R)$\")\n",
    "plt.ylabel(\"R\")\n",
    "for (_, _, re, _, R_p_i, ie, _, _), fs in zip(processed, list(samples[:,:,0])):\n",
    "    fs = 10**fs * ie\n",
    "    rs = x * R_p_i\n",
    "\n",
    "    L = np.zeros_like(fs)\n",
    "    L[0] = np.pi*rs[0]**2  * fs[0]\n",
    "    for i in range(1,len(fs),1):\n",
    "        L[i] = L[i-1] + np.pi*(rs[i]**2 - rs[i-1]**2)*fs[i]\n",
    "\n",
    "    A = np.pi * rs**2\n",
    "    etas = fs*A/L\n",
    "    r_lim = rs<20.0\n",
    "    mono_dec = np.argmax(np.diff(etas)>=0)\n",
    "    mono_dec = np.arange(len(etas))<mono_dec\n",
    "    r_lim = np.logical_and(r_lim, mono_dec)\n",
    "    \n",
    "    R_p = np.interp(0.2, np.flipud(etas[r_lim]), np.flipud(rs[r_lim]))\n",
    "    plt.plot(etas[r_lim], rs[r_lim])\n",
    "\n",
    "    Fp_idx = np.square(rs - 2*R_p).argmin()\n",
    "    F_p = np.cumsum(L[:Fp_idx]/L[:Fp_idx].sum())\n",
    "    R_50 = np.interp(.5, F_p, rs[:Fp_idx])\n",
    "    R_90 = np.interp(.9, F_p, rs[:Fp_idx])\n",
    "    \n",
    "    \n",
    "    P3, P4 = 8e-6, 8.47\n",
    "    gp_re = R_50 / (1 - P3 * (R_90 / R_50)**P4)\n",
    "    ie = np.interp(re, rs, fs)\n",
    "    \n",
    "    gp_res.append((re, gp_re))\n",
    "    etas_rrp.append((rs/R_p, etas))\n",
    "    rp_comp.append((R_p_i, R_p))"
   ]
  },
  {
   "cell_type": "code",
   "execution_count": 172,
   "metadata": {},
   "outputs": [],
   "source": [
    "plt.figure()\n",
    "plt.title('Data $R_p$ vs Model $R_p$')\n",
    "plt.xlabel('Data $R_p$')\n",
    "plt.ylabel('Model $R_p$')\n",
    "\n",
    "data_rp, model_rp = zip(*rp_comp)\n",
    "plt.scatter(data_rp, model_rp)\n",
    "plt.plot()\n",
    "mx = np.ceil(max(max(r), max(gr)))\n",
    "mn = np.floor(min(min(r), min(gr)))\n",
    "plt.plot(np.arange(mn, mx), np.arange(mn, mx), color='c')\n",
    "plt.legend()"
   ]
  },
  {
   "cell_type": "code",
   "execution_count": 114,
   "metadata": {},
   "outputs": [],
   "source": [
    "plt.figure()\n",
    "plt.title('1/$\\eta(R)$ and $R/R_p$ - Model')\n",
    "plt.ylabel('1/$\\eta(R)$')\n",
    "plt.xlabel('$R/R_p$')\n",
    "for r, f in etas_rrp:\n",
    "    plt.plot(r, f, color='b', alpha=0.2)"
   ]
  },
  {
   "cell_type": "code",
   "execution_count": 165,
   "metadata": {},
   "outputs": [
    {
     "data": {
      "text/plain": [
       "[<matplotlib.lines.Line2D at 0x7f00e4196c88>]"
      ]
     },
     "execution_count": 165,
     "metadata": {},
     "output_type": "execute_result"
    }
   ],
   "source": [
    "plt.figure()\n",
    "r, gr = zip(*gp_res)\n",
    "plt.title('Input $R_e$ vs Measured $R_e$ - GP Generated SBP')\n",
    "plt.xlabel('Input $R_e$')\n",
    "plt.ylabel('Measured $R_e$')\n",
    "plt.scatter(r, gr, color='b')\n",
    "mx = np.ceil(max(max(r), max(gr)))\n",
    "mn = np.floor(min(min(r), min(gr)))\n",
    "plt.plot(np.arange(mn, mx), np.arange(mn, mx), color='c')"
   ]
  },
  {
   "cell_type": "code",
   "execution_count": 84,
   "metadata": {},
   "outputs": [
    {
     "name": "stdout",
     "output_type": "stream",
     "text": [
      "500 500\n"
     ]
    },
    {
     "data": {
      "text/plain": [
       "<matplotlib.legend.Legend at 0x7f66704cb6a0>"
      ]
     },
     "execution_count": 84,
     "metadata": {},
     "output_type": "execute_result"
    }
   ],
   "source": [
    "print(len(res), len(gp_res))\n",
    "plt.hist(res, bins=40, alpha=0.5, label='Data')\n",
    "#plt.hist(new_res, bins=40, alpha=0.5, label='Line Measured')\n",
    "#plt.figure()\n",
    "plt.hist(gp_res, bins=40, alpha=0.5, label='GP')\n",
    "plt.xlabel(\"Effective Radius\")\n",
    "plt.legend()"
   ]
  },
  {
   "cell_type": "code",
   "execution_count": 75,
   "metadata": {},
   "outputs": [
    {
     "data": {
      "text/plain": [
       "<matplotlib.image.AxesImage at 0x7f667119d278>"
      ]
     },
     "execution_count": 75,
     "metadata": {},
     "output_type": "execute_result"
    }
   ],
   "source": [
    "xs, ys = np.meshgrid(np.arange(84), np.arange(84))\n",
    "cxy = 42\n",
    "rs = np.sqrt((xs-cxy)**2 + (ys-cxy)**2)\n",
    "\n",
    "s = samples[5,:]\n",
    "_, _, re, ie = processed[35]\n",
    "rs = rs/re\n",
    "fs = s*ie\n",
    "\n",
    "\n",
    "fs = np.interp(rs.flatten(), test_vals, fs).reshape([84,84])\n",
    "plt.imshow(fs, cmap='gray')"
   ]
  },
  {
   "cell_type": "code",
   "execution_count": 76,
   "metadata": {},
   "outputs": [
    {
     "data": {
      "text/plain": [
       "<matplotlib.image.AxesImage at 0x7f6670f570f0>"
      ]
     },
     "execution_count": 76,
     "metadata": {},
     "output_type": "execute_result"
    }
   ],
   "source": [
    "img, segmap, img_id = spheroids[1]\n",
    "\n",
    "noise = img[segmap==0]\n",
    "\n",
    "frame = np.zeros([84,84])\n",
    "np.place(frame, np.ones_like(frame), noise)\n",
    "np.random.shuffle(frame)\n",
    "plt.imshow(frame, cmap='gray')"
   ]
  },
  {
   "cell_type": "code",
   "execution_count": 81,
   "metadata": {},
   "outputs": [
    {
     "data": {
      "text/plain": [
       "<matplotlib.image.AxesImage at 0x7f66707e5208>"
      ]
     },
     "execution_count": 81,
     "metadata": {},
     "output_type": "execute_result"
    }
   ],
   "source": [
    "plt.imshow(fs+(frame*0.06), cmap='gray')"
   ]
  },
  {
   "cell_type": "code",
   "execution_count": 82,
   "metadata": {},
   "outputs": [],
   "source": [
    "fits.PrimaryHDU(frame).writeto('noise_bank.fits')\n",
    "fits.PrimaryHDU(fs).writeto('gp_img.fits')\n",
    "fits.PrimaryHDU(fs+(frame*0.06)).writeto('gp_with_noise.fits')"
   ]
  }
 ],
 "metadata": {
  "kernelspec": {
   "display_name": "Python [default]",
   "language": "python",
   "name": "python3"
  },
  "language_info": {
   "codemirror_mode": {
    "name": "ipython",
    "version": 3
   },
   "file_extension": ".py",
   "mimetype": "text/x-python",
   "name": "python",
   "nbconvert_exporter": "python",
   "pygments_lexer": "ipython3",
   "version": "3.6.2"
  }
 },
 "nbformat": 4,
 "nbformat_minor": 2
}
