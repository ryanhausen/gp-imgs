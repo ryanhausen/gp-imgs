{
 "cells": [
  {
   "cell_type": "markdown",
   "metadata": {},
   "source": [
    "# Update Gaussian Process"
   ]
  },
  {
   "cell_type": "markdown",
   "metadata": {},
   "source": [
    "### Fit Gaussian Process To H band\n",
    "![h-fit](gp_h1.png)"
   ]
  },
  {
   "cell_type": "markdown",
   "metadata": {
    "collapsed": true
   },
   "source": [
    "### Fit Gaussian Process To J/H\n",
    "\n",
    "![gp-j](gp_j.png) \n",
    "![gp-j-samples](gp_j_samples.png)\n",
    "![gp-j-samples-smooth](gp_j_samples_smooth.png)"
   ]
  },
  {
   "cell_type": "markdown",
   "metadata": {
    "collapsed": true
   },
   "source": [
    "### Fit Gaussian Process To V/H\n",
    "\n",
    "![gp-v](gp_v.png) \n",
    "![gp-v-samples](gp_v_samples.png)\n",
    "![gp-v-samples-smooth](gp_v_samples_smooth.png)"
   ]
  },
  {
   "cell_type": "markdown",
   "metadata": {
    "collapsed": true
   },
   "source": [
    "### Fit Gaussian Process To Z/H\n",
    "\n",
    "![gp-z](gp_z.png) \n",
    "![gp-z-samples](gp_z_samples.png)\n",
    "![gp-z-samples-smooth](gp_z_samples_smooth.png)"
   ]
  },
  {
   "cell_type": "markdown",
   "metadata": {},
   "source": [
    "### Histograms of Scaling Values \n",
    "\n",
    "![j-hist](j_hist.png)\n",
    "![v-hist](v_hist.png)\n",
    "![z-hist](z_hist.png)"
   ]
  },
  {
   "cell_type": "code",
   "execution_count": 13,
   "metadata": {
    "collapsed": true
   },
   "outputs": [],
   "source": [
    "from __future__ import division, print_function\n",
    "\n",
    "# adds parent dir to python path\n",
    "import sys\n",
    "sys.path.insert(0, '..')\n",
    "\n",
    "import json\n",
    "\n",
    "import numpy as np\n",
    "import matplotlib.pyplot as plt\n",
    "%matplotlib inline\n",
    "\n",
    "import gphelper as gp\n",
    "import DataTools as dt"
   ]
  },
  {
   "cell_type": "code",
   "execution_count": 45,
   "metadata": {
    "scrolled": true
   },
   "outputs": [
    {
     "name": "stderr",
     "output_type": "stream",
     "text": [
      "/home/ryanhausen/anaconda3/lib/python3.6/site-packages/sklearn/gaussian_process/gpr.py:339: RuntimeWarning: covariance is not positive-semidefinite.\n",
      "  y_samples = rng.multivariate_normal(y_mean, y_cov, n_samples).T\n"
     ]
    },
    {
     "name": "stdout",
     "output_type": "stream",
     "text": [
      "Drawing Samples     \r"
     ]
    }
   ],
   "source": [
    "import importlib\n",
    "importlib.reload(gp)\n",
    "\n",
    "with open('./gp-models/band_ratio_scales.json', 'r') as f:\n",
    "    band_scales = json.load(f)\n",
    "    band_scales = {b:dt._nmpy_decode(band_scales[b]) for b in band_scales.keys()}\n",
    "\n",
    "\n",
    "h_model = gp.GPHelper(restore_file='./gp-models/gp_h.json')\n",
    "x = h_model.X\n",
    "h_line = h_model.sample(h_model.X)\n",
    "\n",
    "idx = np.random.randint(0, len(band_scales['j']))\n",
    "j_model = gp.GPHelper(restore_file='./gp-models/gp_j.json')\n",
    "j_line = j_model.sample(x, smooth=False, monotonic=False)\n",
    "j_scale = band_scales['j'][idx]\n",
    "\n",
    "v_model = gp.GPHelper(restore_file='./gp-models/gp_v.json')\n",
    "v_line = v_model.sample(x, smooth=True, monotonic=False)\n",
    "v_scale = band_scales['v'][idx]\n",
    "\n",
    "z_model = gp.GPHelper(restore_file='./gp-models/gp_z.json')\n",
    "z_line = z_model.sample(x, smooth=True, monotonic=False)\n",
    "z_scale = band_scales['z'][idx]"
   ]
  },
  {
   "cell_type": "code",
   "execution_count": 46,
   "metadata": {},
   "outputs": [
    {
     "data": {
      "text/plain": [
       "<matplotlib.legend.Legend at 0x7fa166bdd7f0>"
      ]
     },
     "execution_count": 46,
     "metadata": {},
     "output_type": "execute_result"
    },
    {
     "data": {
      "image/png": "[encoded data removed]",
      "text/plain": [
       "<matplotlib.figure.Figure at 0x7fa166ccf278>"
      ]
     },
     "metadata": {},
     "output_type": "display_data"
    }
   ],
   "source": [
    "plt.title('Sample Line')\n",
    "plt.ylabel('$I/I_e$')\n",
    "plt.xlabel('$R/R_e$')\n",
    "plt.semilogy(x, h_line, label='H')\n",
    "plt.semilogy(x, h_line*j_line*j_scale, label='J')\n",
    "plt.semilogy(x, h_line*v_line*v_scale, label='V')\n",
    "plt.semilogy(x, h_line*z_line*z_scale, label='Z')\n",
    "plt.legend()"
   ]
  }
 ],
 "metadata": {
  "kernelspec": {
   "display_name": "Python 3",
   "language": "python",
   "name": "python3"
  },
  "language_info": {
   "codemirror_mode": {
    "name": "ipython",
    "version": 3
   },
   "file_extension": ".py",
   "mimetype": "text/x-python",
   "name": "python",
   "nbconvert_exporter": "python",
   "pygments_lexer": "ipython3",
   "version": "3.6.1"
  }
 },
 "nbformat": 4,
 "nbformat_minor": 2
}
