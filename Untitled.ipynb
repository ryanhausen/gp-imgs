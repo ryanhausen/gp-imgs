{
 "cells": [
  {
   "cell_type": "code",
   "execution_count": 5,
   "metadata": {},
   "outputs": [
    {
     "name": "stdout",
     "output_type": "stream",
     "text": [
      "Using matplotlib backend: Qt5Agg\n"
     ]
    }
   ],
   "source": [
    "import DataTools as dt\n",
    "import ImageTools as it\n",
    "import ImageGenerator as ig\n",
    "import numpy as np\n",
    "import matplotlib.pyplot as plt\n",
    "import json\n",
    "import importlib\n",
    "%matplotlib auto"
   ]
  },
  {
   "cell_type": "code",
   "execution_count": 2,
   "metadata": {
    "collapsed": true
   },
   "outputs": [],
   "source": [
    "def integrate_sbp(ies, res):\n",
    "    return sum(2 * np.pi * ies * res * 0.01)"
   ]
  },
  {
   "cell_type": "code",
   "execution_count": 4,
   "metadata": {
    "scrolled": false
   },
   "outputs": [
    {
     "name": "stdout",
     "output_type": "stream",
     "text": [
      "Spheroid Params: ie:0.2455791333487374 re:0.21633307652783934 ar:0.6650403935413713\n",
      "Sum to 1: 10.041449850927417 Sum total:[ 11.60106573] 1/total:[ 0.86556271]\n",
      "Value near R/R_e=1:[ 0.60267749]\n"
     ]
    },
    {
     "name": "stderr",
     "output_type": "stream",
     "text": [
      "/home/ryanhausen/Documents/synth_imgs/GaussianProcess.py:97: RuntimeWarning: covariance is not positive-semidefinite.\n",
      "  sample = normal.multivariate_normal(mu[:,0], cov)\n"
     ]
    },
    {
     "name": "stdout",
     "output_type": "stream",
     "text": [
      "Optimization terminated successfully.\n",
      "         Current function value: 0.634774\n",
      "         Iterations: 487280\n",
      "         Function evaluations: 503083\n",
      "Sum to 1: 9.57187059072308 Sum total:[ 11.26977499] 1/total:[ 0.84933999]\n",
      "Value near R/R_e=1:[ 0.97293831]\n"
     ]
    },
    {
     "data": {
      "image/png": "[encoded data removed]",
      "text/plain": [
       "<matplotlib.figure.Figure at 0x7fe0bccb6ef0>"
      ]
     },
     "metadata": {},
     "output_type": "display_data"
    },
    {
     "name": "stdout",
     "output_type": "stream",
     "text": [
      "Value near R/R_e=1:[ 1.]\n"
     ]
    },
    {
     "data": {
      "image/png": "[encoded data removed]",
      "text/plain": [
       "<matplotlib.figure.Figure at 0x7fe067af0128>"
      ]
     },
     "metadata": {},
     "output_type": "display_data"
    },
    {
     "name": "stdout",
     "output_type": "stream",
     "text": [
      "Measured Ie:1.3637679040345667 Measured Re:0.08485281374238571\n"
     ]
    },
    {
     "data": {
      "image/png": "[encoded data removed]",
      "text/plain": [
       "<matplotlib.figure.Figure at 0x7fe0679c4358>"
      ]
     },
     "metadata": {},
     "output_type": "display_data"
    }
   ],
   "source": [
    "from scipy.optimize import fmin\n",
    "\n",
    "ie = dt.get_param_from_dist('spheroid', 'ie')\n",
    "re = dt.get_param_from_dist('spheroid', 're')\n",
    "ar = dt.get_param_from_dist('spheroid', 'ar')\n",
    "\n",
    "print(f'Spheroid Params: ie:{ie} re:{re} ar:{ar}')\n",
    "\n",
    "xs = np.linspace(0, 4, num=400).reshape(400, 1)\n",
    "ys = 10**ig._sbp_predict_on('spheroid', xs).reshape(400, 1)\n",
    "\n",
    "to_re = integrate_sbp(ys[xs<=1], xs[xs<=1])\n",
    "to_total = integrate_sbp(ys, xs)\n",
    "print(f'Sum to 1: {to_re} Sum total:{to_total} 1/total:{to_re/to_total}')\n",
    "idx_1 = np.argmin(np.abs(xs-1.0))\n",
    "print(f'Value near R/R_e=1:{ys[idx_1]}')\n",
    "\n",
    "def converge_iere_to_1(vals):\n",
    "    rs = xs[:,0]\n",
    "    Itot = integrate_sbp(vals, rs)\n",
    "    Ie = integrate_sbp(vals[rs<=1], rs[rs<=1])\n",
    "    \n",
    "    valid_ie = abs((Ie/Itot)-0.5)\n",
    "    \n",
    "    _diffs = np.diff(vals)\n",
    "    monotonic = np.sum(_diffs[_diffs>0])\n",
    "    \n",
    "    keep_line = np.mean(np.sqrt(np.square(vals-ys)))\n",
    "    \n",
    "    idx_1 = np.argmin(np.abs(rs-1.0))\n",
    "    going_through_11 = abs(vals[idx_1]-1.0)\n",
    "    \n",
    "    #print(f'valid_ie:{valid_ie}, monotonic:{monotonic} through11:{going_through_11}', end='\\r')\n",
    "    \n",
    "    penalty = 0.0\n",
    "    penalty += 1.0 * valid_ie\n",
    "    penalty += 1.0 * monotonic\n",
    "    penalty += 1.0 * going_through_11\n",
    "    \n",
    "    return penalty\n",
    "\n",
    "def converge_iere(params):\n",
    "    delta_ie, delta_re = params\n",
    "    rs = xs * delta_re\n",
    "    Is = ys * delta_ie\n",
    "    \n",
    "    before_re1 = sum(Is[rs<=1]*rs[rs<=1]*.01)\n",
    "    total_re = sum(Is*rs*.01)\n",
    "    \n",
    "    re_valid = abs((before_re1 / total_re) - .5)\n",
    "    \n",
    "    #diff_ie = np.square(measured_ie-ie)\n",
    "    #diff_re = np.square(measured_re-re)\n",
    "    #diff_iere = np.sqrt(diff_ie + diff_re)/2\n",
    "    \n",
    "    diff_line = np.sqrt(np.sum(np.square(Is-ys)))/len(ys)\n",
    "    \n",
    "    idx_1 = np.argmin(np.abs(rs-1.0))\n",
    "    going_through_11 = abs(Is[idx_1]-1.0)\n",
    "    \n",
    "    #return re_valid*10 + diff_line + np.sqrt(rs[-1]**2)*0.20\n",
    "    return re_valid\n",
    "\n",
    "\n",
    "\n",
    "plt.plot(xs, ys, label='Before Fitting')\n",
    "\n",
    "ys = fmin(converge_iere_to_1, ys.copy(), maxiter=1e25).reshape(400,1)\n",
    "#delta_ie, delta_re = fmin(converge_iere, (1.0, 1.0))\n",
    "#print(f'delta_ie:{delta_ie} delta_re:{delta_re}')\n",
    "#ys *= delta_ie\n",
    "#xs *= delta_re\n",
    "to_re = integrate_sbp(ys[xs<=1], xs[xs<=1]) \n",
    "to_total = integrate_sbp(ys, xs)\n",
    "print(f'Sum to 1: {to_re} Sum total:{to_total} 1/total:{to_re/to_total}')\n",
    "idx_1 = np.argmin(np.abs(xs-1.0))\n",
    "y_at_1 = ys[idx_1]\n",
    "print(f'Value near R/R_e=1:{y_at_1}')\n",
    "\n",
    "plt.title('Surface Brightness Profiles')\n",
    "plt.plot(xs, ys, label='After Fitting')\n",
    "plt.xlabel('$R/R_e$')\n",
    "plt.ylabel('$I/I_e$')\n",
    "ys *= 1/y_at_1\n",
    "\n",
    "plt.plot(xs, ys, label='After 1 adjustment')\n",
    "plt.legend()\n",
    "plt.show()\n",
    "\n",
    "idx_1 = np.argmin(np.abs(xs-1.0))\n",
    "y_at_1 = ys[idx_1]\n",
    "print(f'Value near R/R_e=1:{y_at_1}')\n",
    "\n",
    "xs *= re\n",
    "ys *= ie\n",
    "\n",
    "plt.title('Ater Multiplying')\n",
    "plt.plot(xs, ys, label='after mutliplying')\n",
    "plt.show()\n",
    "\n",
    "\n",
    "h_frame = it.radial_frame(84,84,42,42)\n",
    "h_radii = {r:0.0 for r in np.unique(h_frame)}\n",
    "\n",
    "for r in h_radii.keys():\n",
    "    if r in xs:\n",
    "        h_radii[r]=ys[xs==r]\n",
    "    else:\n",
    "        tmp = xs-r\n",
    "        idx = len(tmp[tmp<0])-1\n",
    "        if idx==len(ys)-1:\n",
    "            h_radii[r] = ys[-1]\n",
    "        else:\n",
    "            delta_x = xs[idx+1]-xs[idx]\n",
    "            interp_x = delta_x * (r-xs[idx])\n",
    "            interp_y = ys[idx] + (ys[idx+1]-ys[idx])*interp_x\n",
    "            h_radii[r] = interp_y[0]\n",
    "    \n",
    "src_map = h_frame<=(4*re)\n",
    "h = it.fill_radial_frame(h_frame.copy(), h_radii)\n",
    "\n",
    "measured_re, measured_ie = it.effective_radius(h, src_map, return_ie=True)\n",
    "print(f'Measured Ie:{measured_ie} Measured Re:{measured_re}')\n",
    "\n",
    "plt.imshow(h, cmap='gray')\n",
    "plt.show()\n",
    "\n",
    "h_frame = it.radial_frame(84,84,42,42)"
   ]
  }
 ],
 "metadata": {
  "kernelspec": {
   "display_name": "Python 3",
   "language": "python",
   "name": "python3"
  },
  "language_info": {
   "codemirror_mode": {
    "name": "ipython",
    "version": 3
   },
   "file_extension": ".py",
   "mimetype": "text/x-python",
   "name": "python",
   "nbconvert_exporter": "python",
   "pygments_lexer": "ipython3",
   "version": "3.6.1"
  }
 },
 "nbformat": 4,
 "nbformat_minor": 2
}
