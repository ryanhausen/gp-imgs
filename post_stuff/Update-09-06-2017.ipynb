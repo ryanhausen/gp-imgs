{
 "cells": [
  {
   "cell_type": "code",
   "execution_count": 10,
   "metadata": {},
   "outputs": [],
   "source": [
    "# adds parent dir to python path\n",
    "import sys\n",
    "sys.path.insert(0, '..')\n",
    "\n",
    "import os\n",
    "\n",
    "import matplotlib.pyplot as plt\n",
    "import numpy as np\n",
    "from astropy.io import fits\n",
    "\n",
    "import gphelper as gp\n",
    "import ImageTools as it\n",
    "import DataTools as dt\n",
    "\n",
    "import importlib"
   ]
  },
  {
   "cell_type": "code",
   "execution_count": 2,
   "metadata": {},
   "outputs": [
    {
     "name": "stderr",
     "output_type": "stream",
     "text": [
      "/home/ryanhausen/anaconda3/lib/python3.6/site-packages/sklearn/gaussian_process/gpr.py:339: RuntimeWarning: covariance is not positive-semidefinite.\n",
      "  y_samples = rng.multivariate_normal(y_mean, y_cov, n_samples).T\n"
     ]
    },
    {
     "name": "stdout",
     "output_type": "stream",
     "text": [
      "Drawing Samples.    \r"
     ]
    },
    {
     "data": {
      "image/png": "[encoded data removed]",
      "text/plain": [
       "<matplotlib.figure.Figure at 0x7f47b855b9b0>"
      ]
     },
     "metadata": {},
     "output_type": "display_data"
    }
   ],
   "source": [
    "X = np.linspace(0.001, 5, 500)[:, np.newaxis]\n",
    "h_model = gp.GPHelper(restore_file='./gp-models/gp_h.json')\n",
    "y_gp = 10**h_model.sample(X)\n",
    "\n",
    "plt.title('H SBP')\n",
    "plt.ylabel('$I/I_e$')\n",
    "plt.xlabel('$R/R_e$')\n",
    "plt.plot(X, y_gp)\n",
    "plt.show()"
   ]
  },
  {
   "cell_type": "code",
   "execution_count": 14,
   "metadata": {
    "collapsed": true
   },
   "outputs": [],
   "source": [
    "def sbp_to_int(x, y):\n",
    "    delta_x = np.diff(x)[0]/2\n",
    "    xs = [np.pi*((_x+delta_x)**2-(_x-delta_x)**2) for _x in x.flatten()]\n",
    "    xs = np.array(xs)\n",
    "    \n",
    "    weighted_y = xs * y\n",
    "    I_tot = weighted_y.sum()\n",
    "    int_I = np.cumsum(weighted_y/I_tot)\n",
    "    return int_I, I_tot, xs\n",
    "\n",
    "def img_sbp_to_int(x, y, Itot=None):\n",
    "    I_tot = Itot if Itot else y.sum()\n",
    "    I_int = np.cumsum(y/I_tot)\n",
    "    \n",
    "    return I_int\n",
    "\n",
    "def int_to_sbp(x, y, y_tot):\n",
    "    return (np.array([0] + np.diff(y).tolist())*y_tot)/x\n",
    "\n",
    "def eta_line(x, difference_at_1):\n",
    "    def delta_l(x, diff):\n",
    "        return diff - diff * (1-x)**2\n",
    "    \n",
    "    def delta_r(x, diff):\n",
    "        return diff - diff * ((x-1)/(x.max()-1))**2\n",
    "    \n",
    "    eta = np.zeros_like(x)\n",
    "    eta[x<=1] = delta_l(x[x<=1], difference_at_1)\n",
    "    eta[x>1] = delta_r(x[x>1], difference_at_1)\n",
    "\n",
    "    return eta\n",
    "\n",
    "# https://ned.ipac.caltech.edu/level5/March05/Graham/Graham2.html\n",
    "def sersic(x):\n",
    "    def b(n):\n",
    "        return 1.9992*n-0.3271\n",
    "\n",
    "    def I(r):\n",
    "        \"\"\"Assuming that I_e=1.0 and that R_e=1.0\"\"\"\n",
    "        n = 4\n",
    "        return np.exp(-b(n) * (np.power(r, 1/n)  - 1))\n",
    "\n",
    "    return I(x)\n",
    "\n",
    "def get_random_spheroids(num=10):\n",
    "    with open('../spheroids', 'r') as f:\n",
    "        spheroids = np.array(f.readlines())\n",
    "        \n",
    "    selected = np.random.choice(spheroids, num, replace=False)\n",
    "    \n",
    "    data_dir = os.path.join(os.getenv('HOME'), 'Documents/astro_data/orig_images')\n",
    "    fmask = 'GDS_{}_{}.fits'\n",
    "    f_string = os.path.join(data_dir, fmask)\n",
    "    \n",
    "    sources = []\n",
    "    for s in selected:\n",
    "        img = fits.getdata(f_string.format(s.strip(), 'h'))\n",
    "        segmap = fits.getdata(f_string.format(s.strip(), 'segmap'))\n",
    "        img_id = int(s.split('_')[1])\n",
    "        sources.append((img, segmap, img_id))\n",
    "    \n",
    "    return sources\n",
    "\n",
    "def make_nonnegative(img):\n",
    "    epsilon = 0 if len(img[img<0])==0 else img[img>0].min()\n",
    "    return img + abs(img.min()) + epsilon"
   ]
  },
  {
   "cell_type": "code",
   "execution_count": 31,
   "metadata": {
    "scrolled": false
   },
   "outputs": [
    {
     "name": "stdout",
     "output_type": "stream",
     "text": [
      "Initial re:4.340425550640099\n",
      "Found re:13.139115849729702\n",
      "Found re:32.29136834772319\n",
      "Found re:36.33160100595017\n",
      "Found re:40.39280516265671\n",
      "Found re:44.5678515859206\n",
      "Found re:48.51110678333907\n",
      "Found re:52.58585173185788\n",
      "Found re:56.64367862033278\n",
      "Found re:60.72062615710414\n",
      "Found re:64.80492059849794\n",
      "Found re:68.7935632461957\n",
      "Found re:72.965756145396\n",
      "Found re:76.95935430582986\n",
      "Found re:80.99300472226676\n",
      "Found re:85.04147824076894\n",
      "Found re:89.12969899269152\n",
      "Found re:93.11723494605458\n",
      "Found re:97.137733100401\n",
      "Found re:101.1680917933817\n",
      "Found re:105.22341625214666\n",
      "Found re:109.26547131450748\n",
      "Found re:113.26870051708977\n",
      "Found re:117.34646581475329\n",
      "Found re:121.33376578216077\n",
      "Found re:125.35656826498247\n",
      "Found re:129.4135332431169\n",
      "Found re:133.4594849887468\n",
      "Found re:137.4816460909533\n",
      "Found re:141.45082372249644\n",
      "Found re:145.41434368610354\n",
      "Found re:149.33677069783135\n",
      "Found re:153.31211642798914\n",
      "Found re:157.27094259411\n",
      "Found re:161.2331907395052\n",
      "Found re:165.23519433217618\n",
      "Found re:169.2112110057736\n",
      "Found re:173.19141717636185\n",
      "Found re:177.17853945462923\n",
      "Found re:181.16463718777118\n",
      "Found re:185.11711685638255\n",
      "Found re:189.09741826334655\n",
      "Found re:193.07937483279719\n",
      "Found re:197.02870984399289\n",
      "Found re:201.00005231175297\n",
      "Found re:204.9934606847861\n",
      "Found re:208.9745269036297\n",
      "Found re:212.98574234642282\n",
      "Found re:217.0207822233938\n",
      "Found re:221.0099313731242\n",
      "Found re:224.9983978059993\n",
      "Found re:228.97759564807248\n",
      "Found re:232.92430318056557\n",
      "Found re:236.91259571242327\n",
      "Found re:240.88053626701486\n",
      "Found re:244.8662396488275\n",
      "Found re:248.8463138544745\n",
      "Found re:252.82319146716353\n",
      "Found re:256.8375293351312\n",
      "Found re:260.9013304220603\n",
      "Found re:264.9320635517745\n",
      "Found re:268.8899793915193\n",
      "Found re:272.8531964427536\n",
      "Found re:276.8334634821644\n",
      "Found re:280.8351333822003\n",
      "Found re:284.81192988833203\n",
      "Found re:288.7684212781911\n",
      "Found re:292.746995633646\n",
      "Found re:296.7309422510757\n",
      "Found re:300.7409680434306\n",
      "Found re:304.7805097481432\n",
      "Found re:308.7744972866975\n",
      "Found re:312.7721456281645\n",
      "Found re:316.77671908197425\n",
      "Found re:320.7940796993838\n",
      "Found re:324.79590687659584\n",
      "Found re:328.7882411599582\n",
      "Found re:332.7734452065367\n",
      "Found re:336.780324910672\n",
      "Found re:340.817249177064\n",
      "Found re:344.85152799560063\n",
      "Found re:348.83359158141144\n",
      "Found re:352.86965297265084\n",
      "Found re:356.9093180645702\n",
      "Found re:360.8977114615397\n",
      "Found re:364.89691137602114\n",
      "Found re:368.8976834433849\n",
      "Found re:372.92507726492516\n",
      "Found re:376.9312783347471\n",
      "Found re:380.9532518836141\n",
      "Found re:384.95608406964976\n"
     ]
    },
    {
     "ename": "KeyboardInterrupt",
     "evalue": "",
     "output_type": "error",
     "traceback": [
      "\u001b[0;31m---------------------------------------------------------------------------\u001b[0m",
      "\u001b[0;31mKeyboardInterrupt\u001b[0m                         Traceback (most recent call last)",
      "\u001b[0;32m<ipython-input-31-29ffb6a12a8a>\u001b[0m in \u001b[0;36m<module>\u001b[0;34m()\u001b[0m\n\u001b[1;32m      8\u001b[0m \u001b[0;32mfor\u001b[0m \u001b[0mimg\u001b[0m\u001b[0;34m,\u001b[0m \u001b[0msegmap\u001b[0m\u001b[0;34m,\u001b[0m \u001b[0mimg_id\u001b[0m \u001b[0;32min\u001b[0m \u001b[0mget_random_spheroids\u001b[0m\u001b[0;34m(\u001b[0m\u001b[0;34m)\u001b[0m\u001b[0;34m:\u001b[0m\u001b[0;34m\u001b[0m\u001b[0m\n\u001b[1;32m      9\u001b[0m     \u001b[0mimg\u001b[0m \u001b[0;34m=\u001b[0m \u001b[0mmake_nonnegative\u001b[0m\u001b[0;34m(\u001b[0m\u001b[0mimg\u001b[0m\u001b[0;34m)\u001b[0m\u001b[0;34m\u001b[0m\u001b[0m\n\u001b[0;32m---> 10\u001b[0;31m     \u001b[0mrs\u001b[0m\u001b[0;34m,\u001b[0m \u001b[0mfs\u001b[0m\u001b[0;34m,\u001b[0m \u001b[0mie\u001b[0m\u001b[0;34m,\u001b[0m \u001b[0mre\u001b[0m\u001b[0;34m,\u001b[0m \u001b[0mItot\u001b[0m \u001b[0;34m=\u001b[0m \u001b[0miterative_profile_expansion\u001b[0m\u001b[0;34m(\u001b[0m\u001b[0mimg\u001b[0m\u001b[0;34m,\u001b[0m \u001b[0msegmap\u001b[0m\u001b[0;34m,\u001b[0m \u001b[0mimg_id\u001b[0m\u001b[0;34m)\u001b[0m\u001b[0;34m\u001b[0m\u001b[0m\n\u001b[0m\u001b[1;32m     11\u001b[0m     \u001b[0msources\u001b[0m\u001b[0;34m.\u001b[0m\u001b[0mappend\u001b[0m\u001b[0;34m(\u001b[0m\u001b[0;34m(\u001b[0m\u001b[0mrs\u001b[0m\u001b[0;34m,\u001b[0m \u001b[0mfs\u001b[0m\u001b[0;34m,\u001b[0m \u001b[0mre\u001b[0m\u001b[0;34m,\u001b[0m \u001b[0mie\u001b[0m\u001b[0;34m,\u001b[0m \u001b[0mItot\u001b[0m\u001b[0;34m)\u001b[0m\u001b[0;34m)\u001b[0m\u001b[0;34m\u001b[0m\u001b[0m\n\u001b[1;32m     12\u001b[0m \u001b[0;34m\u001b[0m\u001b[0m\n",
      "\u001b[0;32m<ipython-input-29-f8aeffb37bcc>\u001b[0m in \u001b[0;36miterative_profile_expansion\u001b[0;34m(img, segmap, img_id, out_to)\u001b[0m\n\u001b[1;32m     44\u001b[0m \u001b[0;34m\u001b[0m\u001b[0m\n\u001b[1;32m     45\u001b[0m         \u001b[0m_re\u001b[0m \u001b[0;34m=\u001b[0m \u001b[0mre\u001b[0m\u001b[0;34m\u001b[0m\u001b[0m\n\u001b[0;32m---> 46\u001b[0;31m         \u001b[0mre\u001b[0m \u001b[0;34m=\u001b[0m \u001b[0mget_re\u001b[0m\u001b[0;34m(\u001b[0m\u001b[0mimg\u001b[0m\u001b[0;34m,\u001b[0m \u001b[0msrc_map\u001b[0m\u001b[0;34m,\u001b[0m \u001b[0mrs\u001b[0m\u001b[0;34m)\u001b[0m\u001b[0;34m\u001b[0m\u001b[0m\n\u001b[0m\u001b[1;32m     47\u001b[0m         \u001b[0mprint\u001b[0m\u001b[0;34m(\u001b[0m\u001b[0;34mf'Found re:{re}'\u001b[0m\u001b[0;34m)\u001b[0m\u001b[0;34m\u001b[0m\u001b[0m\n\u001b[1;32m     48\u001b[0m     \u001b[0mrs\u001b[0m\u001b[0;34m,\u001b[0m \u001b[0mfs\u001b[0m\u001b[0;34m,\u001b[0m \u001b[0mie\u001b[0m\u001b[0;34m,\u001b[0m \u001b[0mre\u001b[0m \u001b[0;34m=\u001b[0m \u001b[0mit\u001b[0m\u001b[0;34m.\u001b[0m\u001b[0mrs_fs_ie_re\u001b[0m\u001b[0;34m(\u001b[0m\u001b[0mimg\u001b[0m\u001b[0;34m,\u001b[0m \u001b[0msrc_map\u001b[0m\u001b[0;34m)\u001b[0m\u001b[0;34m\u001b[0m\u001b[0m\n",
      "\u001b[0;32m<ipython-input-29-f8aeffb37bcc>\u001b[0m in \u001b[0;36mget_re\u001b[0;34m(img, src_map, rs)\u001b[0m\n\u001b[1;32m      5\u001b[0m     \u001b[0mfs\u001b[0m \u001b[0;34m=\u001b[0m \u001b[0mimg\u001b[0m\u001b[0;34m[\u001b[0m\u001b[0msrc_map\u001b[0m\u001b[0;34m]\u001b[0m\u001b[0;34m\u001b[0m\u001b[0m\n\u001b[1;32m      6\u001b[0m \u001b[0;34m\u001b[0m\u001b[0m\n\u001b[0;32m----> 7\u001b[0;31m     \u001b[0msorted_rs\u001b[0m \u001b[0;34m=\u001b[0m \u001b[0mnp\u001b[0m\u001b[0;34m.\u001b[0m\u001b[0margsort\u001b[0m\u001b[0;34m(\u001b[0m\u001b[0mrs\u001b[0m\u001b[0;34m)\u001b[0m\u001b[0;34m\u001b[0m\u001b[0m\n\u001b[0m\u001b[1;32m      8\u001b[0m     \u001b[0mint_fs\u001b[0m \u001b[0;34m=\u001b[0m \u001b[0mnp\u001b[0m\u001b[0;34m.\u001b[0m\u001b[0mcumsum\u001b[0m\u001b[0;34m(\u001b[0m\u001b[0mfs\u001b[0m\u001b[0;34m[\u001b[0m\u001b[0msorted_rs\u001b[0m\u001b[0;34m]\u001b[0m\u001b[0;34m/\u001b[0m\u001b[0mItot\u001b[0m\u001b[0;34m)\u001b[0m\u001b[0;34m\u001b[0m\u001b[0m\n\u001b[1;32m      9\u001b[0m     \u001b[0mre_idx\u001b[0m \u001b[0;34m=\u001b[0m \u001b[0mnp\u001b[0m\u001b[0;34m.\u001b[0m\u001b[0msquare\u001b[0m\u001b[0;34m(\u001b[0m\u001b[0mint_fs\u001b[0m\u001b[0;34m-\u001b[0m\u001b[0;36m0.5\u001b[0m\u001b[0;34m)\u001b[0m\u001b[0;34m.\u001b[0m\u001b[0margmin\u001b[0m\u001b[0;34m(\u001b[0m\u001b[0;34m)\u001b[0m\u001b[0;34m\u001b[0m\u001b[0m\n",
      "\u001b[0;32m~/anaconda3/lib/python3.6/site-packages/numpy/core/fromnumeric.py\u001b[0m in \u001b[0;36margsort\u001b[0;34m(a, axis, kind, order)\u001b[0m\n\u001b[1;32m    905\u001b[0m \u001b[0;34m\u001b[0m\u001b[0m\n\u001b[1;32m    906\u001b[0m     \"\"\"\n\u001b[0;32m--> 907\u001b[0;31m     \u001b[0;32mreturn\u001b[0m \u001b[0m_wrapfunc\u001b[0m\u001b[0;34m(\u001b[0m\u001b[0ma\u001b[0m\u001b[0;34m,\u001b[0m \u001b[0;34m'argsort'\u001b[0m\u001b[0;34m,\u001b[0m \u001b[0maxis\u001b[0m\u001b[0;34m=\u001b[0m\u001b[0maxis\u001b[0m\u001b[0;34m,\u001b[0m \u001b[0mkind\u001b[0m\u001b[0;34m=\u001b[0m\u001b[0mkind\u001b[0m\u001b[0;34m,\u001b[0m \u001b[0morder\u001b[0m\u001b[0;34m=\u001b[0m\u001b[0morder\u001b[0m\u001b[0;34m)\u001b[0m\u001b[0;34m\u001b[0m\u001b[0m\n\u001b[0m\u001b[1;32m    908\u001b[0m \u001b[0;34m\u001b[0m\u001b[0m\n\u001b[1;32m    909\u001b[0m \u001b[0;34m\u001b[0m\u001b[0m\n",
      "\u001b[0;32m~/anaconda3/lib/python3.6/site-packages/numpy/core/fromnumeric.py\u001b[0m in \u001b[0;36m_wrapfunc\u001b[0;34m(obj, method, *args, **kwds)\u001b[0m\n\u001b[1;32m     55\u001b[0m \u001b[0;32mdef\u001b[0m \u001b[0m_wrapfunc\u001b[0m\u001b[0;34m(\u001b[0m\u001b[0mobj\u001b[0m\u001b[0;34m,\u001b[0m \u001b[0mmethod\u001b[0m\u001b[0;34m,\u001b[0m \u001b[0;34m*\u001b[0m\u001b[0margs\u001b[0m\u001b[0;34m,\u001b[0m \u001b[0;34m**\u001b[0m\u001b[0mkwds\u001b[0m\u001b[0;34m)\u001b[0m\u001b[0;34m:\u001b[0m\u001b[0;34m\u001b[0m\u001b[0m\n\u001b[1;32m     56\u001b[0m     \u001b[0;32mtry\u001b[0m\u001b[0;34m:\u001b[0m\u001b[0;34m\u001b[0m\u001b[0m\n\u001b[0;32m---> 57\u001b[0;31m         \u001b[0;32mreturn\u001b[0m \u001b[0mgetattr\u001b[0m\u001b[0;34m(\u001b[0m\u001b[0mobj\u001b[0m\u001b[0;34m,\u001b[0m \u001b[0mmethod\u001b[0m\u001b[0;34m)\u001b[0m\u001b[0;34m(\u001b[0m\u001b[0;34m*\u001b[0m\u001b[0margs\u001b[0m\u001b[0;34m,\u001b[0m \u001b[0;34m**\u001b[0m\u001b[0mkwds\u001b[0m\u001b[0;34m)\u001b[0m\u001b[0;34m\u001b[0m\u001b[0m\n\u001b[0m\u001b[1;32m     58\u001b[0m \u001b[0;34m\u001b[0m\u001b[0m\n\u001b[1;32m     59\u001b[0m     \u001b[0;31m# An AttributeError occurs if the object does not have\u001b[0m\u001b[0;34m\u001b[0m\u001b[0;34m\u001b[0m\u001b[0m\n",
      "\u001b[0;31mKeyboardInterrupt\u001b[0m: "
     ]
    }
   ],
   "source": [
    "importlib.reload(it)\n",
    "\n",
    "y_gp_int, I_tot, wx = sbp_to_int(X.flatten(), y_gp.flatten())\n",
    "diff_at_1 = 0.5-y_gp_int[np.square(X-1).argmin()]\n",
    "y_gp_eta = y_gp_int + eta_line(X.flatten(), diff_at_1)\n",
    "\n",
    "sources = []\n",
    "for img, segmap, img_id in get_random_spheroids():\n",
    "    img = make_nonnegative(img)\n",
    "    rs, fs, ie, re, Itot = iterative_profile_expansion(img, segmap, img_id)\n",
    "    sources.append((rs, fs, re, ie, Itot))\n",
    "\n",
    "X_sersic = np.linspace(0.001, 50, 5000)[:, np.newaxis]\n",
    "y_sersic = sersic(X_sersic)\n",
    "y_sersic_int, _, _ = sbp_to_int(X_sersic.flatten(), y_sersic.flatten())\n",
    "\n",
    "plt.figure(figsize=(15, 10))\n",
    "plt.title('Measured SBP')\n",
    "plt.xlabel('$R/R_e$')\n",
    "plt.ylabel('$I/I_e$')\n",
    "plt.xlim((0,5))\n",
    "\n",
    "plt.semilogy(X, y_gp, label='GP')\n",
    "plt.semilogy(X_sersic, y_sersic, label='Sersic')\n",
    "\n",
    "for x, y, r, i, itot in sources:\n",
    "    plt.semilogy(x/r, y/i, '--', alpha=0.3)\n",
    "plt.legend()\n",
    "    \n",
    "plt.figure(figsize=(15, 10))\n",
    "plt.title('Measured Integrations')\n",
    "plt.xlabel('$R/R_e$')\n",
    "plt.xlim((0,5))\n",
    "\n",
    "plt.plot(X, y_gp_int, label='GP')\n",
    "plt.plot(X, y_gp_eta, label='GP+eta')\n",
    "plt.plot(X_sersic, y_sersic_int, label='Sersic')\n",
    "\n",
    "for x, y, r, i, itot in sources:\n",
    "    s_int = img_sbp_to_int(x.flatten(), y, Itot=itot)\n",
    "    plt.plot(x/r, s_int, '--', alpha=0.5)\n",
    "m = max([max(s[0]) for s in sources])\n",
    "plt.legend()\n",
    "    \n",
    "plt.show()\n",
    "    \n",
    "plt.figure(figsize=(15, 10))\n",
    "plt.title('Measured Integrations')\n",
    "plt.xlabel('$R/R_e$')\n",
    "plt.xlim((0,5))\n",
    "\n",
    "plt.plot(X, y_gp_int, label='GP')\n",
    "plt.plot(X, y_gp_eta, label='GP+eta')\n",
    "plt.plot(X_sersic, y_sersic_int, label='Sersic')\n",
    "\n",
    "plt.ylim(0,1)\n",
    "for x, y, r, i, itot in sources:\n",
    "    s_int = img_sbp_to_int(x.flatten(), y, Itot=itot)\n",
    "    plt.plot(x/r, s_int, '--', alpha=0.5)\n",
    "m = max([max(s[0]) for s in sources])\n",
    "plt.legend()\n",
    "\n",
    "plt.show()"
   ]
  },
  {
   "cell_type": "code",
   "execution_count": 14,
   "metadata": {
    "scrolled": false
   },
   "outputs": [
    {
     "data": {
      "image/png": "[encoded data removed]",
      "text/plain": [
       "<matplotlib.figure.Figure at 0x7f4777f24710>"
      ]
     },
     "metadata": {},
     "output_type": "display_data"
    }
   ],
   "source": [
    "y_mean, y_std = h_model.predict(X, return_std=True)\n",
    "y_pls_std = 10**(y_mean + y_std)\n",
    "y_min_std = 10**(y_mean - y_std)\n",
    "y_mean =  10 **y_mean\n",
    "\n",
    "restored_gp_eta = int_to_sbp(wx, y_gp_eta, I_tot)\n",
    "restored_gp = int_to_sbp(wx, y_gp_int.flatten(), I_tot)\n",
    "\n",
    "plt.figure(figsize=(15, 10))\n",
    "plt.title('Restored SBP')\n",
    "plt.semilogy(X, y_gp, label='GP')\n",
    "plt.semilogy(X, restored_gp_eta, label='GP+eta')\n",
    "plt.semilogy(X_sersic, y_sersic, label='Sersic', color='purple')\n",
    "plt.semilogy(X, y_mean, label='GP $\\mu$', color='r')\n",
    "plt.fill_between(X.flatten(), y_min_std, y_pls_std, label='GP $\\pm\\sigma$', alpha=0.2, color='r')\n",
    "plt.xlim(0,5)\n",
    "plt.legend()\n",
    "plt.show()"
   ]
  },
  {
   "cell_type": "code",
   "execution_count": 6,
   "metadata": {},
   "outputs": [
    {
     "data": {
      "text/plain": [
       "array([[0, 0, 0, 0, 0, 0, 0, 0, 0],\n",
       "       [0, 0, 0, 0, 0, 0, 0, 0, 0],\n",
       "       [0, 0, 0, 0, 0, 0, 0, 0, 0],\n",
       "       [0, 0, 0, 0, 1, 2, 0, 0, 0],\n",
       "       [0, 0, 0, 3, 4, 5, 0, 0, 0],\n",
       "       [0, 0, 0, 6, 7, 8, 0, 0, 0],\n",
       "       [0, 0, 0, 0, 0, 0, 0, 0, 0],\n",
       "       [0, 0, 0, 0, 0, 0, 0, 0, 0],\n",
       "       [0, 0, 0, 0, 0, 0, 0, 0, 0]])"
      ]
     },
     "execution_count": 6,
     "metadata": {},
     "output_type": "execute_result"
    }
   ],
   "source": [
    "a = np.arange(9).reshape(3,3)\n",
    "np.pad(a, 3, 'constant')"
   ]
  },
  {
   "cell_type": "code",
   "execution_count": 29,
   "metadata": {
    "collapsed": true
   },
   "outputs": [],
   "source": [
    "def get_re(img, src_map, rs):\n",
    "    Itot = img[src_map].sum()\n",
    "    \n",
    "    rs = rs[src_map]\n",
    "    fs = img[src_map]\n",
    "\n",
    "    sorted_rs = np.argsort(rs)\n",
    "    int_fs = np.cumsum(fs[sorted_rs]/Itot)\n",
    "    re_idx = np.square(int_fs-0.5).argmin()\n",
    "\n",
    "    rs = rs[sorted_rs]\n",
    "    fs = fs[sorted_rs]\n",
    "\n",
    "    return rs[re_idx]\n",
    "\n",
    "def iterative_profile_expansion(img, segmap, img_id, out_to=5):\n",
    "    # strip other sources from image\n",
    "    noise_bank = img[segmap==0].flatten()\n",
    "    \n",
    "    other_sources = np.logical_and(segmap!=0, segmap!=img_id)\n",
    "    if other_sources.sum() > 0:\n",
    "        np.place(img, other_sources, noise_bank)\n",
    "    \n",
    "    # get re\n",
    "    src_map = segmap==img_id\n",
    "    cx, cy = it.img_center(img, src_map)\n",
    "    xs, ys = np.meshgrid(np.arange(img.shape[0]), np.arange(img.shape[1]).T)\n",
    "    rs = np.sqrt(np.square(cx-xs) + np.square(cy-ys))\n",
    "    re = get_re(img, src_map, rs)\n",
    "    _re = 0\n",
    "    \n",
    "    print(f'Initial re:{re}')\n",
    "    while re != _re:\n",
    "        src_map = np.logical_or(src_map, (rs<=(5*re)))\n",
    "        if np.all(src_map):\n",
    "            # the src_map taken the entire image\n",
    "            img = np.pad(img, 5, 'constant')\n",
    "            np.place(img, img==0, noise_bank)\n",
    "            src_map = np.pad(src_map, 5, 'constant')\n",
    "            cx, cy = cx+5, cy+5\n",
    "            xs, ys = np.meshgrid(np.arange(img.shape[0]), np.arange(img.shape[1]).T)\n",
    "            rs = np.sqrt(np.square(cx-xs) + np.square(cy-ys))\n",
    "            \n",
    "        \n",
    "        _re = re\n",
    "        re = get_re(img, src_map, rs)\n",
    "        print(f'Found re:{re}')\n",
    "    rs, fs, ie, re = it.rs_fs_ie_re(img, src_map)\n",
    "    \n",
    "    return rs, fs, ie, re, img[src_map].sum()\n",
    "    \n",
    "    \n",
    "    \n",
    "    \n",
    "    \n",
    "    \n",
    "    \n",
    "    \n",
    "    \n",
    "    "
   ]
  },
  {
   "cell_type": "code",
   "execution_count": 28,
   "metadata": {},
   "outputs": [
    {
     "name": "stdout",
     "output_type": "stream",
     "text": [
      "Initial re:3.5443516014972163\n",
      "Found re:3.8494673903512546\n",
      "Found re:3.892807696152707\n",
      "Found re:3.903015938313854\n",
      "Found re:3.903015938313854\n"
     ]
    },
    {
     "data": {
      "text/plain": [
       "(array([  0.36345977,   0.67256004,   0.93517724, ...,  19.47742812,\n",
       "         19.49747538,  19.50865213]),\n",
       " array([ 1.437356  ,  1.39618278,  1.07785511, ...,  0.00247395,\n",
       "         0.00417994,  0.00304228], dtype=float32),\n",
       " 0.24367458,\n",
       " 3.9069520859284421,\n",
       " 52.48381)"
      ]
     },
     "execution_count": 28,
     "metadata": {},
     "output_type": "execute_result"
    }
   ],
   "source": [
    "img, segmap, img_id = get_random_spheroids(num=1)[0]\n",
    "\n",
    "\n",
    "iterative_profile_expansion(img, segmap, img_id)"
   ]
  }
 ],
 "metadata": {
  "kernelspec": {
   "display_name": "Python 3",
   "language": "python",
   "name": "python3"
  },
  "language_info": {
   "codemirror_mode": {
    "name": "ipython",
    "version": 3
   },
   "file_extension": ".py",
   "mimetype": "text/x-python",
   "name": "python",
   "nbconvert_exporter": "python",
   "pygments_lexer": "ipython3",
   "version": "3.6.1"
  }
 },
 "nbformat": 4,
 "nbformat_minor": 2
}
