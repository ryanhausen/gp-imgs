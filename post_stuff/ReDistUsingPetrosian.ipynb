{
 "cells": [
  {
   "cell_type": "code",
   "execution_count": 48,
   "metadata": {},
   "outputs": [
    {
     "name": "stdout",
     "output_type": "stream",
     "text": [
      "Using matplotlib backend: Qt5Agg\n"
     ]
    }
   ],
   "source": [
    "# adds parent dir to python path\n",
    "import sys\n",
    "sys.path.insert(0, '..')\n",
    "\n",
    "#system lib\n",
    "import os\n",
    "import json\n",
    "\n",
    "# 3rd party lib\n",
    "import numpy as np\n",
    "#import matplotlib\n",
    "#import matplotlib.pyplot as plt\n",
    "#%matplotlib notebook\n",
    "#matplotlib.rcParams.update({'font.size': 22})\n",
    "#from bqplot import pyplot as plt\n",
    "\n",
    "import matplotlib.pyplot as plt\n",
    "%matplotlib auto\n",
    "\n",
    "# astro lib\n",
    "from astropy.io import fits\n",
    "import sep\n",
    "\n",
    "# my lib\n",
    "import ImageTools as it\n",
    "import DataTools as dt\n",
    "from gphelper import GPHelper\n",
    "\n",
    "from importlib import reload\n",
    "\n",
    "import warnings\n",
    "warnings.filterwarnings('ignore')"
   ]
  },
  {
   "cell_type": "code",
   "execution_count": 47,
   "metadata": {},
   "outputs": [],
   "source": [
    "def make_nonnegative(img):\n",
    "    epsilon = np.abs(img.min()) + 1e-3\n",
    "    img[img<=0] = img[img>0].min()\n",
    "    return img\n",
    "\n",
    "def get_random_spheroids(num=10):\n",
    "    with open('../spheroids', 'r') as f:\n",
    "        spheroids = np.array(f.readlines())\n",
    "    \n",
    "    if num==-1:\n",
    "        num = len(spheroids)\n",
    "    \n",
    "    selected = np.random.choice(spheroids, num, replace=False)\n",
    "    \n",
    "    data_dir = os.path.join(os.getenv('HOME'), 'Documents/astro_data/orig_images')\n",
    "    fmask = 'GDS_{}_{}.fits'\n",
    "    f_string = os.path.join(data_dir, fmask)\n",
    "\n",
    "    sources = []\n",
    "    for s in selected:\n",
    "        img = fits.getdata(f_string.format(s.strip(), 'h'))\n",
    "        segmap = fits.getdata(f_string.format(s.strip(), 'segmap'))\n",
    "        img_id = int(s.split('_')[1])\n",
    "        sources.append((img.copy(), segmap.copy(), img_id))\n",
    "        del img \n",
    "        del segmap\n",
    "    \n",
    "    return sources\n",
    "\n",
    "# Petrosian Helpers ----------------------------------------------------------\n",
    "def one_over_eta(rs, fs, R):\n",
    "    return ((np.pi*R**2) / (np.sum(fs[rs<=R]))) * fs[rs==R]\n",
    "\n",
    "def petrosian_radius(rs, fs):\n",
    "    #r_candidates = np.array([one_over_eta(rs, fs, R) for R in rs])\n",
    "    r_candidates = np.array([fs[rs==r]/fs[rs<=r].mean() for r in rs]).flatten()\n",
    "    r_candidates = r_candidates[rs<12.5]\n",
    "    \n",
    "    return rs[np.square(r_candidates-0.2).argmin()]\n",
    "\n",
    "def petrosian_flux(rs, fs, R_p):\n",
    "    return np.sum(fs[rs<=2*R_p])\n",
    "\n",
    "def R_x(rs, fs, x):\n",
    "    x /= 100\n",
    "    sum_ratio = np.cumsum(fs)/np.sum(fs)\n",
    "    return rs[np.square(sum_ratio-x).argmin()]\n",
    "\n",
    "def petrosian_Re(R_50, R_90):\n",
    "    P_3 = 8e-6\n",
    "    P_4 = 8.47\n",
    "    R_ratio = min(R_90/R_50, 3.8)\n",
    "    return R_50 / (1 - (P_3 * (R_ratio)**P_4))\n",
    "\n",
    "def get_rs_and_fs(img, src_map):\n",
    "    cx, cy = it.img_center(img, src_map)\n",
    "    xs, ys = np.meshgrid(np.arange(img.shape[0]), np.arange(img.shape[1]).T)\n",
    "    rs = np.sqrt(np.square(xs-cx)+np.square(ys-cy))\n",
    "    \n",
    "    rs = rs.flatten()\n",
    "    fs = img.flatten()\n",
    "    sorted_rs = np.argsort(rs)\n",
    "    \n",
    "    rs = rs[sorted_rs]\n",
    "    fs = fs[sorted_rs]\n",
    "    \n",
    "    return rs, fs\n",
    "\n",
    "def get_re(img, src_map):\n",
    "    rs, fs = get_rs_and_fs(img, src_map)\n",
    "    \n",
    "    R_p = petrosian_radius(rs, fs)\n",
    "    F_p = petrosian_flux(rs, fs, R_p)\n",
    "    p_mask = rs <= 2*R_p\n",
    "    \n",
    "    _rs = rs[p_mask]\n",
    "    _fs = fs[p_mask]\n",
    "\n",
    "    R_50 = R_x(_rs, _fs, 50)\n",
    "    R_90 = R_x(_rs, _fs, 90)\n",
    "\n",
    "    re = petrosian_Re(R_50, R_90)\n",
    "    re_idx = np.square(_rs-re).argmin()\n",
    "    \n",
    "    return rs[re_idx], rs, fs\n",
    "\n",
    "def get_re(rsfs):\n",
    "    rs, fs = rsfs\n",
    "    \n",
    "    R_p = petrosian_radius(rs, fs)\n",
    "    F_p = petrosian_flux(rs, fs, R_p)\n",
    "    p_mask = rs <= 2*R_p\n",
    "    \n",
    "    _rs = rs[p_mask]\n",
    "    _fs = fs[p_mask]\n",
    "\n",
    "    R_50 = R_x(_rs, _fs, 50)\n",
    "    R_90 = R_x(_rs, _fs, 90)\n",
    "\n",
    "    re = petrosian_Re(R_50, R_90)\n",
    "    re_idx = np.square(_rs-re).argmin()\n",
    "    \n",
    "    return rs[re_idx]\n",
    "\n",
    "# Petrosian Helpers ----------------------------------------------------------\n",
    "\n",
    "def denoise(img, segmap, img_id):\n",
    "    noise_bank = img[segmap==0].flatten()\n",
    "    other_source = np.logical_and(segmap!=0, segmap!=img_id)\n",
    "    np.place(img, other_source, noise_bank)\n",
    "    \n",
    "    array_sep_likes = img.byteswap().newbyteorder()\n",
    "    bkg = sep.Background(array_sep_likes, mask=segmap==img_id, bw=10, bh=10)\n",
    "    img = img-bkg\n",
    "    \n",
    "    return img\n",
    "\n",
    "# https://ned.ipac.caltech.edu/level5/March05/Graham/Graham2.html\n",
    "def sersic(x):\n",
    "    def b(n):\n",
    "        return 1.9992*n-0.3271\n",
    "\n",
    "    def I(r):\n",
    "        \"\"\"Assuming that I_e=1.0 and that R_e=1.0\"\"\"\n",
    "        n = 4\n",
    "        return np.exp(-b(n) * (np.power(r, 1/n)  - 1))\n",
    "\n",
    "    return I(x)"
   ]
  },
  {
   "cell_type": "code",
   "execution_count": 378,
   "metadata": {
    "scrolled": true
   },
   "outputs": [
    {
     "name": "stdout",
     "output_type": "stream",
     "text": [
      "1.098\r"
     ]
    }
   ],
   "source": [
    "reload(dt)\n",
    "\n",
    "re_max_ratio = []\n",
    "_spheroids = get_random_spheroids(num=-1)\n",
    "\n",
    "res = []\n",
    "ies = []\n",
    "normed_rs = []\n",
    "normed_fs = []\n",
    "count = 0\n",
    "\n",
    "small_res = []\n",
    "\n",
    "for img, segmap, img_id in _spheroids:\n",
    "    count += 1\n",
    "    \n",
    "    print(count/len(_spheroids), end='\\r')\n",
    "\n",
    "    #background subtract images\n",
    "    src_map = segmap==img_id\n",
    "    \n",
    "    img = denoise(img, segmap, img_id)\n",
    "    \n",
    "    # get the sorted r vals and i vals\n",
    "    rs, fs = get_rs_and_fs(img, src_map)\n",
    "    \n",
    "    # smooth the fs using loess\n",
    "    #fs = dt.loessc(rs, fs, .60)\n",
    "    fs = dt.loessc_p(rs, fs, 6.0, pnum=4)\n",
    "    #print(len(rs), len(fs))\n",
    "    #fs = lowess(fs, rs)\n",
    "    #print(len(rs), len(fs))\n",
    "    \n",
    "    # measure petrosian re \n",
    "    re = get_re((rs,fs))\n",
    "\n",
    "    \n",
    "    if re<3:\n",
    "        small_res.append((img_id, re))\n",
    "        \n",
    "    \n",
    "    re_idx = np.where(rs==re)[0][0] \n",
    "    \n",
    "    ie = fs[re_idx]\n",
    "    \n",
    "    #sum_to_re = fs[rs<=re_idx].sum()\n",
    "    #src_L = sum_to_re*2\n",
    "    #img_L = fs.sum()\n",
    "    #if src_L>img_L:\n",
    "    #    re_max_ratio.append(sum_to_re/img_L)\n",
    "    #    continue\n",
    "    \n",
    "    #max_r = np.square(np.cumsum(fs)-src_L).argmin()\n",
    "    \n",
    "    #max_r = rs[max_r]\n",
    "    \n",
    "    #fs = fs\n",
    "    #rs = rs\n",
    "    pos = lambda a: a if (a<=0).sum()==0 else a + ap.abs(a.min()) + 1e-3\n",
    "    normed_rs.append(pos(rs))\n",
    "    normed_fs.append(fs)\n",
    "    ies.append(ie)\n",
    "    res.append(re)    "
   ]
  },
  {
   "cell_type": "code",
   "execution_count": 182,
   "metadata": {},
   "outputs": [
    {
     "data": {
      "text/plain": [
       "(array([  1.,   0.,   0.,   0.,   1.,   0.,   0.,   1.,   2.,   4.,   4.,\n",
       "          7.,   6.,  17.,  11.,  12.,  13.,  14.,  14.,  13.,  15.,  15.,\n",
       "         15.,  16.,  13.,  15.,  13.,   9.,  12.,  12.,  19.,  10.,  17.,\n",
       "         10.,  14.,  12.,   6.,   8.,   7.,   9.,   3.,  10.,   3.,   5.,\n",
       "          4.,   3.,   2.,   3.,   5.,   4.,   6.,   2.,   3.,   5.,   3.,\n",
       "          3.,   4.,   3.,   3.,   7.,   3.,   2.,   3.,   5.,   2.,   1.,\n",
       "          1.,   1.,   0.,   3.,   1.,   1.,   1.,   2.,   0.,   1.,   2.,\n",
       "          0.,   3.,   2.,   1.,   0.,   1.,   2.,   1.,   0.,   0.,   2.,\n",
       "          1.,   2.,   2.,   1.,   1.,   1.,   2.,   0.,   0.,   0.,   0.,\n",
       "          1.]),\n",
       " array([ 2.43620418,  2.48057556,  2.52494693,  2.56931831,  2.61368969,\n",
       "         2.65806107,  2.70243245,  2.74680383,  2.7911752 ,  2.83554658,\n",
       "         2.87991796,  2.92428934,  2.96866072,  3.0130321 ,  3.05740348,\n",
       "         3.10177485,  3.14614623,  3.19051761,  3.23488899,  3.27926037,\n",
       "         3.32363175,  3.36800312,  3.4123745 ,  3.45674588,  3.50111726,\n",
       "         3.54548864,  3.58986002,  3.63423139,  3.67860277,  3.72297415,\n",
       "         3.76734553,  3.81171691,  3.85608829,  3.90045966,  3.94483104,\n",
       "         3.98920242,  4.0335738 ,  4.07794518,  4.12231656,  4.16668793,\n",
       "         4.21105931,  4.25543069,  4.29980207,  4.34417345,  4.38854483,\n",
       "         4.43291621,  4.47728758,  4.52165896,  4.56603034,  4.61040172,\n",
       "         4.6547731 ,  4.69914448,  4.74351585,  4.78788723,  4.83225861,\n",
       "         4.87662999,  4.92100137,  4.96537275,  5.00974412,  5.0541155 ,\n",
       "         5.09848688,  5.14285826,  5.18722964,  5.23160102,  5.27597239,\n",
       "         5.32034377,  5.36471515,  5.40908653,  5.45345791,  5.49782929,\n",
       "         5.54220066,  5.58657204,  5.63094342,  5.6753148 ,  5.71968618,\n",
       "         5.76405756,  5.80842894,  5.85280031,  5.89717169,  5.94154307,\n",
       "         5.98591445,  6.03028583,  6.07465721,  6.11902858,  6.16339996,\n",
       "         6.20777134,  6.25214272,  6.2965141 ,  6.34088548,  6.38525685,\n",
       "         6.42962823,  6.47399961,  6.51837099,  6.56274237,  6.60711375,\n",
       "         6.65148512,  6.6958565 ,  6.74022788,  6.78459926,  6.82897064,\n",
       "         6.87334202]),\n",
       " <a list of 100 Patch objects>)"
      ]
     },
     "execution_count": 182,
     "metadata": {},
     "output_type": "execute_result"
    }
   ],
   "source": [
    "plt.title('Effective Radius')\n",
    "plt.xlabel('$R_e$(Pixels)')\n",
    "plt.hist(res, bins=100)\n"
   ]
  },
  {
   "cell_type": "code",
   "execution_count": 127,
   "metadata": {},
   "outputs": [
    {
     "data": {
      "text/plain": [
       "(500, 1000)"
      ]
     },
     "execution_count": 127,
     "metadata": {},
     "output_type": "execute_result"
    }
   ],
   "source": [
    "stat_vals.shape"
   ]
  },
  {
   "cell_type": "code",
   "execution_count": 129,
   "metadata": {},
   "outputs": [],
   "source": [
    "interped_marks = np.concatenate([np.linspace(0, 1, 50, endpoint=False), np.linspace(1, 20, 950)])\n",
    "#stat_vals = np.dstack(stat_vals)[0,...]\n",
    "f_mean = np.log10(np.nanmedian(stat_vals, axis=0))\n",
    "f_16 = np.log10(np.nanpercentile(stat_vals, 16, axis=0))\n",
    "f_84 = np.log10(np.nanpercentile(stat_vals, 84, axis=0))\n",
    "    \n",
    "plt.plot(interped_marks, f_mean, color='r', label='$median$', zorder=100)\n",
    "plt.fill_between(interped_marks, f_16, f_84, color='r', alpha=0.45, label=\"$16^{th}-84^{th}$\", zorder=100)\n",
    "plt.legend()\n",
    "plt.show()"
   ]
  },
  {
   "cell_type": "code",
   "execution_count": 50,
   "metadata": {},
   "outputs": [],
   "source": [
    "interped_marks = np.concatenate([np.linspace(0, 1, 50, endpoint=False), np.linspace(1, 20, 950)])\n",
    "\n",
    "stat_vals = []\n",
    "\n",
    "plt.figure()\n",
    "plt.title('Normalized Surface Brightness')\n",
    "plt.xlabel('$R/R_e$')\n",
    "plt.ylabel('$I/I_e$')\n",
    "\n",
    "for rs, fs, re, ie in zip(normed_rs, normed_fs, res, ies):\n",
    "    color = 'b'\n",
    "    if np.sum(fs<=0) > 0:\n",
    "        fs = fs + np.abs(fs.min()) + 1e-3\n",
    "        ie = fs[rs==re][0]\n",
    "    \n",
    "    r = rs/re\n",
    "    f = fs/ie\n",
    "    plt.semilogy(r, f, color='k', alpha=.05)\n",
    "    stat_vals.append(np.interp(interped_marks, r, f, left=np.nan, right=np.nan))\n",
    "    \n",
    "\n",
    "stat_vals = np.dstack(stat_vals)[0,...]\n",
    "f_mean = np.nanmedian(stat_vals, axis=1)\n",
    "f_16 = np.nanpercentile(stat_vals, 16, axis=1)\n",
    "f_84 = np.nanpercentile(stat_vals, 84, axis=1)\n",
    "    \n",
    "plt.semilogy(interped_marks, f_mean, color='r', label='$median$', zorder=100)\n",
    "plt.fill_between(interped_marks, f_16, f_84, color='r', alpha=0.45, label=\"$16^{th}-84^{th}$\", zorder=100)\n",
    "plt.legend()\n",
    "plt.show()"
   ]
  },
  {
   "cell_type": "code",
   "execution_count": 52,
   "metadata": {},
   "outputs": [
    {
     "data": {
      "text/plain": [
       "array([[ 1.        ,  0.35850239],\n",
       "       [ 0.35850239,  1.        ]])"
      ]
     },
     "execution_count": 52,
     "metadata": {},
     "output_type": "execute_result"
    }
   ],
   "source": [
    "plt.scatter(res, ies)\n",
    "plt.xlabel('$R_e$')\n",
    "plt.ylabel('$I_e$')\n",
    "plt.title('$R_e$ $I_e$ Correlation')\n",
    "np.corrcoef(res, ies)"
   ]
  },
  {
   "cell_type": "code",
   "execution_count": 134,
   "metadata": {},
   "outputs": [],
   "source": [
    "valid_points = ~np.isnan(stat_vals).all(axis=0)\n",
    "\n",
    "X = interped_marks[valid_points, np.newaxis]\n",
    "Y = f_mean[valid_points]\n",
    "a = f_84[valid_points] - Y\n",
    "\n",
    "vals = {'x':dt._nmpy_encode(X),\n",
    "        'y':dt._nmpy_encode(Y),\n",
    "        'a':dt._nmpy_encode(a)}\n",
    "with open('vals_for_gp.json', 'w') as f:\n",
    "    json.dump(vals,f)"
   ]
  },
  {
   "cell_type": "code",
   "execution_count": 135,
   "metadata": {},
   "outputs": [
    {
     "name": "stdout",
     "output_type": "stream",
     "text": [
      "(999,) (999,) (999,)\n"
     ]
    }
   ],
   "source": [
    "with open('vals_for_gp.json', 'r') as f:\n",
    "    vals = json.load(f)\n",
    "    \n",
    "X = dt._nmpy_decode(vals['x'])[:,0]\n",
    "Y = dt._nmpy_decode(vals['y'])\n",
    "a = dt._nmpy_decode(vals['a'])\n",
    "\n",
    "print(X.shape, Y.shape, a.shape)"
   ]
  },
  {
   "cell_type": "code",
   "execution_count": 162,
   "metadata": {},
   "outputs": [
    {
     "name": "stdout",
     "output_type": "stream",
     "text": [
      "(349,) (349,) (349,)\n"
     ]
    },
    {
     "data": {
      "text/plain": [
       "<matplotlib.text.Text at 0x7f8def61fa20>"
      ]
     },
     "execution_count": 162,
     "metadata": {},
     "output_type": "execute_result"
    }
   ],
   "source": [
    "# truncate lines from 5re and on\n",
    "\n",
    "_X = X[X<=7.0]\n",
    "_Y = Y[X<=7.0]\n",
    "_a = a[X<=7.0]\n",
    "tmp = _Y-_a\n",
    "\n",
    "\n",
    "print(_X.shape, _Y.shape, _a.shape)\n",
    "split_idx = np.argmin(np.diff(_a))\n",
    "split_val = _X[split_idx]\n",
    "\n",
    "# fit and pad line to smooth\n",
    "plt.plot(_X[split_idx:],_Y[split_idx:], label='Measured Values')\n",
    "plt.fill_between(_X[split_idx:], tmp[split_idx:], _Y[split_idx:]+_a[split_idx:], alpha=0.2)\n",
    "\n",
    "_X = _X[split_idx:]\n",
    "_Y = _Y[split_idx:]\n",
    "_a = _a[split_idx:]\n",
    "\n",
    "_X, _Y = dt.pad_line(_X, _Y, 10, 10, append=False)\n",
    "_, _a = dt.pad_line(_X, _a, 10, 10, append=False)\n",
    "\n",
    "plt.plot(_X[_X<split_val], _Y[_X<split_val], '--', label='Linear Fit Values')\n",
    "plt.fill_between(_X[_X<split_val], _Y[_X<split_val]-_a[_X<split_val], _Y[_X<split_val]+_a[_X<split_val], alpha=0.2)\n",
    "\n",
    "plt.xlabel('$R/R_e$')\n",
    "plt.ylabel('$I/I_e (Log)$')\n",
    "plt.title('Measured Surface Brightnes W/Linear Fit Projection')\n",
    "#plt.legend()"
   ]
  },
  {
   "cell_type": "code",
   "execution_count": 145,
   "metadata": {},
   "outputs": [
    {
     "name": "stdout",
     "output_type": "stream",
     "text": [
      "Optimization terminated successfully.\n",
      "         Current function value: 32.861168\n",
      "         Iterations: 14\n",
      "         Function evaluations: 28\n"
     ]
    }
   ],
   "source": [
    "gp = GPHelper()\n",
    "gp.fit(_X[:,np.newaxis], _Y, _a, length_scale=0.75, optimize='sigma_n')\n",
    "_x, std = gp.predict(_X[:, np.newaxis], return_std=True)"
   ]
  },
  {
   "cell_type": "code",
   "execution_count": 153,
   "metadata": {},
   "outputs": [
    {
     "data": {
      "text/plain": [
       "<matplotlib.legend.Legend at 0x7f8df1271588>"
      ]
     },
     "execution_count": 153,
     "metadata": {},
     "output_type": "execute_result"
    }
   ],
   "source": [
    "plt.plot(_X,_Y, label='GP Fit')\n",
    "plt.fill_between(_X, _Y-std, _Y+std, alpha=0.2)\n",
    "plt.legend()"
   ]
  },
  {
   "cell_type": "code",
   "execution_count": 199,
   "metadata": {},
   "outputs": [
    {
     "name": "stdout",
     "output_type": "stream",
     "text": [
      "Drawing Samples.    \r"
     ]
    },
    {
     "data": {
      "text/plain": [
       "<matplotlib.text.Text at 0x7f8de95adbe0>"
      ]
     },
     "execution_count": 199,
     "metadata": {},
     "output_type": "execute_result"
    }
   ],
   "source": [
    "test_vals = np.concatenate([np.linspace(0.01, 1, 50, endpoint=False), np.linspace(1, 5, 250)])"
   ]
  },
  {
   "cell_type": "code",
   "execution_count": 365,
   "metadata": {},
   "outputs": [
    {
     "name": "stdout",
     "output_type": "stream",
     "text": [
      "Drawing Samples.    \r"
     ]
    }
   ],
   "source": [
    "samples = gp.sample(test_vals[:,np.newaxis], num_samples=500)"
   ]
  },
  {
   "cell_type": "code",
   "execution_count": 368,
   "metadata": {},
   "outputs": [],
   "source": [
    "for i in range(samples.shape[0]):\n",
    "    plt.plot(test_vals, samples[i,:,0], color='b', alpha=0.2)"
   ]
  },
  {
   "cell_type": "code",
   "execution_count": 358,
   "metadata": {},
   "outputs": [],
   "source": [
    "def eff_r(rs, fs):\n",
    "    \n",
    "    diff = np.diff(rs).mean()\n",
    "    \n",
    "    def flux_sum(upto):\n",
    "        _rs = rs[rs<=upto]\n",
    "        _fs = fs[rs<=upto]\n",
    "        i_flux = fs[0] * rs[0]**2 * np.pi\n",
    "        #print(f'flux = {fs[0]} * {rs[0]**2} * {np.pi} = {i_flux}')\n",
    "        if len(_rs) > 1:\n",
    "            for r1, r2, f in zip(_rs[0:-1], _rs[1:], _fs[1:]):\n",
    "                rweight = (r2**2 - r1**2) * np.pi\n",
    "                i_flux += rweight * f\n",
    "                #print(f'{r1}->{r2} = {f}*{diff**2} = {diff**2 * f}')\n",
    "                #print(f'Total Flux:{i_flux}')\n",
    "            \n",
    "        return i_flux\n",
    "    \n",
    "    def eta_point(r):\n",
    "        \n",
    "        #numer = fs[rs==r][0] * np.pi * diff**2\n",
    "        numer = fs[rs==r][0]\n",
    "        denom = fs[rs<=r].mean()\n",
    "        fsum = flux_sum(r)\n",
    "        denom = fsum /(np.pi*r**2)\n",
    "        \n",
    "        #print(f'{numer}/{denom}\\t{fsum}\\t{np.pi*r**2}')\n",
    "        #print(f'{numer}/{denom}')\n",
    "        \n",
    "        \n",
    "        return numer/denom\n",
    "        \n",
    "    \n",
    "    #flux_sum = lambda x: np.sum([np.pi*r*fs[rs==r] for r in rs[rs<=x]])\n",
    "    #eta_point = lambda r: ((np.pi*r**2*fs[rs==r]) / (flux_sum(r)/(np.pi*r**2))) \n",
    "    eta_line = np.array([eta_point(r) for r in rs])\n",
    "    plt.plot(rs, eta_line, color='b', alpha=0.1)\n",
    "    \n",
    "    petr_r = rs[np.square(eta_line[rs<12.5]-0.2).argmin()]\n",
    "    _fs = np.array([np.pi*r**2*f for r,f in zip(rs[rs<=2*petr_r], fs[rs<=2*petr_r])])\n",
    "    petr_f = _fs.sum()\n",
    "    \n",
    "    def rx(rs, fs, x):\n",
    "        x /= 100\n",
    "        sum_ratio = np.cumsum(fs)/petr_f\n",
    "        return rs[np.square(sum_ratio-x).argmin()]\n",
    "    \n",
    "    r50 = rx(rs, _fs, 50)\n",
    "    r90 = rx(rs, _fs, 90)\n",
    "    p3 = 8e-6\n",
    "    p4 = 8.47\n",
    "    \n",
    "    return r50 / (1 - p3*(r90/r50)**p4)"
   ]
  },
  {
   "cell_type": "code",
   "execution_count": null,
   "metadata": {},
   "outputs": [
    {
     "name": "stdout",
     "output_type": "stream",
     "text": [
      "0.374\r"
     ]
    }
   ],
   "source": [
    "new_res = []\n",
    "old_new_diffs = []\n",
    "\n",
    "count = 0\n",
    "for rs, fs, re, ie in zip(normed_rs, normed_fs, res, ies):\n",
    "    #rs *= re\n",
    "    #fs *= ie\n",
    "    if fs.max() > 8:\n",
    "        print(re, ie)\n",
    "        continue\n",
    "    \n",
    "    count+=1\n",
    "    print(count/len(normed_rs), end='\\r')\n",
    "    #plt.plot(rs*re, fs*ie, color='b', alpha=0.2)\n",
    "    new_re = eff_r(rs*re, fs*ie)\n",
    "    new_res.append(new_re)"
   ]
  },
  {
   "cell_type": "code",
   "execution_count": 364,
   "metadata": {},
   "outputs": [
    {
     "ename": "IndexError",
     "evalue": "list index out of range",
     "output_type": "error",
     "traceback": [
      "\u001b[0;31m---------------------------------------------------------------------------\u001b[0m",
      "\u001b[0;31mIndexError\u001b[0m                                Traceback (most recent call last)",
      "\u001b[0;32m<ipython-input-364-48ac90cd9f48>\u001b[0m in \u001b[0;36m<module>\u001b[0;34m()\u001b[0m\n\u001b[1;32m      5\u001b[0m     \u001b[0min_idx\u001b[0m \u001b[0;34m=\u001b[0m \u001b[0mnp\u001b[0m\u001b[0;34m.\u001b[0m\u001b[0mrandom\u001b[0m\u001b[0;34m.\u001b[0m\u001b[0mrandint\u001b[0m\u001b[0;34m(\u001b[0m\u001b[0;36m1\u001b[0m\u001b[0;34m,\u001b[0m\u001b[0;36m501\u001b[0m\u001b[0;34m)\u001b[0m\u001b[0;34m\u001b[0m\u001b[0m\n\u001b[1;32m      6\u001b[0m \u001b[0;34m\u001b[0m\u001b[0m\n\u001b[0;32m----> 7\u001b[0;31m     \u001b[0min_ie\u001b[0m \u001b[0;34m=\u001b[0m \u001b[0mies\u001b[0m\u001b[0;34m[\u001b[0m\u001b[0min_idx\u001b[0m\u001b[0;34m]\u001b[0m\u001b[0;34m\u001b[0m\u001b[0m\n\u001b[0m\u001b[1;32m      8\u001b[0m     \u001b[0min_re\u001b[0m \u001b[0;34m=\u001b[0m \u001b[0mres\u001b[0m\u001b[0;34m[\u001b[0m\u001b[0min_idx\u001b[0m\u001b[0;34m]\u001b[0m\u001b[0;34m\u001b[0m\u001b[0m\n\u001b[1;32m      9\u001b[0m \u001b[0;34m\u001b[0m\u001b[0m\n",
      "\u001b[0;31mIndexError\u001b[0m: list index out of range"
     ]
    }
   ],
   "source": [
    "new_res = []\n",
    "old_new_diffs = []\n",
    "\n",
    "for i in range(500):#samples.shape[0]):\n",
    "    in_idx = np.random.randint(1,501)\n",
    "    \n",
    "    in_ie = ies[in_idx]\n",
    "    in_re = res[in_idx]\n",
    "    \n",
    "    s = samples[i,:,0]\n",
    "    s = 10**s * in_ie\n",
    "\n",
    "    r = test_vals * in_re\n",
    "\n",
    "    #plt.figure()\n",
    "    #plt.plot(r, s, '.', label='SBP')\n",
    "    #plt.xlabel('R')\n",
    "    #plt.legend()\n",
    "    #plt.figure()\n",
    "    new_re = eff_r(r, s)\n",
    "    new_res.append(new_re)\n",
    "    old_new_diffs.append(abs(in_re-new_re))"
   ]
  },
  {
   "cell_type": "code",
   "execution_count": 363,
   "metadata": {},
   "outputs": [
    {
     "data": {
      "text/plain": [
       "(array([  1.,   0.,   0.,   0.,   1.,   0.,   0.,   1.,   2.,   4.,   4.,\n",
       "          7.,   6.,  17.,  11.,  12.,  13.,  14.,  14.,  13.,  15.,  15.,\n",
       "         15.,  16.,  13.,  15.,  13.,   9.,  12.,  12.,  19.,  10.,  17.,\n",
       "         10.,  14.,  12.,   6.,   8.,   7.,   9.,   3.,  10.,   3.,   5.,\n",
       "          4.,   3.,   2.,   3.,   5.,   4.,   6.,   2.,   3.,   5.,   3.,\n",
       "          3.,   4.,   3.,   3.,   7.,   3.,   2.,   3.,   5.,   2.,   1.,\n",
       "          1.,   1.,   0.,   3.,   1.,   1.,   1.,   2.,   0.,   1.,   2.,\n",
       "          0.,   3.,   2.,   1.,   0.,   1.,   2.,   1.,   0.,   0.,   2.,\n",
       "          1.,   2.,   2.,   1.,   1.,   1.,   2.,   0.,   0.,   0.,   0.,\n",
       "          1.]),\n",
       " array([ 2.43620418,  2.48057556,  2.52494693,  2.56931831,  2.61368969,\n",
       "         2.65806107,  2.70243245,  2.74680383,  2.7911752 ,  2.83554658,\n",
       "         2.87991796,  2.92428934,  2.96866072,  3.0130321 ,  3.05740348,\n",
       "         3.10177485,  3.14614623,  3.19051761,  3.23488899,  3.27926037,\n",
       "         3.32363175,  3.36800312,  3.4123745 ,  3.45674588,  3.50111726,\n",
       "         3.54548864,  3.58986002,  3.63423139,  3.67860277,  3.72297415,\n",
       "         3.76734553,  3.81171691,  3.85608829,  3.90045966,  3.94483104,\n",
       "         3.98920242,  4.0335738 ,  4.07794518,  4.12231656,  4.16668793,\n",
       "         4.21105931,  4.25543069,  4.29980207,  4.34417345,  4.38854483,\n",
       "         4.43291621,  4.47728758,  4.52165896,  4.56603034,  4.61040172,\n",
       "         4.6547731 ,  4.69914448,  4.74351585,  4.78788723,  4.83225861,\n",
       "         4.87662999,  4.92100137,  4.96537275,  5.00974412,  5.0541155 ,\n",
       "         5.09848688,  5.14285826,  5.18722964,  5.23160102,  5.27597239,\n",
       "         5.32034377,  5.36471515,  5.40908653,  5.45345791,  5.49782929,\n",
       "         5.54220066,  5.58657204,  5.63094342,  5.6753148 ,  5.71968618,\n",
       "         5.76405756,  5.80842894,  5.85280031,  5.89717169,  5.94154307,\n",
       "         5.98591445,  6.03028583,  6.07465721,  6.11902858,  6.16339996,\n",
       "         6.20777134,  6.25214272,  6.2965141 ,  6.34088548,  6.38525685,\n",
       "         6.42962823,  6.47399961,  6.51837099,  6.56274237,  6.60711375,\n",
       "         6.65148512,  6.6958565 ,  6.74022788,  6.78459926,  6.82897064,\n",
       "         6.87334202]),\n",
       " <a list of 100 Patch objects>)"
      ]
     },
     "execution_count": 363,
     "metadata": {},
     "output_type": "execute_result"
    }
   ],
   "source": [
    "plt.hist(new_res, bins=100, alpha=0.5)\n",
    "#plt.figure()\n",
    "plt.hist(res, bins=100, alpha=0.5)"
   ]
  },
  {
   "cell_type": "markdown",
   "metadata": {},
   "source": [
    "$$\\frac{1}{\\eta}(R) = \\frac{I(R)}{\\langle I \\rangle_R}$$"
   ]
  },
  {
   "cell_type": "code",
   "execution_count": null,
   "metadata": {},
   "outputs": [],
   "source": []
  }
 ],
 "metadata": {
  "kernelspec": {
   "display_name": "Python [default]",
   "language": "python",
   "name": "python3"
  },
  "language_info": {
   "codemirror_mode": {
    "name": "ipython",
    "version": 3
   },
   "file_extension": ".py",
   "mimetype": "text/x-python",
   "name": "python",
   "nbconvert_exporter": "python",
   "pygments_lexer": "ipython3",
   "version": "3.6.2"
  }
 },
 "nbformat": 4,
 "nbformat_minor": 2
}
