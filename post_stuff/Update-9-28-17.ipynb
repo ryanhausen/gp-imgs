{
 "cells": [
  {
   "cell_type": "code",
   "execution_count": 6,
   "metadata": {},
   "outputs": [],
   "source": [
    "# adds parent dir to python path\n",
    "import sys\n",
    "sys.path.insert(0, '..')\n",
    "\n",
    "import os\n",
    "\n",
    "import numpy as np\n",
    "import sep\n",
    "import matplotlib.pyplot as plt\n",
    "\n",
    "from astropy.io import fits\n",
    "\n",
    "import gphelper as gp\n",
    "import ImageTools as it\n",
    "import DataTools as dt"
   ]
  },
  {
   "cell_type": "code",
   "execution_count": 3,
   "metadata": {},
   "outputs": [],
   "source": [
    "def make_nonnegative(img):\n",
    "    epsilon = 0 if len(img[img<0])==0 else img[img>0].min()\n",
    "    return img + abs(img.min()) + epsilon\n",
    "\n",
    "def get_random_spheroids(num=10):\n",
    "    with open('../spheroids', 'r') as f:\n",
    "        spheroids = np.array(f.readlines())\n",
    "    \n",
    "    if num==-1:\n",
    "        num = len(spheroids)\n",
    "    \n",
    "    selected = np.random.choice(spheroids, num, replace=False)\n",
    "    \n",
    "    data_dir = os.path.join(os.getenv('HOME'), 'Documents/astro_data/orig_images')\n",
    "    fmask = 'GDS_{}_{}.fits'\n",
    "    f_string = os.path.join(data_dir, fmask)\n",
    "    \n",
    "    sources = []\n",
    "    for s in selected:\n",
    "        img = fits.getdata(f_string.format(s.strip(), 'h'))\n",
    "        segmap = fits.getdata(f_string.format(s.strip(), 'segmap'))\n",
    "        img_id = int(s.split('_')[1])\n",
    "        sources.append((img.copy(), segmap.copy(), img_id))\n",
    "        del img \n",
    "        del segmap\n",
    "    \n",
    "    return sources"
   ]
  },
  {
   "cell_type": "code",
   "execution_count": 116,
   "metadata": {},
   "outputs": [
    {
     "data": {
      "image/png": "[encoded data removed]",
      "text/plain": [
       "<matplotlib.figure.Figure at 0x7f7588a94e10>"
      ]
     },
     "metadata": {},
     "output_type": "display_data"
    },
    {
     "name": "stdout",
     "output_type": "stream",
     "text": [
      "Converged 1/1=1.0\n"
     ]
    }
   ],
   "source": [
    "spheroids = get_random_spheroids(num=1)\n",
    "num_converged, total = 0, len(spheroids)\n",
    "found_res = []\n",
    "\n",
    "for img, segmap, img_id in spheroids:\n",
    "    src_map = segmap==img_id\n",
    "    array_sep_likes = img.byteswap().newbyteorder()\n",
    "    bkg = sep.Background(array_sep_likes, mask=src_map,bw=10,bh=10)\n",
    "    img_sub = img-bkg\n",
    "    \n",
    "    cx, cy = it.img_center(img, src_map)\n",
    "    xs, ys = np.meshgrid(np.arange(img.shape[0]), np.arange(img.shape[1]).T)\n",
    "    rs = np.sqrt(np.square(cx-xs) + np.square(cy-ys))\n",
    "    \n",
    "    rs = rs.flatten()\n",
    "    fs = img.flatten()\n",
    "    fs_sub = img_sub.flatten()\n",
    "\n",
    "    sorted_rs = np.argsort(rs)\n",
    "    rs = rs[sorted_rs]\n",
    "    fs = fs[sorted_rs]\n",
    "    fs_sub = fs_sub[sorted_rs]\n",
    "    \n",
    "    fs[fs<0] = 0\n",
    "    fs_sub[fs_sub<0] = 0\n",
    "    \n",
    "    \n",
    "    fs_int = np.cumsum(fs)\n",
    "    fs_sub_int = np.cumsum(fs_sub)\n",
    "    \n",
    "    re = 0.1 * rs.max()\n",
    "    is_converged = False\n",
    "    tolerance = 1e-3\n",
    "    max_attempts = 1000\n",
    "    count = 0\n",
    "    \n",
    "    while (count < max_attempts):\n",
    "        int_limit = 5 * re\n",
    "        interp_re_int = np.interp(re, rs, fs_sub_int)\n",
    "        interp_int_limit = np.interp(int_limit, rs, fs_sub_int)\n",
    "            \n",
    "        if (interp_re_int/interp_int_limit-0.5 > tolerance):\n",
    "            re = re**0.995\n",
    "        elif (interp_re_int/interp_int_limit-0.5 < -tolerance):\n",
    "            re = re**1.01\n",
    "        else:\n",
    "            is_converged = True\n",
    "    \n",
    "        if is_converged:\n",
    "            found_res.append(re)\n",
    "            num_converged += 1\n",
    "            break\n",
    "    \n",
    "        count += 1\n",
    "    if True:\n",
    "        plt.figure()\n",
    "        plt.title(img_id)\n",
    "        plt.semilogy(rs, fs_sub_int)\n",
    "        plt.vlines([re], fs_sub_int.min(), fs_sub_int.max(), color='g', label='$R_e$')\n",
    "        plt.vlines([int_limit], fs_sub_int.min(), fs_sub_int.max(), color='r', label=\"$5R_e$\")\n",
    "        plt.legend()\n",
    "        plt.show()\n",
    "        \n",
    "        \n",
    "    if not is_converged:\n",
    "        print(f'{img_id} did not converge')\n",
    "\n",
    "print(f'Converged {num_converged}/{total}={num_converged/total}')    "
   ]
  },
  {
   "cell_type": "code",
   "execution_count": 104,
   "metadata": {},
   "outputs": [
    {
     "data": {
      "image/png": "[encoded data removed]",
      "text/plain": [
       "<matplotlib.figure.Figure at 0x7f7588912908>"
      ]
     },
     "metadata": {},
     "output_type": "display_data"
    }
   ],
   "source": [
    "#hist_res = found_res\n",
    "plt.hist(hist_res, bins=20)\n",
    "plt.show()\n"
   ]
  }
 ],
 "metadata": {
  "kernelspec": {
   "display_name": "Python [conda env:sep]",
   "language": "python",
   "name": "conda-env-sep-py"
  },
  "language_info": {
   "codemirror_mode": {
    "name": "ipython",
    "version": 3
   },
   "file_extension": ".py",
   "mimetype": "text/x-python",
   "name": "python",
   "nbconvert_exporter": "python",
   "pygments_lexer": "ipython3",
   "version": "3.6.2"
  }
 },
 "nbformat": 4,
 "nbformat_minor": 2
}
