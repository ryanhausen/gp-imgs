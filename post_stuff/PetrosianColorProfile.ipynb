{
 "cells": [
  {
   "cell_type": "code",
   "execution_count": 294,
   "metadata": {},
   "outputs": [
    {
     "name": "stdout",
     "output_type": "stream",
     "text": [
      "Using matplotlib backend: Qt5Agg\n"
     ]
    }
   ],
   "source": [
    "# adds parent dir to python path\n",
    "import sys\n",
    "sys.path.insert(0, '..')\n",
    "\n",
    "#system lib\n",
    "import os\n",
    "import json\n",
    "from importlib import reload\n",
    "from multiprocessing import Pool\n",
    "import warnings\n",
    "warnings.filterwarnings('ignore')\n",
    "\n",
    "# 3rd party lib\n",
    "import numpy as np\n",
    "import matplotlib.pyplot as plt\n",
    "%matplotlib auto\n",
    "\n",
    "# astro lib\n",
    "from astropy.io import fits\n",
    "import sep\n",
    "\n",
    "# my lib\n",
    "import ImageTools as it\n",
    "import DataTools as dt\n",
    "import gphelper\n",
    "from gphelper import GPHelper"
   ]
  },
  {
   "cell_type": "code",
   "execution_count": 10,
   "metadata": {},
   "outputs": [],
   "source": [
    "def make_nonnegative(img):\n",
    "    epsilon = np.abs(img.min()) + 1e-3\n",
    "    if img.min() <= 0:\n",
    "        img += epsilon\n",
    "    return img\n",
    "\n",
    "def get_spheroids(num=10, band='h'):\n",
    "    with open('../spheroids', 'r') as f:\n",
    "        spheroids= np.array(f.readlines())\n",
    "    \n",
    "    data_dir = os.path.join(os.getenv('HOME'), 'Documents/astro_data/orig_images')\n",
    "    fmask = 'GDS_{}_{}.fits'\n",
    "    f_string = os.path.join(data_dir, fmask)\n",
    "    \n",
    "    sources = []\n",
    "    for s in spheroids:\n",
    "        s = s.strip()\n",
    "        img = fits.getdata(f_string.format(s, band))\n",
    "        segmap = fits.getdata(f_string.format(s, 'segmap'))\n",
    "        img_id = int(s.split('_')[1])\n",
    "        sources.append((img.copy(), segmap.copy(), img_id))\n",
    "        del img\n",
    "        del segmap\n",
    "        \n",
    "    return sources\n",
    "        \n",
    "def process_img(args):\n",
    "    def denoise(img, segmap, img_id):\n",
    "        noise_bank = img[segmap==0].flatten()\n",
    "        other_source = np.logical_and(segmap!=0, segmap!=img_id)\n",
    "        np.place(img, other_source, noise_bank)\n",
    "\n",
    "        sep_arr = img.byteswap().newbyteorder('N')\n",
    "        bkg = sep.Background(sep_arr, mask=segmap==img_id, bw=10, bh=10)\n",
    "        img = img-bkg\n",
    "\n",
    "        return img\n",
    "    \n",
    "    def get_rs_and_fs(img, src_map):\n",
    "        cx, cy = it.img_center(img, src_map)\n",
    "        xs, ys = np.meshgrid(np.arange(img.shape[0]), np.arange(img.shape[1]).T)\n",
    "        rs = np.sqrt(np.square(xs-cx)+np.square(ys-cy))\n",
    "\n",
    "        rs = rs.flatten()\n",
    "        fs = img.flatten()\n",
    "        sorted_rs = np.argsort(rs)\n",
    "\n",
    "        rs = rs[sorted_rs]\n",
    "        fs = fs[sorted_rs]\n",
    "\n",
    "        return rs, fs\n",
    "    \n",
    "    img, segmap, img_id = args\n",
    "    src_map = segmap==img_id\n",
    "    img = denoise(img, segmap, img_id)\n",
    "    \n",
    "    rs, fs = get_rs_and_fs(img, src_map)\n",
    "    \n",
    "    dr = 0.05*(rs.max()-rs.min())\n",
    "    fs = dt.loessc_p(rs, fs, dr, pnum=2)\n",
    "    fs[fs<0]=0\n",
    "    \n",
    "    num_interp = 100\n",
    "    _rs = np.linspace(rs.min(), rs.max(), num_interp)\n",
    "    fs = np.interp(_rs, rs, fs)\n",
    "    rs = _rs\n",
    "    \n",
    "    L = np.zeros(num_interp)\n",
    "    L[0] = np.pi*rs[0]**2  * fs[0]\n",
    "    for i in range(1,num_interp,1):\n",
    "        L[i] = L[i-1] + np.pi*(rs[i]**2 - rs[i-1]**2)*((fs[i]+fs[i-1])/2)\n",
    "\n",
    "    A = np.pi * rs**2\n",
    "    etas = fs*A/L\n",
    "    r_lim = rs<25.0\n",
    "    #etas = etas[r_lim]\n",
    "    mono_dec = np.argmax(np.diff(etas)>=0)\n",
    "    mono_dec = np.arange(len(etas))<mono_dec\n",
    "    r_lim = np.logical_and(r_lim, mono_dec)\n",
    "    \n",
    "    Rp = np.interp(0.2, np.flipud(etas[r_lim]), np.flipud(rs[r_lim]))\n",
    "    Fp_idx = np.square(rs - 2*Rp).argmin()\n",
    "\n",
    "    Fp = np.cumsum(L[:Fp_idx]/L[:Fp_idx].sum())\n",
    "    Ip = np.interp(Rp, rs, fs)\n",
    "\n",
    "    return (rs, fs, Rp, Ip, etas, img_id)"
   ]
  },
  {
   "cell_type": "code",
   "execution_count": 64,
   "metadata": {},
   "outputs": [],
   "source": [
    "# get imgs in other bands\n",
    "spheroids_h = get_spheroids(-1, 'h')\n",
    "spheroids_j = get_spheroids(-1, 'j')\n",
    "spheroids_v = get_spheroids(-1, 'v')\n",
    "spheroids_z = get_spheroids(-1, 'z')"
   ]
  },
  {
   "cell_type": "code",
   "execution_count": 4,
   "metadata": {},
   "outputs": [],
   "source": [
    "# get the imgs in h band \n",
    "with open('h_vals.json', 'r') as f:\n",
    "    processed_h = json.load(f)"
   ]
  },
  {
   "cell_type": "code",
   "execution_count": 5,
   "metadata": {},
   "outputs": [],
   "source": [
    "ids = [h['id'] for h in processed_h]\n",
    "\n",
    "# get rid of the imgs that were excluded from h\n",
    "tmpj, tmpv, tmpz = [], [], []\n",
    "for j, v, z, in zip(spheroids_j, spheroids_v, spheroids_z):\n",
    "    if j[-1] in ids:\n",
    "        tmpj.append(j)\n",
    "        tmpv.append(v)\n",
    "        tmpz.append(z)\n",
    "\n",
    "spheroids_j = tmpj\n",
    "spheroids_v = tmpv\n",
    "spheroids_z = tmpz"
   ]
  },
  {
   "cell_type": "code",
   "execution_count": 100,
   "metadata": {},
   "outputs": [
    {
     "name": "stdout",
     "output_type": "stream",
     "text": [
      "CPU times: user 9min, sys: 2min 59s, total: 11min 59s\n",
      "Wall time: 1h 14min 47s\n"
     ]
    }
   ],
   "source": [
    "%%time\n",
    "count = 0\n",
    "\n",
    "processed_h, processed_j, processed_v, processed_z = [], [], [], []\n",
    "for h, j, v, z in zip(spheroids_h, spheroids_j, spheroids_v, spheroids_z):\n",
    "    print(count/len(spheroids_j), end='\\r')\n",
    "    count += 1\n",
    "    \n",
    "    try:\n",
    "        h = process_img(h)\n",
    "        j = process_img(j)\n",
    "        v = process_img(v)\n",
    "        z = process_img(z)\n",
    "    except Exception as e:\n",
    "        continue\n",
    "    \n",
    "    processed_h.append(h)\n",
    "    processed_j.append(j)\n",
    "    processed_v.append(v)\n",
    "    processed_z.append(z)"
   ]
  },
  {
   "cell_type": "code",
   "execution_count": 94,
   "metadata": {},
   "outputs": [
    {
     "name": "stdout",
     "output_type": "stream",
     "text": [
      "CPU times: user 2min 4s, sys: 42.2 s, total: 2min 46s\n",
      "Wall time: 17min 24s\n"
     ]
    }
   ],
   "source": [
    "%%time\n",
    "count = 0\n",
    "\n",
    "processed_h =[]\n",
    "for h  in spheroids_h:\n",
    "    print(count/len(spheroids_j), end='\\r')\n",
    "    count += 1\n",
    "    \n",
    "    if h[-1] not in ids:\n",
    "        continue\n",
    "    \n",
    "    try:\n",
    "        h = process_img(h)\n",
    "    except Exception as e:\n",
    "        continue\n",
    "    \n",
    "    processed_h.append(h)\n"
   ]
  },
  {
   "cell_type": "code",
   "execution_count": 85,
   "metadata": {},
   "outputs": [],
   "source": [
    "ids = [j[-1] for j in processed_j]"
   ]
  },
  {
   "cell_type": "code",
   "execution_count": 159,
   "metadata": {},
   "outputs": [],
   "source": [
    "#Save\n",
    "\n",
    "for b,data in zip(['h','j','v','z'], [processed_h,processed_j, processed_v, processed_z]):\n",
    "    vals = []\n",
    "    for s in data:\n",
    "        v = {\n",
    "            'rs' : dt._nmpy_encode(s[0]),\n",
    "            'fs' : dt._nmpy_encode(s[1]),\n",
    "            'rp' : s[2],\n",
    "            'ip' : s[3],\n",
    "            'etas' : dt._nmpy_encode(s[4]),\n",
    "            'id' : s[5]\n",
    "        }\n",
    "        vals.append(v)\n",
    "\n",
    "    with open(b+'_vals.json', 'w') as f:\n",
    "        json.dump(vals, f)"
   ]
  },
  {
   "cell_type": "code",
   "execution_count": 96,
   "metadata": {},
   "outputs": [],
   "source": [
    "# Load \n",
    "processed_h, processed_j, processed_v, processed_z = [], [], [], []\n",
    "\n",
    "for b, l in zip(['h', 'j', 'v', 'z'], [processed_h, processed_j, processed_v, processed_z]):\n",
    "    with open(b+'_vals.json', 'r') as f:\n",
    "        vals = json.load(f)\n",
    "        \n",
    "    for v in vals:\n",
    "        l.append((dt._nmpy_decode(v['rs']),\n",
    "                  dt._nmpy_decode(v['fs']),\n",
    "                  v['rp'],\n",
    "                  v['ip'],\n",
    "                  dt._nmpy_decode(v['etas']),\n",
    "                 v['id']))\n"
   ]
  },
  {
   "cell_type": "code",
   "execution_count": 393,
   "metadata": {},
   "outputs": [],
   "source": [
    "rms = lambda a: np.sqrt(np.mean(np.square(a)))\n",
    "\n",
    "noise = []\n",
    "for h, j, v, z in zip(spheroids_h, spheroids_j, spheroids_v, spheroids_z):\n",
    "    noise_h = h[0][h[1]==0].flatten()\n",
    "    noise_j = j[0][j[1]==0].flatten()\n",
    "    noise_v = v[0][v[1]==0].flatten()\n",
    "    noise_z = z[0][z[1]==0].flatten()\n",
    "    \n",
    "    params_h = (np.mean(noise_h), np.std(noise_h), np.sum(h[0][h[1]==h[2]])/rms(noise_h))\n",
    "    params_j = (np.mean(noise_j), np.std(noise_j), np.sum(j[0][j[1]==j[2]])/rms(noise_j))\n",
    "    params_v = (np.mean(noise_v), np.std(noise_v), np.sum(v[0][v[1]==v[2]])/rms(noise_v))\n",
    "    params_z = (np.mean(noise_z), np.std(noise_z), np.sum(z[0][z[1]==z[2]])/rms(noise_z))\n",
    "    \n",
    "    noise.append((params_h, params_j, params_v, params_z))\n",
    "    \n",
    "with open('signal_to_noise', 'w') as f:\n",
    "    for h, j, v, z in noise:\n",
    "        row = \"\"\n",
    "        for var in [h, j, v, z]:\n",
    "            row += ','.join([str(i) for i in var]) + ','\n",
    "        f.write(row[:-1] + \"\\n\")    "
   ]
  },
  {
   "cell_type": "code",
   "execution_count": 234,
   "metadata": {},
   "outputs": [],
   "source": [
    "interped_marks = np.concatenate([np.linspace(0, 1, 50, endpoint=False), np.linspace(1, 20, 950)])\n",
    "h_ratios, j_ratios, v_ratios, z_ratios = [], [], [], []\n",
    "h_vals, j_vals, v_vals, z_vals = [], [], [], []\n",
    "\n",
    "for h, j, v, z in zip(processed_h, processed_j, processed_v, processed_z):\n",
    "    h_rs, h_fs, h_rp, h_ip = h[0].copy(), h[1].copy(), h[2], h[3]\n",
    "    j_rs, j_fs, j_rp, j_ip = j[0].copy(), j[1].copy(), j[2], j[3]\n",
    "    v_rs, v_fs, v_rp, v_ip = v[0].copy(), v[1].copy(), v[2], v[3]\n",
    "    z_rs, z_fs, z_rp, z_ip = z[0].copy(), z[1].copy(), z[2], z[3]\n",
    "    \n",
    "    # are there any values we need to pad\n",
    "    if (np.sum(h_fs<=0)+np.sum(j_fs<=0)+np.sum(v_fs<=0)+np.sum(z_fs<=0)) > 0:\n",
    "            epsilon = min(h_fs.min(), j_fs.min(), v_fs.min(), z_fs.min()) + 1e-3\n",
    "    \n",
    "            h_fs += epsilon\n",
    "            j_fs += epsilon\n",
    "            v_fs += epsilon\n",
    "            z_fs += epsilon\n",
    "    \"\"\"\n",
    "    # normalize\n",
    "    h_rs /= h_rp\n",
    "    h_fs /= h_ip\n",
    "    j_rs /= h_rp\n",
    "    j_fs /= j_ip\n",
    "    v_rs /= h_rp\n",
    "    v_fs /= v_ip\n",
    "    z_rs /= h_rp\n",
    "    z_fs /= z_ip\n",
    "    \"\"\"\n",
    "\n",
    "    # get interp values\n",
    "    h_fs = np.interp(interped_marks, h_rs, h_fs, left=np.nan, right=np.nan)\n",
    "    j_fs = np.interp(interped_marks, j_rs, j_fs, left=np.nan, right=np.nan)\n",
    "    v_fs = np.interp(interped_marks, v_rs, v_fs, left=np.nan, right=np.nan)\n",
    "    z_fs = np.interp(interped_marks, z_rs, z_fs, left=np.nan, right=np.nan)\n",
    "    \n",
    "    h_vals.append(h_fs)\n",
    "    j_vals.append(j_fs)\n",
    "    v_vals.append(v_fs)\n",
    "    z_vals.append(z_fs)\n",
    "    \n",
    "    h_ratios.append(h_fs/h_fs)\n",
    "    j_ratios.append(j_fs/h_fs)\n",
    "    v_ratios.append(v_fs/h_fs)\n",
    "    z_ratios.append(z_fs/h_fs)"
   ]
  },
  {
   "cell_type": "code",
   "execution_count": 377,
   "metadata": {},
   "outputs": [],
   "source": [
    "stacked_j = np.array(j_ratios)\n",
    "stacked_v = np.array(v_ratios)\n",
    "stacked_z = np.array(z_ratios)\n",
    "\n",
    "gp_vals = {}\n",
    "for b, coll in zip(['J', 'V', 'Z'],[stacked_j, stacked_v, stacked_z]):\n",
    "    #f_50 = np.nanmedian(coll, axis=0)\n",
    "    f_50 = np.nanpercentile(coll, 50, axis=0)\n",
    "    f_16 = np.nanpercentile(coll, 16, axis=0)\n",
    "    f_84 = np.nanpercentile(coll, 84, axis=0)\n",
    "    f_std = np.nanstd(coll, axis=0)\n",
    "    valid = np.isfinite(coll).sum(axis=0) >= 1\n",
    "\n",
    "    # augment lines\n",
    "    xs = interped_marks.copy()\n",
    "    dx = 0.05*(xs.max()-xs.min())\n",
    "    f_50 = dt.loessc_p(xs[valid], f_50[valid], dx, pnum=2)\n",
    "    f_16 = dt.loessc_p(xs[valid], f_16[valid], dx, pnum=2)\n",
    "    f_84 = dt.loessc_p(xs[valid], f_84[valid], dx, pnum=2)\n",
    "    f_std = dt.loessc_p(xs[valid], f_std[valid], dx, pnum=2)\n",
    "    \n",
    "    _, f_50 = dt.pad_line(xs[valid], f_50, 30, 10, append=False)\n",
    "    xs, f_std = dt.pad_line(xs[valid], f_std, 30, 10, append=False)\n",
    "    \n",
    "    gp_vals[b] = {}\n",
    "    gp_vals[b]['x'] = xs\n",
    "    gp_vals[b]['y'] = f_50\n",
    "    gp_vals[b]['a'] = f_std\n",
    "    #gp_vals[b]['a'] = (np.abs(f_84[valid]-f_50[valid]))\n",
    "    #gp_vals[b]['a'] = (np.abs(f_84[valid]-f_50[valid]) + np.abs(f_16[valid]-f_50[valid]))/2\n",
    "    \n",
    "    plt.figure()\n",
    "    plt.title(f'Ratio Distribution for {b}/H')\n",
    "    plt.plot(xs[xs>0], f_50[xs>0], color='r', label='$median$', zorder=100)\n",
    "    plt.fill_between(xs[xs>0], \n",
    "                     np.maximum(f_50[xs>0]-f_std[xs>0], np.zeros_like(f_50[xs>0])), \n",
    "                     f_50[xs>0]+f_std[xs>0], color='r', alpha=0.45, label=\"$16^{th}-84^{th}$\", zorder=100)\n",
    "    plt.legend()\n",
    "    plt.show()\n",
    "    "
   ]
  },
  {
   "cell_type": "code",
   "execution_count": 389,
   "metadata": {
    "scrolled": true
   },
   "outputs": [
    {
     "name": "stdout",
     "output_type": "stream",
     "text": [
      "Optimization terminated successfully.\n",
      "         Current function value: 61.932869\n",
      "         Iterations: 14\n",
      "         Function evaluations: 28\n",
      "Optimization terminated successfully.\n",
      "         Current function value: 151.801477\n",
      "         Iterations: 15\n",
      "         Function evaluations: 30\n",
      "Optimization terminated successfully.\n",
      "         Current function value: -35.186605\n",
      "         Iterations: 18\n",
      "         Function evaluations: 36\n"
     ]
    },
    {
     "data": {
      "text/plain": [
       "<gphelper.GPHelper at 0x7f6afd8f0b38>"
      ]
     },
     "execution_count": 389,
     "metadata": {},
     "output_type": "execute_result"
    }
   ],
   "source": [
    "reload(gphelper)\n",
    "from gphelper import GPHelper\n",
    "\n",
    "\n",
    "gp_j, gp_v, gp_z = GPHelper(), GPHelper(), GPHelper()\n",
    "x = gp_vals['J']['x']\n",
    "mask = x <= 5\n",
    "\n",
    "gp_j.fit(x[mask,np.newaxis], gp_vals['J']['y'][mask], gp_vals['J']['a'][mask], length_scale=0.35, optimize='sigma_n')\n",
    "gp_v.fit(x[mask,np.newaxis], gp_vals['V']['y'][mask], gp_vals['V']['a'][mask], length_scale=0.5, optimize='sigma_n')\n",
    "gp_z.fit(x[mask,np.newaxis], gp_vals['Z']['y'][mask], gp_vals['Z']['a'][mask], length_scale=0.5, optimize='sigma_n')"
   ]
  },
  {
   "cell_type": "code",
   "execution_count": 392,
   "metadata": {},
   "outputs": [],
   "source": [
    "for b, gp in zip(['J', 'V', 'Z'], [gp_j, gp_v, gp_z]):\n",
    "    plt.figure()\n",
    "    plt.title(b + ' Ratio GP Fit')\n",
    "    plt.xlim(0,5)\n",
    "    y, std = gp.predict(x[mask,np.newaxis], return_std=True)\n",
    "    plt.plot(x[mask], y, label='gp')\n",
    "    plt.fill_between(x[mask], y-std, y+std, alpha=0.35)\n",
    "    \n",
    "    plt.plot(x[mask], gp_vals[b]['y'][mask], label='data')\n",
    "    plt.fill_between(x[mask], gp_vals[b]['y'][mask]-gp_vals[b]['a'][mask], gp_vals[b]['y'][mask]+gp_vals[b]['a'][mask], alpha=0.35)\n",
    "    plt.legend()\n",
    "    "
   ]
  },
  {
   "cell_type": "code",
   "execution_count": 391,
   "metadata": {},
   "outputs": [],
   "source": [
    "gp_j.save_params(save_file='gp_j.json')\n",
    "gp_v.save_params(save_file='gp_v.json')\n",
    "gp_z.save_params(save_file='gp_z.json')"
   ]
  },
  {
   "cell_type": "code",
   "execution_count": 380,
   "metadata": {},
   "outputs": [],
   "source": [
    "with open('rp_ip', 'w') as f:\n",
    "    for (rs, fs, Rp, Ip, etas, img_id) in processed_h:\n",
    "        f.write(f'{Rp},{Ip}\\n')"
   ]
  },
  {
   "cell_type": "code",
   "execution_count": 198,
   "metadata": {},
   "outputs": [],
   "source": [
    "plt.figure()\n",
    "plt.title('H')\n",
    "plt.ylim(-.5, 2.0)\n",
    "plt.xlim(0, 10)\n",
    "for f in h_ratios:\n",
    "    plt.plot(interped_marks, f, '.', markersize=1)\n",
    "\n",
    "plt.figure()\n",
    "plt.title('J')\n",
    "plt.ylim(-.5, 2.0)\n",
    "plt.xlim(0, 10)\n",
    "\n",
    "for f in j_ratios:\n",
    "    plt.plot(interped_marks, f, '.', markersize=1)\n",
    "    \n",
    "plt.figure()\n",
    "plt.title('V')\n",
    "plt.ylim(-.5, 2.0)\n",
    "plt.xlim(0, 10)\n",
    "for f in v_ratios:\n",
    "    plt.plot(interped_marks, f, '.')\n",
    "    \n",
    "plt.figure()\n",
    "plt.title('Z')\n",
    "plt.ylim(-.5, 2.0)\n",
    "plt.xlim(0, 10)\n",
    "for f in z_ratios:\n",
    "    plt.plot(interped_marks, f, '.')"
   ]
  },
  {
   "cell_type": "code",
   "execution_count": 170,
   "metadata": {},
   "outputs": [],
   "source": [
    "plt.figure()\n",
    "plt.title('H')\n",
    "for h in h_vals:\n",
    "    plt.plot(interped_marks, h)\n",
    "    \n",
    "plt.figure()\n",
    "plt.title('J')\n",
    "for h in j_vals:\n",
    "    plt.plot(interped_marks, h)\n",
    "    \n",
    "plt.figure()\n",
    "plt.title('V')\n",
    "for h in v_vals:\n",
    "    plt.plot(interped_marks, h)\n",
    "    \n",
    "plt.figure()\n",
    "plt.title('Z')\n",
    "for h in z_vals:\n",
    "    plt.plot(interped_marks, h)"
   ]
  },
  {
   "cell_type": "code",
   "execution_count": 189,
   "metadata": {},
   "outputs": [
    {
     "data": {
      "text/plain": [
       "<matplotlib.legend.Legend at 0x7f6afc109b38>"
      ]
     },
     "execution_count": 189,
     "metadata": {},
     "output_type": "execute_result"
    }
   ],
   "source": [
    "plt.figure()\n",
    "plt.title('Petrosian Radius Comparison by Band')\n",
    "plt.hist([h[2] for h in processed_h], bins=20, label='H', alpha=0.25)\n",
    "plt.hist([h[2] for h in processed_j], bins=20, label='J', alpha=0.25)\n",
    "plt.hist([h[2] for h in processed_v], bins=20, label='V', alpha=0.25)\n",
    "plt.hist([h[2] for h in processed_z], bins=20, label='Z', alpha=0.25)\n",
    "plt.legend()\n"
   ]
  },
  {
   "cell_type": "code",
   "execution_count": 188,
   "metadata": {},
   "outputs": [
    {
     "data": {
      "text/plain": [
       "<matplotlib.legend.Legend at 0x7f6afc53c6d8>"
      ]
     },
     "execution_count": 188,
     "metadata": {},
     "output_type": "execute_result"
    }
   ],
   "source": [
    "plt.figure()\n",
    "plt.title('Petrosian Radius Ratio by Band')\n",
    "plt.hist([j[2]/h[2] for h,j in zip(processed_h, processed_j)], bins=20, label='J/H', alpha=0.25)\n",
    "plt.hist([j[2]/h[2] for h,j in zip(processed_h, processed_v)], bins=20, label='V/H', alpha=0.25)\n",
    "plt.hist([j[2]/h[2] for h,j in zip(processed_h, processed_z)], bins=20, label='Z/H', alpha=0.25)\n",
    "plt.legend()\n"
   ]
  }
 ],
 "metadata": {
  "kernelspec": {
   "display_name": "Python [conda env:sep]",
   "language": "python",
   "name": "conda-env-sep-py"
  },
  "language_info": {
   "codemirror_mode": {
    "name": "ipython",
    "version": 3
   },
   "file_extension": ".py",
   "mimetype": "text/x-python",
   "name": "python",
   "nbconvert_exporter": "python",
   "pygments_lexer": "ipython3",
   "version": "3.6.2"
  }
 },
 "nbformat": 4,
 "nbformat_minor": 2
}
