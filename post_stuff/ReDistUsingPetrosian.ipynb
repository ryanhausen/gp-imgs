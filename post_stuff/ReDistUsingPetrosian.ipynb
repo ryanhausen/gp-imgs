{
 "cells": [
  {
   "cell_type": "code",
   "execution_count": 1,
   "metadata": {},
   "outputs": [
    {
     "name": "stdout",
     "output_type": "stream",
     "text": [
      "Using matplotlib backend: Qt5Agg\n"
     ]
    }
   ],
   "source": [
    "# adds parent dir to python path\n",
    "import sys\n",
    "sys.path.insert(0, '..')\n",
    "\n",
    "#system lib\n",
    "import os\n",
    "import json\n",
    "\n",
    "# 3rd party lib\n",
    "import numpy as np\n",
    "#import matplotlib\n",
    "#import matplotlib.pyplot as plt\n",
    "#%matplotlib notebook\n",
    "#matplotlib.rcParams.update({'font.size': 22})\n",
    "#from bqplot import pyplot as plt\n",
    "\n",
    "import matplotlib.pyplot as plt\n",
    "%matplotlib auto\n",
    "\n",
    "# astro lib\n",
    "from astropy.io import fits\n",
    "import sep\n",
    "\n",
    "# my lib\n",
    "import ImageTools as it\n",
    "import DataTools as dt\n",
    "from gphelper import GPHelper\n",
    "\n",
    "from importlib import reload\n",
    "\n",
    "import warnings\n",
    "warnings.filterwarnings('ignore')\n",
    "\n",
    "\n",
    "from multiprocessing import Pool"
   ]
  },
  {
   "cell_type": "code",
   "execution_count": 332,
   "metadata": {},
   "outputs": [],
   "source": [
    "def make_nonnegative(img):\n",
    "    epsilon = np.abs(img.min()) + 1e-3\n",
    "    if img.min() <= 0:\n",
    "        img += epsilon\n",
    "    return img\n",
    "\n",
    "def get_spheroids(num=10):\n",
    "    with open('../spheroids', 'r') as f:\n",
    "        spheroids= np.array(f.readlines())\n",
    "    \n",
    "    data_dir = os.path.join(os.getenv('HOME'), 'Documents/astro_data/orig_images')\n",
    "    fmask = 'GDS_{}_{}.fits'\n",
    "    f_string = os.path.join(data_dir, fmask)\n",
    "    \n",
    "    sources = []\n",
    "    for s in spheroids:\n",
    "        s = s.strip()\n",
    "        img = fits.getdata(f_string.format(s, 'h'))\n",
    "        segmap = fits.getdata(f_string.format(s, 'segmap'))\n",
    "        img_id = int(s.split('_')[1])\n",
    "        sources.append((img.copy(), segmap.copy(), img_id))\n",
    "        del img\n",
    "        del segmap\n",
    "        \n",
    "    return sources\n",
    "        \n",
    "def process_img(args):\n",
    "    def denoise(img, segmap, img_id):\n",
    "        noise_bank = img[segmap==0].flatten()\n",
    "        other_source = np.logical_and(segmap!=0, segmap!=img_id)\n",
    "        np.place(img, other_source, noise_bank)\n",
    "\n",
    "        sep_arr = img.byteswap().newbyteorder('N')\n",
    "        bkg = sep.Background(sep_arr, mask=segmap==img_id, bw=10, bh=10)\n",
    "        img = img-bkg\n",
    "\n",
    "        return img\n",
    "    \n",
    "    def get_rs_and_fs(img, src_map):\n",
    "        cx, cy = it.img_center(img, src_map)\n",
    "        xs, ys = np.meshgrid(np.arange(img.shape[0]), np.arange(img.shape[1]).T)\n",
    "        rs = np.sqrt(np.square(xs-cx)+np.square(ys-cy))\n",
    "\n",
    "        rs = rs.flatten()\n",
    "        fs = img.flatten()\n",
    "        sorted_rs = np.argsort(rs)\n",
    "\n",
    "        rs = rs[sorted_rs]\n",
    "        fs = fs[sorted_rs]\n",
    "\n",
    "        return rs, fs\n",
    "    \n",
    "    img, segmap, img_id = args\n",
    "    src_map = segmap==img_id\n",
    "    img = denoise(img, segmap, img_id)\n",
    "    \n",
    "    rs, fs = get_rs_and_fs(img, src_map)\n",
    "    \n",
    "    dr = 0.05*(rs.max()-rs.min())\n",
    "    fs = dt.loessc_p(rs, fs, dr, pnum=2)\n",
    "    fs[fs<0]=0\n",
    "    \n",
    "    num_interp = 100\n",
    "    _rs = np.linspace(rs.min(), rs.max(), num_interp)\n",
    "    fs = np.interp(_rs, rs, fs)\n",
    "    rs = _rs\n",
    "    \n",
    "    L = np.zeros(num_interp)\n",
    "    L[0] = np.pi*rs[0]**2  * fs[0]\n",
    "    for i in range(1,num_interp,1):\n",
    "        L[i] = L[i-1] + np.pi*(rs[i]**2 - rs[i-1]**2)*((fs[i]+fs[i-1])/2)\n",
    "\n",
    "    A = np.pi * rs**2\n",
    "    etas = fs*A/L\n",
    "    r_lim = rs<25.0\n",
    "    #etas = etas[r_lim]\n",
    "    mono_dec = np.argmax(np.diff(etas)>=0)\n",
    "    mono_dec = np.arange(len(etas))<mono_dec\n",
    "    r_lim = np.logical_and(r_lim, mono_dec)\n",
    "    \n",
    "    if np.all(r_lim==False):\n",
    "        #plt.plot(rs, fs)\n",
    "        plt.figure()\n",
    "        plt.plot(rs[:-1],np.diff(etas))\n",
    "        plt.figure()\n",
    "        plt.plot(rs, etas)\n",
    "        #plt.figure()\n",
    "        #plt.plot(np.flipud(etas), np.flipud(rs))\n",
    "        #plt.figure()\n",
    "        #plt.title(img_id)\n",
    "        #plt.imshow(img)\n",
    "    \n",
    "    Rp = np.interp(0.2, np.flipud(etas[r_lim]), np.flipud(rs[r_lim]))\n",
    "    Fp_idx = np.square(rs - 2*Rp).argmin()\n",
    "\n",
    "    Fp = np.cumsum(L[:Fp_idx]/L[:Fp_idx].sum())\n",
    "    Ip = np.interp(Rp, rs, fs)\n",
    "\n",
    "    return (rs, fs, Rp, Ip, etas, img_id)"
   ]
  },
  {
   "cell_type": "code",
   "execution_count": 399,
   "metadata": {},
   "outputs": [],
   "source": [
    "h_vals = []\n",
    "\n",
    "for s in processed:\n",
    "    v = {\n",
    "        'rs' : dt._nmpy_encode(s[0]),\n",
    "        'fs' : dt._nmpy_encode(s[1]),\n",
    "        'rp' : s[2],\n",
    "        'ip' : s[3],\n",
    "        'etas' : dt._nmpy_encode(s[4]),\n",
    "        'id' : s[5]\n",
    "    }\n",
    "    h_vals.append(v)\n",
    "    \n",
    "with open('h_vals.json', 'w') as f:\n",
    "    json.dump(h_vals, f)"
   ]
  },
  {
   "cell_type": "code",
   "execution_count": 398,
   "metadata": {},
   "outputs": [
    {
     "name": "stdout",
     "output_type": "stream",
     "text": [
      "rs <class 'str'>\n",
      "fs <class 'str'>\n",
      "rp <class 'float'>\n",
      "ip <class 'float'>\n",
      "etas <class 'str'>\n",
      "id <class 'int'>\n"
     ]
    }
   ],
   "source": [
    "for k in h_vals[0].keys():\n",
    "    print(k, type(h_vals[0][k]))\n",
    "    \n",
    "#print(h_vals[0])"
   ]
  },
  {
   "cell_type": "code",
   "execution_count": 3,
   "metadata": {},
   "outputs": [],
   "source": [
    "spheroids = get_spheroids(num=-1)"
   ]
  },
  {
   "cell_type": "code",
   "execution_count": 367,
   "metadata": {},
   "outputs": [],
   "source": [
    "rms = []\n",
    "for img, segmap, img_id in spheroids[:]:\n",
    "    noise = img[segmap==0].flatten()\n",
    "    rms.append(np.sqrt(np.mean(noise**2)))\n",
    "rms = np.array(rms)"
   ]
  },
  {
   "cell_type": "code",
   "execution_count": 377,
   "metadata": {},
   "outputs": [
    {
     "data": {
      "text/plain": [
       "<matplotlib.text.Text at 0x7f00cb4ed4e0>"
      ]
     },
     "execution_count": 377,
     "metadata": {},
     "output_type": "execute_result"
    }
   ],
   "source": [
    "plt.figure()\n",
    "plt.hist(rms[rms<0.01], bins=50)\n",
    "plt.title('Histogram of RMS Measured From Noise')\n",
    "plt.xlabel('RMS(Image Noise)')"
   ]
  },
  {
   "cell_type": "code",
   "execution_count": 334,
   "metadata": {},
   "outputs": [
    {
     "name": "stdout",
     "output_type": "stream",
     "text": [
      "CPU times: user 2min 16s, sys: 42.8 s, total: 2min 59s\n",
      "Wall time: 21min 43s\n"
     ]
    }
   ],
   "source": [
    "%%time\n",
    "\n",
    "count = 0\n",
    "processed = []\n",
    "for s in spheroids[:]:\n",
    "    print(count/len(spheroids), end='\\r')\n",
    "    count += 1\n",
    "    if s[2]==2845:\n",
    "        continue\n",
    "    processed.append(process_img(s))"
   ]
  },
  {
   "cell_type": "code",
   "execution_count": 338,
   "metadata": {},
   "outputs": [],
   "source": [
    "post_processed = []\n",
    "for p in processed:\n",
    "    if p[2]<5:\n",
    "        continue\n",
    "        \n",
    "    post_processed.append(p)\n",
    "    \n",
    "processed = post_processed"
   ]
  },
  {
   "cell_type": "code",
   "execution_count": 339,
   "metadata": {},
   "outputs": [],
   "source": [
    "plt.title('1/$\\eta(R)$ and $R/R_p$ - Data')\n",
    "plt.ylabel('1/$\\eta(R)$')\n",
    "plt.xlabel('$R/R_p$')\n",
    "for (rs, fs, Rp, Ip, etas, _) in processed:\n",
    "    plt.plot(rs/Rp, etas, color='b', alpha=0.2)"
   ]
  },
  {
   "cell_type": "code",
   "execution_count": 341,
   "metadata": {},
   "outputs": [],
   "source": [
    "interped_marks = np.concatenate([np.linspace(0, 1, 50, endpoint=False), np.linspace(1, 20, 950)])\n",
    "\n",
    "stat_vals = []\n",
    "\n",
    "plt.figure()\n",
    "plt.title('Normalized Surface Brightness')\n",
    "plt.xlabel('$R/R_p$')\n",
    "plt.ylabel('$I/I_p$ (Log)')\n",
    "\n",
    "for (rs, fs, Rp, Ip, etas, _) in processed:\n",
    "    color = 'b'\n",
    "    if np.sum(fs<=0) > 0:\n",
    "        fs = fs + np.abs(fs.min()) + 1e-3\n",
    "        Ip = np.interp(Rp, rs, fs)\n",
    "    \n",
    "    r = rs/Rp\n",
    "    f = fs/Ip\n",
    "    plt.plot(r, np.log10(f), color='k', alpha=.05)\n",
    "    stat_vals.append(np.interp(interped_marks, r, f, left=np.nan, right=np.nan))\n",
    "    \n",
    "\n",
    "stat_vals = np.log10(np.dstack(stat_vals)[0,...])\n",
    "f_mean = np.nanmedian(stat_vals, axis=1)\n",
    "f_16 = np.nanpercentile(stat_vals, 16, axis=1)\n",
    "f_84 = np.nanpercentile(stat_vals, 84, axis=1)\n",
    "    \n",
    "\n",
    "plt.plot(interped_marks, f_mean, color='r', label='$median$', zorder=100)\n",
    "plt.fill_between(interped_marks, f_16, f_84, color='r', alpha=0.45, label=\"$16^{th}-84^{th}$\", zorder=100)\n",
    "plt.legend()\n",
    "plt.show()"
   ]
  },
  {
   "cell_type": "code",
   "execution_count": 342,
   "metadata": {},
   "outputs": [],
   "source": [
    "interped_marks = np.concatenate([np.linspace(0, 1, 50, endpoint=False), np.linspace(1, 20, 950)])\n",
    "#stat_vals = np.dstack(stat_vals)[0,...]\n",
    "f_mean = np.nanmedian(stat_vals, axis=1)\n",
    "f_16 = np.nanpercentile(stat_vals, 16, axis=1)\n",
    "f_84 = np.nanpercentile(stat_vals, 84, axis=1)\n",
    "\n",
    "plt.figure()\n",
    "plt.plot(interped_marks, f_mean, color='r', label='$median$', zorder=100)\n",
    "plt.fill_between(interped_marks, f_16, f_84, color='r', alpha=0.45, label=\"$16^{th}-84^{th}$\", zorder=100)\n",
    "plt.legend()\n",
    "plt.show()"
   ]
  },
  {
   "cell_type": "code",
   "execution_count": 343,
   "metadata": {},
   "outputs": [
    {
     "data": {
      "text/plain": [
       "(1000, 496)"
      ]
     },
     "execution_count": 343,
     "metadata": {},
     "output_type": "execute_result"
    }
   ],
   "source": [
    "stat_vals.shape"
   ]
  },
  {
   "cell_type": "code",
   "execution_count": 344,
   "metadata": {},
   "outputs": [],
   "source": [
    "valid_points = ~np.isnan(stat_vals).all(axis=1)\n",
    "\n",
    "X = interped_marks[valid_points]\n",
    "Y = f_mean[valid_points]\n",
    "a = f_84[valid_points] - f_mean[valid_points]\n",
    "\n",
    "vals = {'x':dt._nmpy_encode(X),\n",
    "        'y':dt._nmpy_encode(Y),\n",
    "        'a':dt._nmpy_encode(a)}\n",
    "with open('vals_for_gp.json', 'w') as f:\n",
    "    json.dump(vals,f)"
   ]
  },
  {
   "cell_type": "code",
   "execution_count": 21,
   "metadata": {},
   "outputs": [
    {
     "name": "stdout",
     "output_type": "stream",
     "text": [
      "(464,) (464,) (464,)\n"
     ]
    }
   ],
   "source": [
    "with open('vals_for_gp.json', 'r') as f:\n",
    "    vals = json.load(f)\n",
    "    \n",
    "X = dt._nmpy_decode(vals['x'])\n",
    "Y = dt._nmpy_decode(vals['y'])\n",
    "a = dt._nmpy_decode(vals['a'])\n",
    "\n",
    "print(X.shape, Y.shape, a.shape)"
   ]
  },
  {
   "cell_type": "code",
   "execution_count": 345,
   "metadata": {},
   "outputs": [
    {
     "name": "stdout",
     "output_type": "stream",
     "text": [
      "0 0 0\n"
     ]
    },
    {
     "data": {
      "text/plain": [
       "<matplotlib.legend.Legend at 0x7f00dd64a6d8>"
      ]
     },
     "execution_count": 345,
     "metadata": {},
     "output_type": "execute_result"
    }
   ],
   "source": [
    "# truncate lines from 5re and on\n",
    "upto = 5\n",
    "_X = X[X<=upto]\n",
    "_Y = Y[X<=upto]\n",
    "_a = a[X<=upto]\n",
    "tmp = _Y-_a\n",
    "\n",
    "\n",
    "plt.figure()\n",
    "\n",
    "print(np.isnan(_X).sum(), np.isnan(_Y).sum(), np.isnan(_a).sum())\n",
    "split_idx = 2#np.argmin(np.diff(_a))\n",
    "split_val = _X[split_idx]\n",
    "\n",
    "# fit and pad line to smooth\n",
    "plt.plot(_X[split_idx:],_Y[split_idx:], label='Measured Values')\n",
    "plt.fill_between(_X[split_idx:], tmp[split_idx:], _Y[split_idx:]+_a[split_idx:], alpha=0.2)\n",
    "\n",
    "_X = _X[split_idx:]\n",
    "_Y = _Y[split_idx:]\n",
    "_a = _a[split_idx:]\n",
    "\n",
    "_X, _Y = dt.pad_line(_X, _Y, 10, 10, append=False)\n",
    "_, _a = dt.pad_line(_X, _a, 10, 10, append=False)\n",
    "\n",
    "plt.plot(_X[_X<split_val], _Y[_X<split_val], '--', label='Linear Fit Values')\n",
    "plt.fill_between(_X[_X<split_val], _Y[_X<split_val]-_a[_X<split_val], _Y[_X<split_val]+_a[_X<split_val], alpha=0.2)\n",
    "\n",
    "plt.xlabel('$R/R_e$')\n",
    "plt.ylabel('$I/I_e (Log)$')\n",
    "plt.title('Measured Surface Brightness W/Linear Fit Projection')\n",
    "plt.legend()"
   ]
  },
  {
   "cell_type": "code",
   "execution_count": 346,
   "metadata": {},
   "outputs": [],
   "source": [
    "gp = GPHelper()\n",
    "gp.fit(_X[:,np.newaxis], _Y, _a, optimize='both')\n",
    "_x, std = gp.predict(_X[:, np.newaxis], return_std=True)"
   ]
  },
  {
   "cell_type": "code",
   "execution_count": 348,
   "metadata": {},
   "outputs": [
    {
     "data": {
      "text/plain": [
       "<matplotlib.legend.Legend at 0x7f00dd52f8d0>"
      ]
     },
     "execution_count": 348,
     "metadata": {},
     "output_type": "execute_result"
    }
   ],
   "source": [
    "plt.figure()\n",
    "plt.plot(_X,_Y, label='GP Fit')\n",
    "plt.fill_between(_X, _Y-std, _Y+std, alpha=0.2)\n",
    "plt.legend()"
   ]
  },
  {
   "cell_type": "code",
   "execution_count": 296,
   "metadata": {},
   "outputs": [],
   "source": [
    "if gp is None:\n",
    "    gp = GPHelper(restore_file='gp.json')\n",
    "else:\n",
    "    gp.save_params()"
   ]
  },
  {
   "cell_type": "code",
   "execution_count": 388,
   "metadata": {},
   "outputs": [],
   "source": [
    "gp.save_params()"
   ]
  },
  {
   "cell_type": "code",
   "execution_count": 378,
   "metadata": {},
   "outputs": [],
   "source": [
    "test_vals = np.concatenate([np.linspace(0.01, 1, 20, endpoint=False), np.linspace(1, upto, upto*20)])"
   ]
  },
  {
   "cell_type": "code",
   "execution_count": 379,
   "metadata": {
    "scrolled": true
   },
   "outputs": [
    {
     "name": "stdout",
     "output_type": "stream",
     "text": [
      "0.0\n",
      "0.002ng Samples...  \n",
      "0.004ng Samples..   \n",
      "0.006ng Samples...  \n",
      "0.008ng Samples...  \n",
      "0.01ing Samples...  \n",
      "0.012ng Samples     \n",
      "0.014ng Samples...  \n",
      "0.016ng Samples...  \n",
      "0.018ng Samples..   \n",
      "0.02ing Samples...  \n",
      "0.022ng Samples...  \n",
      "0.024ng Samples..   \n",
      "0.026ng Samples     \n",
      "0.028ng Samples     \n",
      "0.03ing Samples...  \n",
      "0.032ng Samples.    \n",
      "0.034ng Samples     \n",
      "0.036ng Samples..   \n",
      "0.038ng Samples.    \n",
      "0.04ing Samples     \n",
      "0.042ng Samples.    \n",
      "0.044ng Samples...  \n",
      "0.046ng Samples     \n",
      "0.048ng Samples     \n",
      "0.05ing Samples     \n",
      "0.052ng Samples.    \n",
      "0.054ng Samples     \n",
      "0.056ng Samples..   \n",
      "0.058ng Samples..   \n",
      "0.06ing Samples..   \n",
      "0.062ng Samples.    \n",
      "0.064ng Samples..   \n",
      "0.066ng Samples.    \n",
      "0.068ng Samples...  \n",
      "0.07ing Samples...  \n",
      "0.072ng Samples..   \n",
      "0.074ng Samples     \n",
      "0.076ng Samples...  \n",
      "0.078ng Samples.    \n",
      "0.08ing Samples     \n",
      "0.082ng Samples..   \n",
      "0.084ng Samples...  \n",
      "0.086ng Samples..   \n",
      "0.088ng Samples.    \n",
      "0.09ing Samples     \n",
      "0.092ng Samples.    \n",
      "0.094ng Samples     \n",
      "0.096ng Samples..   \n",
      "0.098ng Samples     \n",
      "0.1wing Samples     \n",
      "0.102ng Samples...  \n",
      "0.104ng Samples.    \n",
      "0.106ng Samples..   \n",
      "0.108ng Samples..   \n",
      "0.11ing Samples.    \n",
      "0.112ng Samples.    \n",
      "0.114ng Samples..   \n",
      "0.116ng Samples.    \n",
      "0.118ng Samples..   \n",
      "0.12ing Samples..   \n",
      "0.122ng Samples.    \n",
      "0.124ng Samples     \n",
      "0.126ng Samples     \n",
      "0.128ng Samples..   \n",
      "0.13ing Samples.    \n",
      "0.132ng Samples...  \n",
      "0.134ng Samples.    \n",
      "0.136ng Samples...  \n",
      "0.138ng Samples     \n",
      "0.14ing Samples.    \n",
      "0.142ng Samples.    \n",
      "0.144ng Samples     \n",
      "0.146ng Samples.    \n",
      "0.148ng Samples     \n",
      "0.15ing Samples     \n",
      "0.152ng Samples...  \n",
      "0.154ng Samples...  \n",
      "0.156ng Samples.    \n",
      "0.158ng Samples.    \n",
      "0.16ing Samples...  \n",
      "0.162ng Samples...  \n",
      "0.164ng Samples...  \n",
      "0.166ng Samples..   \n",
      "0.168ng Samples...  \n",
      "0.17ing Samples.    \n",
      "0.172ng Samples...  \n",
      "0.174ng Samples.    \n",
      "0.176ng Samples.    \n",
      "0.178ng Samples.    \n",
      "0.18ing Samples.    \n",
      "0.182ng Samples     \n",
      "0.184ng Samples.    \n",
      "0.186ng Samples...  \n",
      "0.188ng Samples.    \n",
      "0.19ing Samples...  \n",
      "0.192ng Samples..   \n",
      "0.194ng Samples     \n",
      "0.196ng Samples.    \n",
      "0.198ng Samples.    \n",
      "0.2wing Samples...  \n",
      "0.202ng Samples..   \n",
      "0.204ng Samples.    \n",
      "0.206ng Samples...  \n",
      "0.208ng Samples     \n",
      "0.21ing Samples..   \n",
      "0.212ng Samples.    \n",
      "0.214ng Samples...  \n",
      "0.216ng Samples.    \n",
      "0.218ng Samples.    \n",
      "0.22ing Samples...  \n",
      "0.222ng Samples...  \n",
      "0.224ng Samples..   \n",
      "0.226ng Samples     \n",
      "0.228ng Samples     \n",
      "0.23ing Samples..   \n",
      "0.232ng Samples.    \n",
      "0.234ng Samples.    \n",
      "0.236ng Samples...  \n",
      "0.238ng Samples     \n",
      "0.24ing Samples...  \n",
      "0.242ng Samples...  \n",
      "0.244ng Samples     \n",
      "0.246ng Samples.    \n",
      "0.248ng Samples     \n",
      "0.25ing Samples     \n",
      "0.252ng Samples     \n",
      "0.254ng Samples.    \n",
      "0.256ng Samples.    \n",
      "0.258ng Samples...  \n",
      "0.26ing Samples...  \n",
      "0.262ng Samples..   \n",
      "0.264ng Samples.    \n",
      "0.266ng Samples     \n",
      "0.268ng Samples..   \n",
      "0.27ing Samples...  \n",
      "0.272ng Samples...  \n",
      "0.274ng Samples.    \n",
      "0.276ng Samples..   \n",
      "0.278ng Samples...  \n",
      "0.28ing Samples...  \n",
      "0.282ng Samples     \n",
      "0.284ng Samples.    \n",
      "0.286ng Samples     \n",
      "0.288ng Samples     \n",
      "0.29ing Samples..   \n",
      "0.292ng Samples     \n",
      "0.294ng Samples..   \n",
      "0.296ng Samples..   \n",
      "0.298ng Samples...  \n",
      "0.3wing Samples     \n",
      "0.302ng Samples...  \n",
      "0.304ng Samples...  \n",
      "0.306ng Samples...  \n",
      "0.308ng Samples.    \n",
      "0.31ing Samples     \n",
      "0.312ng Samples..   \n",
      "0.314ng Samples.    \n",
      "0.316ng Samples...  \n",
      "0.318ng Samples..   \n",
      "0.32ing Samples..   \n",
      "0.322ng Samples     \n",
      "0.324ng Samples..   \n",
      "0.326ng Samples...  \n",
      "0.328ng Samples..   \n",
      "0.33ing Samples     \n",
      "0.332ng Samples.    \n",
      "0.334ng Samples...  \n",
      "0.336ng Samples     \n",
      "0.338ng Samples     \n",
      "0.34ing Samples...  \n",
      "0.342ng Samples..   \n",
      "0.344ng Samples     \n",
      "0.346ng Samples.    \n",
      "0.348ng Samples.    \n",
      "0.35ing Samples.    \n",
      "0.352ng Samples...  \n",
      "0.354ng Samples...  \n",
      "0.356ng Samples.    \n",
      "0.358ng Samples.    \n",
      "0.36ing Samples.    \n",
      "0.362ng Samples     \n",
      "0.364ng Samples     \n",
      "0.366ng Samples     \n",
      "0.368ng Samples.    \n",
      "0.37ing Samples...  \n",
      "0.372ng Samples     \n",
      "0.374ng Samples..   \n",
      "0.376ng Samples     \n",
      "0.378ng Samples.    \n",
      "0.38ing Samples...  \n",
      "0.382ng Samples     \n",
      "0.384ng Samples...  \n",
      "0.386ng Samples.    \n",
      "0.388ng Samples...  \n",
      "0.39ing Samples     \n",
      "0.392ng Samples..   \n",
      "0.394ng Samples..   \n",
      "0.396ng Samples..   \n",
      "0.398ng Samples.    \n",
      "0.4wing Samples     \n",
      "0.402ng Samples.    \n",
      "0.404ng Samples     \n",
      "0.406ng Samples..   \n",
      "0.408ng Samples...  \n",
      "0.41ing Samples..   \n",
      "0.412\n",
      "0.414ng Samples.    \n",
      "0.416ng Samples..   \n",
      "0.418ng Samples.    \n",
      "0.42ing Samples     \n",
      "0.422ng Samples...  \n",
      "0.424ng Samples.    \n",
      "0.426ng Samples..   \n",
      "0.428ng Samples.    \n",
      "0.43ing Samples     \n",
      "0.432ng Samples...  \n",
      "0.434ng Samples...  \n",
      "0.436ng Samples...  \n",
      "0.438ng Samples..   \n",
      "0.44ing Samples     \n",
      "0.442ng Samples..   \n",
      "0.444ng Samples...  \n",
      "0.446ng Samples.    \n",
      "0.448ng Samples.    \n",
      "0.45ing Samples...  \n",
      "0.452ng Samples.    \n",
      "0.454ng Samples.    \n",
      "0.456ng Samples     \n",
      "0.458ng Samples.    \n",
      "0.46ing Samples     \n",
      "0.462ng Samples     \n",
      "0.464ng Samples.    \n",
      "0.466ng Samples.    \n",
      "0.468ng Samples.    \n",
      "0.47ing Samples.    \n",
      "0.472ng Samples..   \n",
      "0.474ng Samples.    \n",
      "0.476ng Samples...  \n",
      "0.478ng Samples..   \n",
      "0.48ing Samples.    \n",
      "0.482ng Samples.    \n",
      "0.484ng Samples..   \n",
      "0.486ng Samples...  \n",
      "0.488ng Samples     \n",
      "0.49ing Samples..   \n",
      "0.492ng Samples...  \n",
      "0.494ng Samples..   \n",
      "0.496ng Samples.    \n",
      "0.498ng Samples...  \n",
      "0.5wing Samples..   \n",
      "0.502ng Samples     \n",
      "0.504ng Samples...  \n",
      "0.506ng Samples..   \n",
      "0.508ng Samples.    \n",
      "0.51\n",
      "0.512ng Samples.    \n",
      "0.514ng Samples..   \n",
      "0.516ng Samples.    \n",
      "0.518ng Samples..   \n",
      "0.52ing Samples...  \n",
      "0.522ng Samples..   \n",
      "0.524ng Samples.    \n",
      "0.526ng Samples...  \n",
      "0.528ng Samples     \n",
      "0.53ing Samples     \n",
      "0.532ng Samples.    \n",
      "0.534ng Samples...  \n",
      "0.536ng Samples.    \n",
      "0.538ng Samples.    \n",
      "0.54ing Samples     \n",
      "0.542ng Samples...  \n",
      "0.544ng Samples..   \n",
      "0.546ng Samples.    \n",
      "0.548ng Samples..   \n",
      "0.55ing Samples     \n",
      "0.552ng Samples.    \n",
      "0.554ng Samples...  \n",
      "0.556ng Samples..   \n",
      "0.558ng Samples..   \n",
      "0.56ing Samples...  \n",
      "0.562ng Samples.    \n",
      "0.564ng Samples..   \n",
      "0.566ng Samples...  \n",
      "0.568ng Samples.    \n",
      "0.57ing Samples..   \n",
      "0.572ng Samples     \n",
      "0.574ng Samples     \n",
      "0.576ng Samples..   \n",
      "0.578ng Samples..   \n",
      "0.58ing Samples...  \n",
      "0.582ng Samples..   \n",
      "0.584ng Samples     \n",
      "0.586ng Samples     \n",
      "0.588ng Samples     \n",
      "0.59ing Samples.    \n",
      "0.592ng Samples.    \n",
      "0.594ng Samples     \n",
      "0.596ng Samples..   \n",
      "0.598ng Samples.    \n",
      "0.6wing Samples..   \n",
      "0.602ng Samples.    \n",
      "0.604ng Samples..   \n",
      "0.606ng Samples     \n",
      "0.608ng Samples     \n",
      "0.61ing Samples     \n",
      "0.612ng Samples...  \n",
      "0.614ng Samples.    \n",
      "0.616ng Samples     \n",
      "0.618ng Samples...  \n",
      "0.62ing Samples..   \n",
      "0.622ng Samples     \n",
      "0.624ng Samples...  \n",
      "0.626ng Samples...  \n",
      "0.628ng Samples.    \n",
      "0.63ing Samples..   \n",
      "0.632ng Samples...  \n",
      "0.634ng Samples.    \n",
      "0.636ng Samples...  \n",
      "0.638ng Samples.    \n",
      "0.64ing Samples..   \n",
      "0.642ng Samples.    \n",
      "0.644ng Samples     \n",
      "0.646ng Samples...  \n",
      "0.648ng Samples...  \n",
      "0.65ing Samples..   \n",
      "0.652ng Samples.    \n",
      "0.654ng Samples...  \n",
      "0.656ng Samples..   \n",
      "0.658ng Samples...  \n",
      "0.66ing Samples..   \n",
      "0.662ng Samples.    \n",
      "0.664ng Samples     \n",
      "0.666ng Samples...  \n",
      "0.668ng Samples...  \n",
      "0.67ing Samples.    \n",
      "0.672ng Samples...  \n",
      "0.674\n",
      "0.676ng Samples.    \n",
      "0.678ng Samples.    \n",
      "0.68ing Samples.    \n",
      "0.682ng Samples     \n",
      "0.684ng Samples     \n",
      "0.686ng Samples..   \n",
      "0.688ng Samples...  \n",
      "0.69ing Samples.    \n",
      "0.692ng Samples.    \n",
      "0.694ng Samples...  \n",
      "0.696ng Samples...  \n",
      "0.698ng Samples...  \n",
      "0.7wing Samples     \n",
      "0.702ng Samples     \n",
      "0.704ng Samples...  \n",
      "0.706ng Samples.    \n",
      "0.708ng Samples...  \n",
      "0.71ing Samples...  \n",
      "0.712ng Samples...  \n",
      "0.714ng Samples...  \n",
      "0.716ng Samples..   \n",
      "0.718ng Samples...  \n",
      "0.72ing Samples...  \n",
      "0.722ng Samples.    \n",
      "0.724ng Samples.    \n",
      "0.726ng Samples..   \n",
      "0.728ng Samples..   \n",
      "0.73ing Samples...  \n",
      "0.732ng Samples.    \n",
      "0.734ng Samples...  \n",
      "0.736ng Samples...  \n",
      "0.738ng Samples..   \n",
      "0.74ing Samples..   \n",
      "0.742ng Samples     \n",
      "0.744ng Samples     \n",
      "0.746ng Samples...  \n",
      "0.748ng Samples..   \n",
      "0.75ing Samples     \n",
      "0.752ng Samples...  \n",
      "0.754ng Samples...  \n",
      "0.756ng Samples     \n",
      "0.758ng Samples     \n",
      "0.76ing Samples.    \n",
      "0.762ng Samples     \n",
      "0.764ng Samples.    \n",
      "0.766ng Samples     \n",
      "0.768ng Samples     \n",
      "0.77ing Samples     \n",
      "0.772ng Samples..   \n",
      "0.774ng Samples.    \n",
      "0.776ng Samples.    \n",
      "0.778ng Samples.    \n",
      "0.78ing Samples.    \n",
      "0.782ng Samples...  \n",
      "0.784ng Samples.    \n",
      "0.786ng Samples.    \n",
      "0.788ng Samples.    \n",
      "0.79ing Samples.    \n",
      "0.792ng Samples..   \n",
      "0.794ng Samples     \n",
      "0.796ng Samples.    \n",
      "0.798ng Samples     \n",
      "0.8wing Samples     \n",
      "0.802ng Samples     \n",
      "0.804ng Samples...  \n",
      "0.806ng Samples...  \n",
      "0.808ng Samples..   \n",
      "0.81ing Samples.    \n",
      "0.812ng Samples..   \n",
      "0.814ng Samples     \n",
      "0.816ng Samples..   \n",
      "0.818ng Samples     \n",
      "0.82ing Samples     \n",
      "0.822ng Samples.    \n",
      "0.824ng Samples.    \n",
      "0.826ng Samples..   \n",
      "0.828ng Samples..   \n",
      "0.83ing Samples...  \n",
      "0.832ng Samples..   \n",
      "0.834ng Samples.    \n",
      "0.836ng Samples.    \n",
      "0.838ng Samples...  \n",
      "0.84ing Samples.    \n",
      "0.842ng Samples...  \n",
      "0.844ng Samples.    \n",
      "0.846ng Samples...  \n",
      "0.848ng Samples     \n",
      "0.85ing Samples     \n",
      "0.852ng Samples...  \n",
      "0.854ng Samples...  \n",
      "0.856ng Samples.    \n",
      "0.858ng Samples     \n",
      "0.86ing Samples..   \n",
      "0.862ng Samples.    \n",
      "0.864ng Samples     \n",
      "0.866ng Samples     \n",
      "0.868ng Samples.    \n",
      "0.87ing Samples..   \n",
      "0.872\n",
      "0.874ng Samples     \n",
      "0.876ng Samples     \n",
      "0.878ng Samples..   \n",
      "0.88ing Samples..   \n",
      "0.882ng Samples...  \n",
      "0.884ng Samples..   \n",
      "0.886ng Samples..   \n",
      "0.888ng Samples...  \n",
      "0.89ing Samples     \n",
      "0.892ng Samples...  \n",
      "0.894ng Samples..   \n",
      "0.896ng Samples.    \n",
      "0.898ng Samples..   \n",
      "0.9wing Samples..   \n",
      "0.902ng Samples...  \n",
      "0.904ng Samples...  \n",
      "0.906ng Samples.    \n",
      "0.908ng Samples     \n",
      "0.91ing Samples.    \n",
      "0.912ng Samples.    \n",
      "0.914\n",
      "0.916ng Samples...  \n",
      "0.918ng Samples...  \n",
      "0.92ing Samples...  \n",
      "0.922ng Samples     \n",
      "0.924ng Samples..   \n",
      "0.926ng Samples..   \n",
      "0.928ng Samples.    \n",
      "0.93ing Samples.    \n",
      "0.932ng Samples     \n",
      "0.934ng Samples...  \n",
      "0.936ng Samples.    \n",
      "0.938ng Samples     \n",
      "0.94ing Samples.    \n",
      "0.942ng Samples...  \n",
      "0.944ng Samples.    \n",
      "0.946ng Samples..   \n",
      "0.948ng Samples     \n",
      "0.95ing Samples     \n",
      "0.952ng Samples..   \n",
      "0.954ng Samples...  \n",
      "0.956ng Samples..   \n",
      "0.958ng Samples     \n",
      "0.96ing Samples     \n",
      "0.962ng Samples...  \n",
      "0.964ng Samples     \n",
      "0.966ng Samples...  \n",
      "0.968ng Samples..   \n",
      "0.97ing Samples     \n",
      "0.972ng Samples     \n",
      "0.974ng Samples.    \n",
      "0.976ng Samples..   \n",
      "0.978ng Samples...  \n",
      "0.98ing Samples     \n",
      "0.982ng Samples..   \n",
      "0.984ng Samples...  \n",
      "0.986ng Samples...  \n",
      "0.988ng Samples.    \n",
      "0.99ing Samples     \n",
      "0.992ng Samples     \n",
      "0.994ng Samples.    \n",
      "0.996ng Samples..   \n",
      "0.998ng Samples..   \n",
      "Drawing Samples     \r"
     ]
    }
   ],
   "source": [
    "#samples = gp.sample(test_vals[:,np.newaxis], num_samples=500)\n",
    "samples = []\n",
    "for i in range(500):\n",
    "    print(i/500)\n",
    "    samples.append(gp.sample(test_vals[:,np.newaxis]))"
   ]
  },
  {
   "cell_type": "code",
   "execution_count": 380,
   "metadata": {},
   "outputs": [],
   "source": [
    "samples = np.stack(samples)"
   ]
  },
  {
   "cell_type": "code",
   "execution_count": 381,
   "metadata": {},
   "outputs": [
    {
     "data": {
      "text/plain": [
       "(500, 120, 1)"
      ]
     },
     "execution_count": 381,
     "metadata": {},
     "output_type": "execute_result"
    }
   ],
   "source": [
    "samples.shape"
   ]
  },
  {
   "cell_type": "code",
   "execution_count": 382,
   "metadata": {},
   "outputs": [
    {
     "data": {
      "text/plain": [
       "(120, 1)"
      ]
     },
     "execution_count": 382,
     "metadata": {},
     "output_type": "execute_result"
    }
   ],
   "source": [
    "np.percentile(samples, 16, axis=0).shape"
   ]
  },
  {
   "cell_type": "code",
   "execution_count": 383,
   "metadata": {},
   "outputs": [],
   "source": [
    "plt.figure()\n",
    "plt.title('GP 500 Samples')\n",
    "plt.xlabel('$R/R_p$')\n",
    "plt.ylabel('$I/I_p$ (Log)')\n",
    "\n",
    "for i in range(samples.shape[0]):\n",
    "    plt.plot(test_vals, samples[i,:,0], color='b', alpha=0.2)"
   ]
  },
  {
   "cell_type": "code",
   "execution_count": 384,
   "metadata": {},
   "outputs": [],
   "source": [
    "x = test_vals\n",
    "gp_res = []\n",
    "etas_rrp = []\n",
    "rp_comp = []\n",
    "plt.figure()\n",
    "plt.title(\"R vs 1/$\\eta(R)$\")\n",
    "plt.xlabel(\"1/$\\eta(R)$\")\n",
    "plt.ylabel(\"R\")\n",
    "for (rs, _, Rp, Ip, etas, _), fs in zip(processed, list(samples[:,:,0])):\n",
    "    fs = 10**fs * Ip\n",
    "    rs = x * Rp\n",
    "\n",
    "    L = np.zeros_like(fs)\n",
    "    L[0] = np.pi*rs[0]**2  * fs[0]\n",
    "    for i in range(1,len(fs),1):\n",
    "        L[i] = L[i-1] + np.pi*(rs[i]**2 - rs[i-1]**2)*((fs[i]+fs[i-1])/2)\n",
    "\n",
    "    A = np.pi * rs**2\n",
    "    etas = fs*A/L\n",
    "    r_lim = rs<25.0\n",
    "    mono_dec = np.argmax(np.diff(etas)>=0)\n",
    "    mono_dec = np.arange(len(etas))<mono_dec\n",
    "    r_lim = np.logical_and(r_lim, mono_dec)\n",
    "    \n",
    "    R_p = np.interp(0.2, np.flipud(etas[r_lim]), np.flipud(rs[r_lim]))\n",
    "    plt.plot(etas[r_lim], rs[r_lim])\n",
    "\n",
    "    gp_res.append((Rp, R_p))\n",
    "    etas_rrp.append((rs/R_p, etas))\n",
    "    rp_comp.append((Rp, R_p))"
   ]
  },
  {
   "cell_type": "code",
   "execution_count": 385,
   "metadata": {},
   "outputs": [],
   "source": [
    "plt.figure()\n",
    "plt.title('Data $R_p$ vs Model $R_p$')\n",
    "plt.xlabel('Data $R_p$')\n",
    "plt.ylabel('Model $R_p$ / Data $R_p$')\n",
    "plt.ylim((0, 2))\n",
    "\n",
    "data_rp, model_rp = zip(*rp_comp)\n",
    "plt.scatter(data_rp, np.array(model_rp)/np.array(data_rp))\n",
    "plt.hlines(1, 0, 20)\n",
    "#plt.plot()\n",
    "#mx = np.ceil(max(max(r), max(gr)))\n",
    "#mn = np.floor(min(min(r), min(gr)))\n",
    "#plt.plot(np.arange(5, 21), np.arange(5, 21), color='c')\n",
    "plt.legend()"
   ]
  },
  {
   "cell_type": "code",
   "execution_count": 359,
   "metadata": {},
   "outputs": [],
   "source": [
    "plt.figure()\n",
    "plt.title('1/$\\eta(R)$ and $R/R_p$ - Model')\n",
    "plt.ylabel('1/$\\eta(R)$')\n",
    "plt.xlabel('$R/R_p$')\n",
    "for r, f in etas_rrp:\n",
    "    plt.plot(r, f, color='b', alpha=0.2)"
   ]
  },
  {
   "cell_type": "code",
   "execution_count": 386,
   "metadata": {},
   "outputs": [
    {
     "data": {
      "text/plain": [
       "[<matplotlib.lines.Line2D at 0x7f00cc22fa58>]"
      ]
     },
     "execution_count": 386,
     "metadata": {},
     "output_type": "execute_result"
    }
   ],
   "source": [
    "plt.figure()\n",
    "r, gr = zip(*gp_res)\n",
    "plt.title('Input $R_p$ vs Measured $R_p$ - GP Generated SBP')\n",
    "plt.xlabel('Input $R_p$')\n",
    "plt.ylabel('Measured $R_p$')\n",
    "plt.scatter(r, gr, color='b')\n",
    "mx = np.ceil(max(max(r), max(gr)))\n",
    "mn = np.floor(min(min(r), min(gr)))\n",
    "plt.plot(np.arange(mn, mx), np.arange(mn, mx), color='c')"
   ]
  },
  {
   "cell_type": "code",
   "execution_count": 361,
   "metadata": {},
   "outputs": [
    {
     "data": {
      "text/plain": [
       "<matplotlib.legend.Legend at 0x7f00ca47c668>"
      ]
     },
     "execution_count": 361,
     "metadata": {},
     "output_type": "execute_result"
    }
   ],
   "source": [
    "plt.figure()\n",
    "r, gr = zip(*gp_res)\n",
    "plt.hist(r, bins=40, alpha=0.5, label='Data')\n",
    "#plt.hist(new_res, bins=40, alpha=0.5, label='Line Measured')\n",
    "#plt.figure()\n",
    "plt.hist(gr, bins=40, alpha=0.5, label='GP')\n",
    "plt.xlabel(\"Petrosian Radius\")\n",
    "plt.legend()"
   ]
  },
  {
   "cell_type": "code",
   "execution_count": 75,
   "metadata": {},
   "outputs": [
    {
     "data": {
      "text/plain": [
       "<matplotlib.image.AxesImage at 0x7f667119d278>"
      ]
     },
     "execution_count": 75,
     "metadata": {},
     "output_type": "execute_result"
    }
   ],
   "source": [
    "xs, ys = np.meshgrid(np.arange(84), np.arange(84))\n",
    "cxy = 42\n",
    "rs = np.sqrt((xs-cxy)**2 + (ys-cxy)**2)\n",
    "\n",
    "s = samples[5,:]\n",
    "_, _, re, ie = processed[35]\n",
    "rs = rs/re\n",
    "fs = s*ie\n",
    "\n",
    "\n",
    "fs = np.interp(rs.flatten(), test_vals, fs).reshape([84,84])\n",
    "plt.imshow(fs, cmap='gray')"
   ]
  },
  {
   "cell_type": "code",
   "execution_count": 76,
   "metadata": {},
   "outputs": [
    {
     "data": {
      "text/plain": [
       "<matplotlib.image.AxesImage at 0x7f6670f570f0>"
      ]
     },
     "execution_count": 76,
     "metadata": {},
     "output_type": "execute_result"
    }
   ],
   "source": [
    "img, segmap, img_id = spheroids[1]\n",
    "\n",
    "noise = img[segmap==0]\n",
    "\n",
    "frame = np.zeros([84,84])\n",
    "np.place(frame, np.ones_like(frame), noise)\n",
    "np.random.shuffle(frame)\n",
    "plt.imshow(frame, cmap='gray')"
   ]
  },
  {
   "cell_type": "code",
   "execution_count": 81,
   "metadata": {},
   "outputs": [
    {
     "data": {
      "text/plain": [
       "<matplotlib.image.AxesImage at 0x7f66707e5208>"
      ]
     },
     "execution_count": 81,
     "metadata": {},
     "output_type": "execute_result"
    }
   ],
   "source": [
    "plt.imshow(fs+(frame*0.06), cmap='gray')"
   ]
  },
  {
   "cell_type": "code",
   "execution_count": 82,
   "metadata": {},
   "outputs": [],
   "source": [
    "fits.PrimaryHDU(frame).writeto('noise_bank.fits')\n",
    "fits.PrimaryHDU(fs).writeto('gp_img.fits')\n",
    "fits.PrimaryHDU(fs+(frame*0.06)).writeto('gp_with_noise.fits')"
   ]
  }
 ],
 "metadata": {
  "kernelspec": {
   "display_name": "Python [default]",
   "language": "python",
   "name": "python3"
  },
  "language_info": {
   "codemirror_mode": {
    "name": "ipython",
    "version": 3
   },
   "file_extension": ".py",
   "mimetype": "text/x-python",
   "name": "python",
   "nbconvert_exporter": "python",
   "pygments_lexer": "ipython3",
   "version": "3.6.2"
  }
 },
 "nbformat": 4,
 "nbformat_minor": 2
}
