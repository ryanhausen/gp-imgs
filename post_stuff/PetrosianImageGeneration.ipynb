{
 "cells": [
  {
   "cell_type": "code",
   "execution_count": 1,
   "metadata": {},
   "outputs": [
    {
     "name": "stdout",
     "output_type": "stream",
     "text": [
      "Using matplotlib backend: Qt5Agg\n"
     ]
    }
   ],
   "source": [
    "# adds parent dir to python path\n",
    "import sys\n",
    "sys.path.insert(0, '..')\n",
    "\n",
    "#system lib\n",
    "import os\n",
    "import json\n",
    "from importlib import reload\n",
    "from multiprocessing import Pool\n",
    "import warnings\n",
    "warnings.filterwarnings('ignore')\n",
    "\n",
    "# 3rd party lib\n",
    "import numpy as np\n",
    "import matplotlib.pyplot as plt\n",
    "%matplotlib auto\n",
    "\n",
    "# astro lib\n",
    "from astropy.io import fits\n",
    "\n",
    "# my lib\n",
    "import ImageTools as it\n",
    "import DataTools as dt\n",
    "import gphelper\n",
    "from gphelper import GPHelper"
   ]
  },
  {
   "cell_type": "code",
   "execution_count": 7,
   "metadata": {},
   "outputs": [],
   "source": [
    "gp_h = GPHelper(restore_file='gp.json')\n",
    "gp_j = GPHelper(restore_file='gp_j.json')\n",
    "gp_v = GPHelper(restore_file='gp_v.json')\n",
    "gp_z = GPHelper(restore_file='gp_z.json')\n",
    "\n",
    "rp_ip = []\n",
    "with open('rp_ip', 'r') as f:\n",
    "    for line in f:\n",
    "        rp_ip.append(line.strip())\n"
   ]
  },
  {
   "cell_type": "code",
   "execution_count": 37,
   "metadata": {},
   "outputs": [
    {
     "name": "stdout",
     "output_type": "stream",
     "text": [
      "Drawing Samples     \r"
     ]
    },
    {
     "data": {
      "text/plain": [
       "<matplotlib.image.AxesImage at 0x7f0c4c037c50>"
      ]
     },
     "execution_count": 37,
     "metadata": {},
     "output_type": "execute_result"
    }
   ],
   "source": [
    "# draw a sample\n",
    "rpip = np.random.choice(rp_ip)\n",
    "rpip = rpip.split(',')\n",
    "rp, ip = float(rpip[0]), float(rpip[1])\n",
    "\n",
    "y, x = np.meshgrid(np.arange(84), np.arange(84))\n",
    "cx, cy = 41.5, 41.25\n",
    "rs = np.sqrt((x-cx)**2 + (y-cy)**2) \n",
    "norm_rs = rs / rp\n",
    "img = norm_rs.copy()\n",
    "\n",
    "sorted_rs = np.array(sorted(np.unique(img)))\n",
    "fs = 10**gp_h.sample(sorted_rs[sorted_rs<=5,np.newaxis]) * ip\n",
    "\n",
    "for r in sorted_rs:\n",
    "    if r <= 5:\n",
    "        img[img==r] = fs[sorted_rs[sorted_rs<=5]==r, 0]\n",
    "    else:\n",
    "        img[img==r] = 0\n",
    "\n",
    "plt.imshow(img)"
   ]
  },
  {
   "cell_type": "code",
   "execution_count": 49,
   "metadata": {},
   "outputs": [
    {
     "data": {
      "text/plain": [
       "<matplotlib.image.AxesImage at 0x7f0c477a89e8>"
      ]
     },
     "execution_count": 49,
     "metadata": {},
     "output_type": "execute_result"
    }
   ],
   "source": [
    "# get color ratio\n",
    "color_rs = np.array(sorted(np.unique(rs[norm_rs<=5])))\n",
    "\n",
    "pixel_bound = 15\n",
    "j_vals = gp_j.predict(color_rs[color_rs<=pixel_bound,np.newaxis])\n",
    "v_vals = gp_v.predict(color_rs[color_rs<=pixel_bound,np.newaxis])\n",
    "z_vals = gp_z.predict(color_rs[color_rs<=pixel_bound,np.newaxis])\n",
    "\n",
    "j_ratio = rs.copy()\n",
    "v_ratio = rs.copy()\n",
    "z_ratio = rs.copy()\n",
    "\n",
    "for r in color_rs:\n",
    "    if r <= pixel_bound:\n",
    "        j_ratio[rs==r] = j_vals[color_rs[color_rs<=pixel_bound]==r]\n",
    "        v_ratio[rs==r] = v_vals[color_rs[color_rs<=pixel_bound]==r]\n",
    "        z_ratio[rs==r] = z_vals[color_rs[color_rs<=pixel_bound]==r]\n",
    "    else:\n",
    "        j_ratio[rs==r] = 1.0\n",
    "        v_ratio[rs==r] = 1.0\n",
    "        z_ratio[rs==r] = 1.0\n",
    "\n",
    "j_img = j_ratio * img     \n",
    "v_img = v_ratio * img\n",
    "z_img = z_ratio * img\n",
    "\n",
    "plt.figure()\n",
    "plt.imshow(j_img)\n",
    "plt.figure()\n",
    "plt.imshow(v_img)\n",
    "plt.figure()\n",
    "plt.imshow(z_img)"
   ]
  },
  {
   "cell_type": "code",
   "execution_count": 53,
   "metadata": {},
   "outputs": [
    {
     "data": {
      "text/plain": [
       "<matplotlib.image.AxesImage at 0x7f0c47076a20>"
      ]
     },
     "execution_count": 53,
     "metadata": {},
     "output_type": "execute_result"
    }
   ],
   "source": [
    "# get noise\n",
    "noise_params = []\n",
    "with open('signal_to_noise', 'r') as f:\n",
    "    for line in f:\n",
    "        #noise_params.append(tuple(float(i) for i in line.strip().split(',')))\n",
    "        noise_params.append(line.strip())\n",
    "\n",
    "h_mean, h_std, h_snr, j_mean, j_std, j_snr, v_mean, v_std, v_snr, z_mean, z_std, z_snr = tuple(float(i) for i in np.random.choice(noise_params).split(','))\n",
    "h_noise = np.random.normal(loc=h_mean, scale=h_std, size=[84,84])\n",
    "j_noise = np.random.normal(loc=j_mean, scale=j_std, size=[84,84])\n",
    "v_noise = np.random.normal(loc=v_mean, scale=v_std, size=[84,84])\n",
    "z_noise = np.random.normal(loc=z_mean, scale=z_std, size=[84,84])\n",
    "\n",
    "plt.figure()\n",
    "plt.imshow(h_noise)\n",
    "plt.figure()\n",
    "plt.imshow(j_noise)\n",
    "plt.figure()\n",
    "plt.imshow(v_noise)\n",
    "plt.figure()\n",
    "plt.imshow(z_noise)"
   ]
  },
  {
   "cell_type": "code",
   "execution_count": 54,
   "metadata": {},
   "outputs": [
    {
     "data": {
      "text/plain": [
       "<matplotlib.image.AxesImage at 0x7f0c477d3048>"
      ]
     },
     "execution_count": 54,
     "metadata": {},
     "output_type": "execute_result"
    }
   ],
   "source": [
    "# adjust snr to a measured level\n",
    "scaled_h = h_noise * (h_snr/(img.mean()/h_noise.mean()))\n",
    "scaled_j = j_noise * (j_snr/(img.mean()/j_noise.mean()))\n",
    "scaled_v = v_noise * (v_snr/(img.mean()/v_noise.mean()))\n",
    "scaled_z = z_noise * (z_snr/(img.mean()/z_noise.mean()))\n",
    "\n",
    "plt.figure()\n",
    "plt.title('H')\n",
    "plt.imshow(img+h_noise)\n",
    "plt.figure()\n",
    "plt.title('J')\n",
    "plt.imshow(j_img+j_noise)\n",
    "plt.figure()\n",
    "plt.title('V')\n",
    "plt.imshow(v_img+v_noise)\n",
    "plt.figure()\n",
    "plt.title('Z')\n",
    "plt.imshow(z_img+z_noise)\n"
   ]
  }
 ],
 "metadata": {
  "kernelspec": {
   "display_name": "Python [conda root]",
   "language": "python",
   "name": "conda-root-py"
  },
  "language_info": {
   "codemirror_mode": {
    "name": "ipython",
    "version": 3
   },
   "file_extension": ".py",
   "mimetype": "text/x-python",
   "name": "python",
   "nbconvert_exporter": "python",
   "pygments_lexer": "ipython3",
   "version": "3.6.1"
  }
 },
 "nbformat": 4,
 "nbformat_minor": 2
}
