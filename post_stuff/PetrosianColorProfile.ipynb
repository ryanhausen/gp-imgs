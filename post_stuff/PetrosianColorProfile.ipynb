{
 "cells": [
  {
   "cell_type": "code",
   "execution_count": 1,
   "metadata": {},
   "outputs": [
    {
     "name": "stdout",
     "output_type": "stream",
     "text": [
      "Using matplotlib backend: Qt5Agg\n"
     ]
    }
   ],
   "source": [
    "# adds parent dir to python path\n",
    "import sys\n",
    "sys.path.insert(0, '..')\n",
    "\n",
    "#system lib\n",
    "import os\n",
    "import json\n",
    "\n",
    "# 3rd party lib\n",
    "import numpy as np\n",
    "#import matplotlib\n",
    "#import matplotlib.pyplot as plt\n",
    "#%matplotlib notebook\n",
    "#matplotlib.rcParams.update({'font.size': 22})\n",
    "#from bqplot import pyplot as plt\n",
    "\n",
    "import matplotlib.pyplot as plt\n",
    "%matplotlib auto\n",
    "\n",
    "# astro lib\n",
    "from astropy.io import fits\n",
    "import sep\n",
    "\n",
    "# my lib\n",
    "import ImageTools as it\n",
    "import DataTools as dt\n",
    "from gphelper import GPHelper\n",
    "\n",
    "from importlib import reload\n",
    "\n",
    "import warnings\n",
    "warnings.filterwarnings('ignore')\n",
    "\n",
    "\n",
    "from multiprocessing import Pool"
   ]
  },
  {
   "cell_type": "code",
   "execution_count": 10,
   "metadata": {},
   "outputs": [],
   "source": [
    "def make_nonnegative(img):\n",
    "    epsilon = np.abs(img.min()) + 1e-3\n",
    "    if img.min() <= 0:\n",
    "        img += epsilon\n",
    "    return img\n",
    "\n",
    "def get_spheroids(num=10, band='h'):\n",
    "    with open('../spheroids', 'r') as f:\n",
    "        spheroids= np.array(f.readlines())\n",
    "    \n",
    "    data_dir = os.path.join(os.getenv('HOME'), 'Documents/astro_data/orig_images')\n",
    "    fmask = 'GDS_{}_{}.fits'\n",
    "    f_string = os.path.join(data_dir, fmask)\n",
    "    \n",
    "    sources = []\n",
    "    for s in spheroids:\n",
    "        s = s.strip()\n",
    "        img = fits.getdata(f_string.format(s, band))\n",
    "        segmap = fits.getdata(f_string.format(s, 'segmap'))\n",
    "        img_id = int(s.split('_')[1])\n",
    "        sources.append((img.copy(), segmap.copy(), img_id))\n",
    "        del img\n",
    "        del segmap\n",
    "        \n",
    "    return sources\n",
    "        \n",
    "def process_img(args):\n",
    "    def denoise(img, segmap, img_id):\n",
    "        noise_bank = img[segmap==0].flatten()\n",
    "        other_source = np.logical_and(segmap!=0, segmap!=img_id)\n",
    "        np.place(img, other_source, noise_bank)\n",
    "\n",
    "        sep_arr = img.byteswap().newbyteorder('N')\n",
    "        bkg = sep.Background(sep_arr, mask=segmap==img_id, bw=10, bh=10)\n",
    "        img = img-bkg\n",
    "\n",
    "        return img\n",
    "    \n",
    "    def get_rs_and_fs(img, src_map):\n",
    "        cx, cy = it.img_center(img, src_map)\n",
    "        xs, ys = np.meshgrid(np.arange(img.shape[0]), np.arange(img.shape[1]).T)\n",
    "        rs = np.sqrt(np.square(xs-cx)+np.square(ys-cy))\n",
    "\n",
    "        rs = rs.flatten()\n",
    "        fs = img.flatten()\n",
    "        sorted_rs = np.argsort(rs)\n",
    "\n",
    "        rs = rs[sorted_rs]\n",
    "        fs = fs[sorted_rs]\n",
    "\n",
    "        return rs, fs\n",
    "    \n",
    "    img, segmap, img_id = args\n",
    "    src_map = segmap==img_id\n",
    "    img = denoise(img, segmap, img_id)\n",
    "    \n",
    "    rs, fs = get_rs_and_fs(img, src_map)\n",
    "    \n",
    "    dr = 0.05*(rs.max()-rs.min())\n",
    "    fs = dt.loessc_p(rs, fs, dr, pnum=2)\n",
    "    fs[fs<0]=0\n",
    "    \n",
    "    num_interp = 100\n",
    "    _rs = np.linspace(rs.min(), rs.max(), num_interp)\n",
    "    fs = np.interp(_rs, rs, fs)\n",
    "    rs = _rs\n",
    "    \n",
    "    L = np.zeros(num_interp)\n",
    "    L[0] = np.pi*rs[0]**2  * fs[0]\n",
    "    for i in range(1,num_interp,1):\n",
    "        L[i] = L[i-1] + np.pi*(rs[i]**2 - rs[i-1]**2)*((fs[i]+fs[i-1])/2)\n",
    "\n",
    "    A = np.pi * rs**2\n",
    "    etas = fs*A/L\n",
    "    r_lim = rs<25.0\n",
    "    #etas = etas[r_lim]\n",
    "    mono_dec = np.argmax(np.diff(etas)>=0)\n",
    "    mono_dec = np.arange(len(etas))<mono_dec\n",
    "    r_lim = np.logical_and(r_lim, mono_dec)\n",
    "    \n",
    "    Rp = np.interp(0.2, np.flipud(etas[r_lim]), np.flipud(rs[r_lim]))\n",
    "    Fp_idx = np.square(rs - 2*Rp).argmin()\n",
    "\n",
    "    Fp = np.cumsum(L[:Fp_idx]/L[:Fp_idx].sum())\n",
    "    Ip = np.interp(Rp, rs, fs)\n",
    "\n",
    "    return (rs, fs, Rp, Ip, etas, img_id)"
   ]
  },
  {
   "cell_type": "code",
   "execution_count": 64,
   "metadata": {},
   "outputs": [],
   "source": [
    "# get imgs in other bands\n",
    "spheroids_h = get_spheroids(-1, 'h')\n",
    "spheroids_j = get_spheroids(-1, 'j')\n",
    "spheroids_v = get_spheroids(-1, 'v')\n",
    "spheroids_z = get_spheroids(-1, 'z')"
   ]
  },
  {
   "cell_type": "code",
   "execution_count": 4,
   "metadata": {},
   "outputs": [],
   "source": [
    "# get the imgs in h band \n",
    "with open('h_vals.json', 'r') as f:\n",
    "    processed_h = json.load(f)"
   ]
  },
  {
   "cell_type": "code",
   "execution_count": 5,
   "metadata": {},
   "outputs": [],
   "source": [
    "ids = [h['id'] for h in processed_h]\n",
    "\n",
    "# get rid of the imgs that were excluded from h\n",
    "tmpj, tmpv, tmpz = [], [], []\n",
    "for j, v, z, in zip(spheroids_j, spheroids_v, spheroids_z):\n",
    "    if j[-1] in ids:\n",
    "        tmpj.append(j)\n",
    "        tmpv.append(v)\n",
    "        tmpz.append(z)\n",
    "\n",
    "spheroids_j = tmpj\n",
    "spheroids_v = tmpv\n",
    "spheroids_z = tmpz"
   ]
  },
  {
   "cell_type": "code",
   "execution_count": 100,
   "metadata": {},
   "outputs": [
    {
     "name": "stdout",
     "output_type": "stream",
     "text": [
      "CPU times: user 9min, sys: 2min 59s, total: 11min 59s\n",
      "Wall time: 1h 14min 47s\n"
     ]
    }
   ],
   "source": [
    "%%time\n",
    "count = 0\n",
    "\n",
    "processed_h, processed_j, processed_v, processed_z = [], [], [], []\n",
    "for h, j, v, z in zip(spheroids_h, spheroids_j, spheroids_v, spheroids_z):\n",
    "    print(count/len(spheroids_j), end='\\r')\n",
    "    count += 1\n",
    "    \n",
    "    try:\n",
    "        h = process_img(h)\n",
    "        j = process_img(j)\n",
    "        v = process_img(v)\n",
    "        z = process_img(z)\n",
    "    except Exception as e:\n",
    "        continue\n",
    "    \n",
    "    processed_h.append(h)\n",
    "    processed_j.append(j)\n",
    "    processed_v.append(v)\n",
    "    processed_z.append(z)"
   ]
  },
  {
   "cell_type": "code",
   "execution_count": 94,
   "metadata": {},
   "outputs": [
    {
     "name": "stdout",
     "output_type": "stream",
     "text": [
      "CPU times: user 2min 4s, sys: 42.2 s, total: 2min 46s\n",
      "Wall time: 17min 24s\n"
     ]
    }
   ],
   "source": [
    "%%time\n",
    "count = 0\n",
    "\n",
    "processed_h =[]\n",
    "for h  in spheroids_h:\n",
    "    print(count/len(spheroids_j), end='\\r')\n",
    "    count += 1\n",
    "    \n",
    "    if h[-1] not in ids:\n",
    "        continue\n",
    "    \n",
    "    try:\n",
    "        h = process_img(h)\n",
    "    except Exception as e:\n",
    "        continue\n",
    "    \n",
    "    processed_h.append(h)\n"
   ]
  },
  {
   "cell_type": "code",
   "execution_count": 85,
   "metadata": {},
   "outputs": [],
   "source": [
    "ids = [j[-1] for j in processed_j]"
   ]
  },
  {
   "cell_type": "code",
   "execution_count": 159,
   "metadata": {},
   "outputs": [],
   "source": [
    "#Save\n",
    "\n",
    "for b,data in zip(['h','j','v','z'], [processed_h,processed_j, processed_v, processed_z]):\n",
    "    vals = []\n",
    "    for s in data:\n",
    "        v = {\n",
    "            'rs' : dt._nmpy_encode(s[0]),\n",
    "            'fs' : dt._nmpy_encode(s[1]),\n",
    "            'rp' : s[2],\n",
    "            'ip' : s[3],\n",
    "            'etas' : dt._nmpy_encode(s[4]),\n",
    "            'id' : s[5]\n",
    "        }\n",
    "        vals.append(v)\n",
    "\n",
    "    with open(b+'_vals.json', 'w') as f:\n",
    "        json.dump(vals, f)"
   ]
  },
  {
   "cell_type": "code",
   "execution_count": 96,
   "metadata": {},
   "outputs": [],
   "source": [
    "# Load \n",
    "processed_h, processed_j, processed_v, processed_z = [], [], [], []\n",
    "\n",
    "for b, l in zip(['h', 'j', 'v', 'z'], [processed_h, processed_j, processed_v, processed_z]):\n",
    "    with open(b+'_vals.json', 'r') as f:\n",
    "        vals = json.load(f)\n",
    "        \n",
    "    for v in vals:\n",
    "        l.append((dt._nmpy_decode(v['rs']),\n",
    "                  dt._nmpy_decode(v['fs']),\n",
    "                  v['rp'],\n",
    "                  v['ip'],\n",
    "                  dt._nmpy_decode(v['etas']),\n",
    "                 v['id']))\n"
   ]
  },
  {
   "cell_type": "code",
   "execution_count": 173,
   "metadata": {},
   "outputs": [],
   "source": [
    "interped_marks = np.concatenate([np.linspace(0, 1, 50, endpoint=False), np.linspace(1, 20, 950)])\n",
    "h_ratios, j_ratios, v_ratios, z_ratios = [], [], [], []\n",
    "h_vals, j_vals, v_vals, z_vals = [], [], [], []\n",
    "\n",
    "for h, j, v, z in zip(processed_h, processed_j, processed_v, processed_z):\n",
    "    h_rs, h_fs, h_rp, h_ip = h[0].copy(), h[1].copy(), h[2], h[3]\n",
    "    j_rs, j_fs, j_rp, j_ip = j[0].copy(), j[1].copy(), j[2], j[3]\n",
    "    v_rs, v_fs, v_rp, v_ip = v[0].copy(), v[1].copy(), v[2], v[3]\n",
    "    z_rs, z_fs, z_rp, z_ip = z[0].copy(), z[1].copy(), z[2], z[3]\n",
    "    \n",
    "    # are there any values we need to pad\n",
    "    \"\"\"\n",
    "    if (np.sum(h_fs<=0)+np.sum(j_fs<=0)+np.sum(v_fs<=0)+np.sum(z_fs<=0)) > 0:\n",
    "            epsilon = min(h_fs.min(), j_fs.min(), v_fs.min(), z_fs.min()) + 1e-3\n",
    "    \n",
    "            h_fs += epsilon\n",
    "            j_fs += epsilon\n",
    "            v_fs += epsilon\n",
    "            z_fs += epsilon\n",
    "    \"\"\"\n",
    "\n",
    "    # normalize\n",
    "    h_rs /= h_rp\n",
    "    h_fs /= h_ip\n",
    "    j_rs /= h_rp\n",
    "    j_fs /= j_ip\n",
    "    v_rs /= h_rp\n",
    "    v_fs /= v_ip\n",
    "    z_rs /= h_rp\n",
    "    z_fs /= z_ip\n",
    "    \n",
    "    \n",
    "    # get interp values\n",
    "    h_fs = np.interp(interped_marks, h_rs, h_fs, left=np.nan, right=np.nan)\n",
    "    j_fs = np.interp(interped_marks, j_rs, j_fs, left=np.nan, right=np.nan)\n",
    "    v_fs = np.interp(interped_marks, v_rs, v_fs, left=np.nan, right=np.nan)\n",
    "    z_fs = np.interp(interped_marks, z_rs, z_fs, left=np.nan, right=np.nan)\n",
    "    \n",
    "\n",
    "    \n",
    "    h_vals.append(h_fs)\n",
    "    j_vals.append(j_fs)\n",
    "    v_vals.append(v_fs)\n",
    "    z_vals.append(z_fs)\n",
    "    \n",
    "    h_ratios.append(h_fs/h_fs)\n",
    "    j_ratios.append(j_fs/h_fs)\n",
    "    v_ratios.append(v_fs/h_fs)\n",
    "    z_ratios.append(z_fs/h_fs)"
   ]
  },
  {
   "cell_type": "code",
   "execution_count": null,
   "metadata": {},
   "outputs": [],
   "source": []
  },
  {
   "cell_type": "code",
   "execution_count": 174,
   "metadata": {},
   "outputs": [],
   "source": [
    "plt.figure()\n",
    "plt.title('H')\n",
    "plt.ylim(-.5, 2.0)\n",
    "plt.xlim(0, 10)\n",
    "for f in h_ratios:\n",
    "    plt.plot(interped_marks, f)\n",
    "\n",
    "plt.figure()\n",
    "plt.title('J')\n",
    "plt.ylim(-.5, 2.0)\n",
    "plt.xlim(0, 10)\n",
    "\n",
    "for f in j_ratios:\n",
    "    plt.plot(interped_marks, f)\n",
    "    \n",
    "plt.figure()\n",
    "plt.title('V')\n",
    "plt.ylim(-.5, 2.0)\n",
    "plt.xlim(0, 10)\n",
    "for f in v_ratios:\n",
    "    plt.plot(interped_marks, f)\n",
    "    \n",
    "plt.figure()\n",
    "plt.title('Z')\n",
    "plt.ylim(-.5, 2.0)\n",
    "plt.xlim(0, 10)\n",
    "for f in z_ratios:\n",
    "    plt.plot(interped_marks, f)"
   ]
  },
  {
   "cell_type": "code",
   "execution_count": 170,
   "metadata": {},
   "outputs": [],
   "source": [
    "plt.figure()\n",
    "plt.title('H')\n",
    "for h in h_vals:\n",
    "    plt.plot(interped_marks, h)\n",
    "    \n",
    "plt.figure()\n",
    "plt.title('J')\n",
    "for h in j_vals:\n",
    "    plt.plot(interped_marks, h)\n",
    "    \n",
    "plt.figure()\n",
    "plt.title('V')\n",
    "for h in v_vals:\n",
    "    plt.plot(interped_marks, h)\n",
    "    \n",
    "plt.figure()\n",
    "plt.title('Z')\n",
    "for h in z_vals:\n",
    "    plt.plot(interped_marks, h)"
   ]
  },
  {
   "cell_type": "code",
   "execution_count": 158,
   "metadata": {},
   "outputs": [
    {
     "data": {
      "text/plain": [
       "<matplotlib.legend.Legend at 0x7f6aff87d080>"
      ]
     },
     "execution_count": 158,
     "metadata": {},
     "output_type": "execute_result"
    }
   ],
   "source": [
    "plt.figure()\n",
    "plt.title('Petrosian Radius Comparison by Band')\n",
    "plt.hist([h[2] for h in processed_h], label='H', alpha=0.25)\n",
    "plt.hist([h[2] for h in processed_j], label='J', alpha=0.25)\n",
    "plt.hist([h[2] for h in processed_v], label='V', alpha=0.25)\n",
    "plt.hist([h[2] for h in processed_z], label='Z', alpha=0.25)\n",
    "plt.legend()\n"
   ]
  },
  {
   "cell_type": "code",
   "execution_count": 172,
   "metadata": {},
   "outputs": [
    {
     "data": {
      "text/plain": [
       "<matplotlib.legend.Legend at 0x7f6affea56a0>"
      ]
     },
     "execution_count": 172,
     "metadata": {},
     "output_type": "execute_result"
    }
   ],
   "source": [
    "plt.figure()\n",
    "plt.title('Petrosian Radius Comparison by Band')\n",
    "plt.hist([j[2]/h[2] for h,j in zip(processed_h, processed_j)], label='J', alpha=0.25)\n",
    "plt.hist([j[2]/h[2] for h,j in zip(processed_h, processed_v)], label='V', alpha=0.25)\n",
    "plt.hist([j[2]/h[2] for h,j in zip(processed_h, processed_z)], label='Z', alpha=0.25)\n",
    "plt.legend()\n"
   ]
  }
 ],
 "metadata": {
  "kernelspec": {
   "display_name": "Python [conda env:sep]",
   "language": "python",
   "name": "conda-env-sep-py"
  },
  "language_info": {
   "codemirror_mode": {
    "name": "ipython",
    "version": 3
   },
   "file_extension": ".py",
   "mimetype": "text/x-python",
   "name": "python",
   "nbconvert_exporter": "python",
   "pygments_lexer": "ipython3",
   "version": "3.6.2"
  }
 },
 "nbformat": 4,
 "nbformat_minor": 2
}
