{
 "cells": [
  {
   "cell_type": "code",
   "execution_count": 31,
   "metadata": {},
   "outputs": [
    {
     "name": "stdout",
     "output_type": "stream",
     "text": [
      "Using matplotlib backend: Qt5Agg\n"
     ]
    }
   ],
   "source": [
    "from scipy.stats import multivariate_normal\n",
    "import numpy as np\n",
    "\n",
    "import matplotlib.pyplot as plt\n",
    "from mpl_toolkits.mplot3d import Axes3D\n",
    "%matplotlib auto\n",
    "\n",
    "\n",
    "\n",
    "import sys\n",
    "sys.path.insert(0, '..')\n",
    "\n",
    "import ImageTools as it"
   ]
  },
  {
   "cell_type": "code",
   "execution_count": null,
   "metadata": {},
   "outputs": [],
   "source": [
    "def gauss_c(x, m=0, s=1):\n",
    "    return (1/np.sqrt(2*np.pi*s**2)) * np.exp(-(x-m)**2/(2*s**2))\n",
    "    \n",
    "def gauss_d(x, m=0, s=1):\n",
    "    None\n",
    "\n",
    "def I(n, t):\n",
    "    \n",
    "    np.factorial(m)\n",
    "    \n",
    "def gamma(n):\n",
    "    return np.factorial(n-1)\n",
    "    \n",
    "    "
   ]
  },
  {
   "cell_type": "code",
   "execution_count": null,
   "metadata": {},
   "outputs": [],
   "source": [
    "x = np.arange(11)-5\n",
    "\n",
    "plt.plot(x, gauss_c(x))\n",
    "plt.show()"
   ]
  },
  {
   "cell_type": "code",
   "execution_count": null,
   "metadata": {},
   "outputs": [],
   "source": [
    "from astropy.io import fits\n",
    "import os\n",
    "import sep\n",
    "\n",
    "from scipy.stats import multivariate_normal"
   ]
  },
  {
   "cell_type": "code",
   "execution_count": 34,
   "metadata": {},
   "outputs": [],
   "source": [
    "def make_nonnegative(img):\n",
    "    epsilon = np.abs(img.min()) + 1e-3\n",
    "    img[img<=0] = img[img>0].min()\n",
    "    return img\n",
    "\n",
    "def get_random_spheroids(num=10):\n",
    "    with open('../spheroids', 'r') as f:\n",
    "        spheroids = np.array(f.readlines())\n",
    "    \n",
    "    if num==-1:\n",
    "        num = len(spheroids)\n",
    "    \n",
    "    selected = np.random.choice(spheroids, num, replace=False)\n",
    "    \n",
    "    data_dir = os.path.join(os.getenv('HOME'), 'Documents/astro_data/orig_images')\n",
    "    fmask = 'GDS_{}_{}.fits'\n",
    "    f_string = os.path.join(data_dir, fmask)\n",
    "\n",
    "    sources = []\n",
    "    for s in selected:\n",
    "        img = fits.getdata(f_string.format(s.strip(), 'h'))\n",
    "        segmap = fits.getdata(f_string.format(s.strip(), 'segmap'))\n",
    "        img_id = int(s.split('_')[1])\n",
    "        sources.append((img.copy(), segmap.copy(), img_id))\n",
    "        del img \n",
    "        del segmap\n",
    "    \n",
    "    return sources\n",
    "\n",
    "def get_random_disks(num=10):\n",
    "    with open('../disks', 'r') as f:\n",
    "        spheroids = np.array(f.readlines())\n",
    "    \n",
    "    if num==-1:\n",
    "        num = len(spheroids)\n",
    "    \n",
    "    selected = np.random.choice(spheroids, num, replace=False)\n",
    "    \n",
    "    data_dir = os.path.join(os.getenv('HOME'), 'Documents/astro_data/orig_images')\n",
    "    fmask = 'GDS_{}_{}.fits'\n",
    "    f_string = os.path.join(data_dir, fmask)\n",
    "\n",
    "    sources = []\n",
    "    for s in selected:\n",
    "        img = fits.getdata(f_string.format(s.strip(), 'h'))\n",
    "        segmap = fits.getdata(f_string.format(s.strip(), 'segmap'))\n",
    "        img_id = int(s.split('_')[1])\n",
    "        sources.append((img.copy(), segmap.copy(), img_id))\n",
    "        del img \n",
    "        del segmap\n",
    "    \n",
    "    return sources\n",
    "\n",
    "\n",
    "def denoise(img, segmap, img_id):\n",
    "    noise_bank = img[segmap==0].flatten()\n",
    "    other_source = np.logical_and(segmap!=0, segmap!=img_id)\n",
    "    np.place(img, other_source, noise_bank)\n",
    "    \n",
    "    array_sep_likes = img.byteswap().newbyteorder()\n",
    "    bkg = sep.Background(array_sep_likes, mask=segmap==img_id, bw=10, bh=10)\n",
    "    img = img-bkg\n",
    "    \n",
    "    return img"
   ]
  },
  {
   "cell_type": "code",
   "execution_count": 43,
   "metadata": {},
   "outputs": [],
   "source": [
    "source = get_random_disks(1)"
   ]
  },
  {
   "cell_type": "code",
   "execution_count": 44,
   "metadata": {},
   "outputs": [
    {
     "ename": "NameError",
     "evalue": "name 'curve_fit' is not defined",
     "output_type": "error",
     "traceback": [
      "\u001b[0;31m---------------------------------------------------------------------------\u001b[0m",
      "\u001b[0;31mNameError\u001b[0m                                 Traceback (most recent call last)",
      "\u001b[0;32m<ipython-input-44-e834458f1cbf>\u001b[0m in \u001b[0;36m<module>\u001b[0;34m()\u001b[0m\n\u001b[1;32m     28\u001b[0m     \u001b[0;32mreturn\u001b[0m \u001b[0mpopt\u001b[0m\u001b[0;34m\u001b[0m\u001b[0m\n\u001b[1;32m     29\u001b[0m \u001b[0;34m\u001b[0m\u001b[0m\n\u001b[0;32m---> 30\u001b[0;31m \u001b[0my_scale\u001b[0m\u001b[0;34m,\u001b[0m \u001b[0my_mean\u001b[0m\u001b[0;34m,\u001b[0m \u001b[0my_sigma\u001b[0m \u001b[0;34m=\u001b[0m \u001b[0mfit_gauss\u001b[0m\u001b[0;34m(\u001b[0m\u001b[0mys\u001b[0m\u001b[0;34m)\u001b[0m\u001b[0;34m\u001b[0m\u001b[0m\n\u001b[0m\u001b[1;32m     31\u001b[0m \u001b[0my_fit\u001b[0m \u001b[0;34m=\u001b[0m \u001b[0mgaus\u001b[0m\u001b[0;34m(\u001b[0m\u001b[0mnp\u001b[0m\u001b[0;34m.\u001b[0m\u001b[0marange\u001b[0m\u001b[0;34m(\u001b[0m\u001b[0mimg\u001b[0m\u001b[0;34m.\u001b[0m\u001b[0mshape\u001b[0m\u001b[0;34m[\u001b[0m\u001b[0;36m0\u001b[0m\u001b[0;34m]\u001b[0m\u001b[0;34m)\u001b[0m\u001b[0;34m,\u001b[0m\u001b[0my_scale\u001b[0m\u001b[0;34m,\u001b[0m \u001b[0my_mean\u001b[0m\u001b[0;34m,\u001b[0m \u001b[0my_sigma\u001b[0m\u001b[0;34m)\u001b[0m\u001b[0;34m\u001b[0m\u001b[0m\n\u001b[1;32m     32\u001b[0m \u001b[0;34m\u001b[0m\u001b[0m\n",
      "\u001b[0;32m<ipython-input-44-e834458f1cbf>\u001b[0m in \u001b[0;36mfit_gauss\u001b[0;34m(vals)\u001b[0m\n\u001b[1;32m     25\u001b[0m     \u001b[0msigma\u001b[0m \u001b[0;34m=\u001b[0m \u001b[0mnp\u001b[0m\u001b[0;34m.\u001b[0m\u001b[0mmean\u001b[0m\u001b[0;34m(\u001b[0m\u001b[0mvals\u001b[0m \u001b[0;34m*\u001b[0m \u001b[0;34m(\u001b[0m\u001b[0mxs\u001b[0m\u001b[0;34m-\u001b[0m\u001b[0mmu\u001b[0m\u001b[0;34m)\u001b[0m\u001b[0;34m**\u001b[0m\u001b[0;36m2\u001b[0m\u001b[0;34m)\u001b[0m\u001b[0;34m\u001b[0m\u001b[0m\n\u001b[1;32m     26\u001b[0m \u001b[0;34m\u001b[0m\u001b[0m\n\u001b[0;32m---> 27\u001b[0;31m     \u001b[0mpopt\u001b[0m\u001b[0;34m,\u001b[0m\u001b[0mpcov\u001b[0m \u001b[0;34m=\u001b[0m \u001b[0mcurve_fit\u001b[0m\u001b[0;34m(\u001b[0m\u001b[0mgaus\u001b[0m\u001b[0;34m,\u001b[0m\u001b[0mnp\u001b[0m\u001b[0;34m.\u001b[0m\u001b[0marange\u001b[0m\u001b[0;34m(\u001b[0m\u001b[0mvals\u001b[0m\u001b[0;34m.\u001b[0m\u001b[0mshape\u001b[0m\u001b[0;34m[\u001b[0m\u001b[0;36m0\u001b[0m\u001b[0;34m]\u001b[0m\u001b[0;34m)\u001b[0m\u001b[0;34m,\u001b[0m\u001b[0mvals\u001b[0m\u001b[0;34m,\u001b[0m\u001b[0mp0\u001b[0m\u001b[0;34m=\u001b[0m\u001b[0;34m[\u001b[0m\u001b[0;36m1\u001b[0m\u001b[0;34m,\u001b[0m\u001b[0mmu\u001b[0m\u001b[0;34m,\u001b[0m\u001b[0msigma\u001b[0m\u001b[0;34m]\u001b[0m\u001b[0;34m)\u001b[0m\u001b[0;34m\u001b[0m\u001b[0m\n\u001b[0m\u001b[1;32m     28\u001b[0m     \u001b[0;32mreturn\u001b[0m \u001b[0mpopt\u001b[0m\u001b[0;34m\u001b[0m\u001b[0m\n\u001b[1;32m     29\u001b[0m \u001b[0;34m\u001b[0m\u001b[0m\n",
      "\u001b[0;31mNameError\u001b[0m: name 'curve_fit' is not defined"
     ]
    }
   ],
   "source": [
    "img, segmap, img_id = source[0]\n",
    "img = denoise(img, segmap, img_id)[21:63, 21:63]\n",
    "#img[segmap!=img_id] = 0\n",
    "\n",
    "#img += np.abs(img.min())\n",
    "#img /= img.sum()\n",
    "\n",
    "plt.imshow(img, cmap='gray')\n",
    "\n",
    "ys, xs = np.zeros(img.shape[0]), np.zeros(img.shape[1])\n",
    "for y in range(img.shape[0]):\n",
    "    for x in range(img.shape[1]):\n",
    "        ys[y] += img[y,x]\n",
    "        xs[x] += img[y,x]\n",
    "\n",
    "ys /= ys.sum()\n",
    "xs /= xs.sum()\n",
    "\n",
    "def gaus(x,a,x0,sigma):\n",
    "    return a*exp(-(x-x0)**2/(2*sigma**2))\n",
    "\n",
    "def fit_gauss(vals):\n",
    "    xs = np.arange(vals.shape[0])\n",
    "    mu = np.mean(vals*xs)\n",
    "    sigma = np.mean(vals * (xs-mu)**2)\n",
    "\n",
    "    popt,pcov = curve_fit(gaus,np.arange(vals.shape[0]),vals,p0=[1,mu,sigma])\n",
    "    return popt\n",
    "    \n",
    "y_scale, y_mean, y_sigma = fit_gauss(ys)\n",
    "y_fit = gaus(np.arange(img.shape[0]),y_scale, y_mean, y_sigma)\n",
    "\n",
    "plt.figure()\n",
    "plt.plot(ys)\n",
    "plt.plot(y_fit)\n",
    "\n",
    "\n",
    "\n",
    "x_scale, x_mean, x_sigma = fit_gauss(xs)\n",
    "x_fit = gaus(np.arange(img.shape[0]),x_scale, x_mean, x_sigma)\n",
    "\n",
    "plt.figure()\n",
    "plt.plot(xs)\n",
    "plt.plot(x_fit)\n",
    "\n",
    "cov = np.cov(y_fit, x_fit)\n",
    "mu = [y_mean, x_mean]\n",
    "\n",
    "print(mu)\n",
    "print(cov)"
   ]
  },
  {
   "cell_type": "code",
   "execution_count": 46,
   "metadata": {},
   "outputs": [
    {
     "name": "stdout",
     "output_type": "stream",
     "text": [
      "11854\n",
      "(42.247250277149313, 41.678711986845208)\n",
      "[[ 13.41195575   5.73644961]\n",
      " [  5.73644961   9.46234879]]\n"
     ]
    },
    {
     "data": {
      "text/plain": [
       "<matplotlib.contour.QuadContourSet at 0x7f4d605bbcf8>"
      ]
     },
     "execution_count": 46,
     "metadata": {},
     "output_type": "execute_result"
    }
   ],
   "source": [
    "img, segmap, img_id = source[0]\n",
    "print(img_id)\n",
    "img = denoise(img, segmap, img_id)\n",
    "src_map = segmap==img_id\n",
    "#src_map = np.ones_like(img)\n",
    "\n",
    "#img /= img.sum()\n",
    "plt.figure(figsize=(10, 10))\n",
    "plt.imshow(img, cmap='gray')\n",
    "\n",
    "mu = it.img_center(img, src_map)\n",
    "cov = it.img_cov(img, src_map)\n",
    "\n",
    "print(mu)\n",
    "print(cov)\n",
    "\n",
    "y, x = np.arange(img.shape[0]), np.arange(img.shape[1])\n",
    "X, Y = np.meshgrid(x, y)\n",
    "pos = np.empty(X.shape + (2,))\n",
    "pos[:, :, 0] = X\n",
    "pos[:, :, 1] = Y\n",
    "rv =  multivariate_normal(mu, cov)\n",
    "plt.figure(figsize=(10, 10))\n",
    "\n",
    "plt.contourf(X, Y, rv.pdf(pos))"
   ]
  },
  {
   "cell_type": "code",
   "execution_count": 35,
   "metadata": {},
   "outputs": [],
   "source": [
    "spheroids = get_random_spheroids(-1)\n",
    "disks = get_random_disks(-1)"
   ]
  },
  {
   "cell_type": "code",
   "execution_count": 42,
   "metadata": {},
   "outputs": [],
   "source": [
    "c1, c2, c3 = [], [], []\n",
    "for img, segmap, img_id in spheroids:\n",
    "    img = denoise(img, segmap, img_id)\n",
    "    cov = it.img_cov(img, segmap==img_id)\n",
    "    c1.append(cov[0,0])\n",
    "    c2.append(cov[1,1])\n",
    "    c3.append(cov[0,1])\n",
    "    \n",
    "fig = plt.figure()\n",
    "ax = fig.add_subplot(111, projection='3d')\n",
    "ax.scatter(c1, c2, c3, color='b')\n",
    "\n",
    "c1, c2, c3 = [], [], []\n",
    "for img, segmap, img_id in disks:\n",
    "    img = denoise(img, segmap, img_id)\n",
    "    cov = it.img_cov(img, segmap==img_id)\n",
    "    c1.append(cov[0,0])\n",
    "    c2.append(cov[1,1])\n",
    "    c3.append(cov[0,1])\n",
    "    \n",
    "ax.scatter(c1, c2, c3, color='r', alpha=0.2)\n",
    "\n",
    "\n",
    "plt.show()\n",
    "    "
   ]
  },
  {
   "cell_type": "code",
   "execution_count": 47,
   "metadata": {},
   "outputs": [],
   "source": [
    "c1, c2 = [], []\n",
    "for img, segmap, img_id in spheroids:\n",
    "    img = denoise(img, segmap, img_id)\n",
    "    cov = it.img_cov(img, segmap==img_id)\n",
    "    c1.append(cov[0,0])\n",
    "    c2.append(cov[1,1])\n",
    "    \n",
    "plt.scatter(c1, c2, color='b')\n",
    "    \n",
    "c1, c2 = [], []\n",
    "for img, segmap, img_id in disks:\n",
    "    img = denoise(img, segmap, img_id)\n",
    "    cov = it.img_cov(img, segmap==img_id)\n",
    "    c1.append(cov[0,0])\n",
    "    c2.append(cov[1,1])\n",
    "    \n",
    "plt.scatter(c1, c2, color='r')\n",
    "\n",
    "\n",
    "plt.show()\n",
    "    "
   ]
  },
  {
   "cell_type": "code",
   "execution_count": 69,
   "metadata": {},
   "outputs": [],
   "source": [
    "xs = []\n",
    "ys = []\n",
    "\n",
    "\n",
    "c1, c2, c3, c4 = [], [], [], []\n",
    "for img, segmap, img_id in spheroids:\n",
    "    img = denoise(img, segmap, img_id)\n",
    "    src_map = segmap==img_id\n",
    "    cov = it.img_cov(img, src_map)\n",
    "    evals, evecs = np.linalg.eig(cov)\n",
    "    pairs = {}\n",
    "    for i in range(2):\n",
    "        pairs[evals[i]] = evecs[:, i]\n",
    "    \n",
    "    eval_maj = evals.max()\n",
    "    eval_min = evals.min()\n",
    "\n",
    "    major_x, major_y = pairs[eval_maj]  # Eigenvector with largest eigenvalue\n",
    "    minor_x, minor_y = pairs[eval_min]\n",
    "    \n",
    "    xs.append(np.array([cov[0,0], cov[1,1], np.sqrt(evals.min()/evals.max()), src_map.sum()]))\n",
    "    ys.append(1)\n",
    "    c1.append(cov[0,0])\n",
    "    c2.append(cov[1,1])\n",
    "    c3.append(np.sqrt(evals.min()/evals.max()))\n",
    "    c4.append(src_map.sum())\n",
    "    \n",
    "fig = plt.figure()\n",
    "ax = fig.add_subplot(111, projection='3d')\n",
    "ax.scatter(c1, c2, c4, color='b', alpha=0.2)\n",
    "\n",
    "c1, c2, c3, c4 = [], [], [], []\n",
    "for img, segmap, img_id in disks:\n",
    "    img = denoise(img, segmap, img_id)\n",
    "    src_map = segmap==img_id\n",
    "    cov = it.img_cov(img, src_map)\n",
    "    evals, evecs = np.linalg.eig(cov)\n",
    "    pairs = {}\n",
    "    for i in range(2):\n",
    "        pairs[evals[i]] = evecs[:, i]\n",
    "    \n",
    "    eval_maj = evals.max()\n",
    "    eval_min = evals.min()\n",
    "\n",
    "    major_x, major_y = pairs[eval_maj]  # Eigenvector with largest eigenvalue\n",
    "    minor_x, minor_y = pairs[eval_min]\n",
    "    \n",
    "    xs.append(np.array([cov[0,0], cov[1,1], np.sqrt(evals.min()/evals.max()), src_map.sum()]))\n",
    "    ys.append(0)\n",
    "    c1.append(cov[0,0])\n",
    "    c2.append(cov[1,1])\n",
    "    c3.append(np.sqrt(evals.min()/evals.max()))\n",
    "    c4.append(src_map.sum())\n",
    "    \n",
    "ax.scatter(c1, c2, c4, color='r', alpha=0.2)\n",
    "\n",
    "\n",
    "plt.show()\n",
    "    "
   ]
  },
  {
   "cell_type": "code",
   "execution_count": 84,
   "metadata": {},
   "outputs": [
    {
     "data": {
      "text/plain": [
       "0.92535392535392536"
      ]
     },
     "execution_count": 84,
     "metadata": {},
     "output_type": "execute_result"
    }
   ],
   "source": [
    "from sklearn.linear_model import LogisticRegression\n",
    "\n",
    "c = LogisticRegression()\n",
    "\n",
    "c = c.fit(xs, ys)\n",
    "\n",
    "corr = c.predict(xs)==ys\n",
    "corr.sum()/len(corr)"
   ]
  },
  {
   "cell_type": "code",
   "execution_count": 83,
   "metadata": {},
   "outputs": [
    {
     "name": "stdout",
     "output_type": "stream",
     "text": [
      "[0 1 0 1 0]\n"
     ]
    },
    {
     "data": {
      "text/plain": [
       "0.5714285714285714"
      ]
     },
     "execution_count": 83,
     "metadata": {},
     "output_type": "execute_result"
    }
   ],
   "source": [
    "from sklearn.mixture import BayesianGaussianMixture\n",
    "\n",
    "c = BayesianGaussianMixture(n_components=2, max_iter=1000)\n",
    "\n",
    "\n",
    "c = c.fit(xs, ys)\n",
    "print(c.predict(xs)[:5])\n",
    "\n",
    "corr = c.predict(xs)==ys\n",
    "corr.sum()/len(corr)"
   ]
  }
 ],
 "metadata": {
  "kernelspec": {
   "display_name": "Python [conda env:sep]",
   "language": "python",
   "name": "conda-env-sep-py"
  },
  "language_info": {
   "codemirror_mode": {
    "name": "ipython",
    "version": 3
   },
   "file_extension": ".py",
   "mimetype": "text/x-python",
   "name": "python",
   "nbconvert_exporter": "python",
   "pygments_lexer": "ipython3",
   "version": "3.6.2"
  }
 },
 "nbformat": 4,
 "nbformat_minor": 2
}
