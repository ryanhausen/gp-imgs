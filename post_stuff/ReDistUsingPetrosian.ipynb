{
 "cells": [
  {
   "cell_type": "code",
   "execution_count": 102,
   "metadata": {},
   "outputs": [],
   "source": [
    "# adds parent dir to python path\n",
    "import sys\n",
    "sys.path.insert(0, '..')\n",
    "\n",
    "#system lib\n",
    "import os\n",
    "import json\n",
    "\n",
    "# 3rd party lib\n",
    "import numpy as np\n",
    "#import matplotlib\n",
    "#import matplotlib.pyplot as plt\n",
    "#%matplotlib notebook\n",
    "#matplotlib.rcParams.update({'font.size': 22})\n",
    "#from bqplot import pyplot as plt\n",
    "\n",
    "import matplotlib.pyplot as plt\n",
    "%matplotlib inline\n",
    "\n",
    "# astro lib\n",
    "from astropy.io import fits\n",
    "import sep\n",
    "\n",
    "# my lib\n",
    "import ImageTools as it\n",
    "import DataTools as dt\n",
    "from gphelper import GPHelper\n",
    "\n",
    "from importlib import reload\n",
    "\n",
    "import warnings\n",
    "warnings.filterwarnings('ignore')\n",
    "\n",
    "\n",
    "from multiprocessing import Pool"
   ]
  },
  {
   "cell_type": "code",
   "execution_count": 111,
   "metadata": {},
   "outputs": [],
   "source": [
    "def make_nonnegative(img):\n",
    "    epsilon = np.abs(img.min()) + 1e-3\n",
    "    img[img<=0] = img[img>0].min()\n",
    "    return img\n",
    "\n",
    "def get_random_spheroids(num=10, with_ids=False):\n",
    "    with open('../spheroids', 'r') as f:\n",
    "        spheroids = np.array(f.readlines())\n",
    "    \n",
    "    if num==-1:\n",
    "        num = len(spheroids)\n",
    "    \n",
    "    selected = np.random.choice(spheroids, num, replace=False)\n",
    "    \n",
    "    data_dir = os.path.join(os.getenv('HOME'), 'Documents/astro_data/orig_images')\n",
    "    fmask = 'GDS_{}_{}.fits'\n",
    "    f_string = os.path.join(data_dir, fmask)\n",
    "\n",
    "    sources = []\n",
    "    for s in selected:\n",
    "        img = fits.getdata(f_string.format(s.strip(), 'h'))\n",
    "        segmap = fits.getdata(f_string.format(s.strip(), 'segmap'))\n",
    "        img_id = int(s.split('_')[1])\n",
    "        sources.append((img.copy(), segmap.copy(), img_id))\n",
    "        del img \n",
    "        del segmap\n",
    "    \n",
    "    if with_ids:\n",
    "        return list(zip(selected, sources))\n",
    "    else:\n",
    "        return sources\n",
    "\n",
    "# Petrosian Helpers ----------------------------------------------------------\n",
    "def one_over_eta(rs, fs, R):\n",
    "    return ((np.pi*R**2) / (np.sum(fs[rs<=R]))) * fs[rs==R]\n",
    "\n",
    "def petrosian_radius(rs, fs):\n",
    "    #r_candidates = np.array([one_over_eta(rs, fs, R) for R in rs])\n",
    "    r_candidates = np.array([fs[rs==r]/fs[rs<=r].mean() for r in rs]).flatten()\n",
    "    r_candidates = r_candidates[rs<12.5]\n",
    "    \n",
    "    return rs[np.square(r_candidates-0.2).argmin()]\n",
    "\n",
    "def petrosian_flux(rs, fs, R_p):\n",
    "    return np.sum(fs[rs<=2*R_p])\n",
    "\n",
    "def R_x(rs, fs, x):\n",
    "    x /= 100\n",
    "    sum_ratio = np.cumsum(fs)/np.sum(fs)\n",
    "    return rs[np.square(sum_ratio-x).argmin()]\n",
    "\n",
    "def petrosian_Re(R_50, R_90):\n",
    "    P_3 = 8e-6\n",
    "    P_4 = 8.47\n",
    "    R_ratio = min(R_90/R_50, 3.8)\n",
    "    return R_50 / (1 - (P_3 * (R_ratio)**P_4))\n",
    "\n",
    "def get_rs_and_fs(img, src_map):\n",
    "    cx, cy = it.img_center(img, src_map)\n",
    "    xs, ys = np.meshgrid(np.arange(img.shape[0]), np.arange(img.shape[1]).T)\n",
    "    rs = np.sqrt(np.square(xs-cx)+np.square(ys-cy))\n",
    "    \n",
    "    rs = rs.flatten()\n",
    "    fs = img.flatten()\n",
    "    sorted_rs = np.argsort(rs)\n",
    "    \n",
    "    rs = rs[sorted_rs]\n",
    "    fs = fs[sorted_rs]\n",
    "    \n",
    "    return rs, fs\n",
    "\n",
    "def get_re(img, src_map):\n",
    "    rs, fs = get_rs_and_fs(img, src_map)\n",
    "    \n",
    "    R_p = petrosian_radius(rs, fs)\n",
    "    F_p = petrosian_flux(rs, fs, R_p)\n",
    "    p_mask = rs <= 2*R_p\n",
    "    \n",
    "    _rs = rs[p_mask]\n",
    "    _fs = fs[p_mask]\n",
    "\n",
    "    R_50 = R_x(_rs, _fs, 50)\n",
    "    R_90 = R_x(_rs, _fs, 90)\n",
    "\n",
    "    re = petrosian_Re(R_50, R_90)\n",
    "    re_idx = np.square(_rs-re).argmin()\n",
    "    \n",
    "    return rs[re_idx], rs, fs\n",
    "\n",
    "def get_re(rsfs):\n",
    "    rs, fs = rsfs\n",
    "    \n",
    "    R_p = petrosian_radius(rs, fs)\n",
    "    F_p = petrosian_flux(rs, fs, R_p)\n",
    "    p_mask = rs <= 2*R_p\n",
    "    \n",
    "    _rs = rs[p_mask]\n",
    "    _fs = fs[p_mask]\n",
    "\n",
    "    R_50 = R_x(_rs, _fs, 50)\n",
    "    R_90 = R_x(_rs, _fs, 90)\n",
    "\n",
    "    re = petrosian_Re(R_50, R_90)\n",
    "    re_idx = np.square(_rs-re).argmin()\n",
    "    \n",
    "    return rs[re_idx]\n",
    "\n",
    "# Petrosian Helpers ----------------------------------------------------------\n",
    "\n",
    "def denoise(img, segmap, img_id):\n",
    "    noise_bank = img[segmap==0].flatten()\n",
    "    other_source = np.logical_and(segmap!=0, segmap!=img_id)\n",
    "    np.place(img, other_source, noise_bank)\n",
    "    \n",
    "    array_sep_likes = img.byteswap().newbyteorder()\n",
    "    bkg = sep.Background(img.newbyteorder('='), mask=segmap==img_id, bw=10, bh=10)\n",
    "    img = img-bkg\n",
    "    \n",
    "    return img\n",
    "\n",
    "# https://ned.ipac.caltech.edu/level5/March05/Graham/Graham2.html\n",
    "def sersic(x):\n",
    "    def b(n):\n",
    "        return 1.9992*n-0.3271\n",
    "\n",
    "    def I(r):\n",
    "        \"\"\"Assuming that I_e=1.0 and that R_e=1.0\"\"\"\n",
    "        n = 4\n",
    "        return np.exp(-b(n) * (np.power(r, 1/n)  - 1))\n",
    "\n",
    "    return I(x)"
   ]
  },
  {
   "cell_type": "code",
   "execution_count": 13,
   "metadata": {},
   "outputs": [
    {
     "data": {
      "text/plain": [
       "<matplotlib.image.AxesImage at 0x7f34a42090b8>"
      ]
     },
     "execution_count": 13,
     "metadata": {},
     "output_type": "execute_result"
    }
   ],
   "source": [
    "_id, (img, segmap, img_id) = get_random_spheroids(num=1, with_ids=True)[0]\n",
    "img = denoise(img, segmap, img_id)\n",
    "plt.title(_id)\n",
    "plt.imshow(img, cmap='gray')\n"
   ]
  },
  {
   "cell_type": "code",
   "execution_count": 20,
   "metadata": {},
   "outputs": [],
   "source": [
    "rs, fs = get_rs_and_fs(img, segmap==img_id)\n",
    "\n",
    "str = 'r, I(r)\\n'\n",
    "for r, f in zip(rs, fs):\n",
    "    str += f'{r},{f}\\n'\n",
    "    \n",
    "with open('ascii_rsfs.csv', 'w') as f:\n",
    "    f.write(str)"
   ]
  },
  {
   "cell_type": "code",
   "execution_count": 9,
   "metadata": {},
   "outputs": [],
   "source": [
    "rs, fs = [], []\n",
    "with open('ascii_rsfs.csv', 'r') as f:\n",
    "    for line in f:\n",
    "        if 'I(r)' in line:\n",
    "            continue\n",
    "        nums = line.split(' ')\n",
    "        rs.append(float(nums[0]))\n",
    "        fs.append(float(nums[1]))\n",
    "        \n",
    "rs = np.array(rs)\n",
    "fs = np.array(fs)"
   ]
  },
  {
   "cell_type": "code",
   "execution_count": 28,
   "metadata": {},
   "outputs": [
    {
     "data": {
      "text/plain": [
       "[<matplotlib.lines.Line2D at 0x7f43cc600ef0>]"
      ]
     },
     "execution_count": 28,
     "metadata": {},
     "output_type": "execute_result"
    },
    {
     "data": {
      "image/png": "[encoded data removed]",
      "text/plain": [
       "<matplotlib.figure.Figure at 0x7f43cc7b2a20>"
      ]
     },
     "metadata": {},
     "output_type": "display_data"
    }
   ],
   "source": [
    "plt.plot(rs, fs)"
   ]
  },
  {
   "cell_type": "code",
   "execution_count": 71,
   "metadata": {},
   "outputs": [
    {
     "name": "stdout",
     "output_type": "stream",
     "text": [
      "2.96965003047\n",
      "CPU times: user 404 ms, sys: 144 ms, total: 548 ms\n",
      "Wall time: 2.44 s\n"
     ]
    }
   ],
   "source": [
    "%%time\n",
    "dR=0.05*(rs.max()-rs.min())\n",
    "print(dR)\n",
    "f_smooth = dt.loessc_p(rs,fs,dx=dR, pnum=2)"
   ]
  },
  {
   "cell_type": "code",
   "execution_count": 30,
   "metadata": {},
   "outputs": [
    {
     "data": {
      "text/plain": [
       "[<matplotlib.lines.Line2D at 0x7f43cc595780>]"
      ]
     },
     "execution_count": 30,
     "metadata": {},
     "output_type": "execute_result"
    },
    {
     "data": {
      "image/png": "[encoded data removed]",
      "text/plain": [
       "<matplotlib.figure.Figure at 0x7f43cc5959b0>"
      ]
     },
     "metadata": {},
     "output_type": "display_data"
    }
   ],
   "source": [
    "plt.plot(rs, fs)\n",
    "plt.plot(rs, f_smooth)"
   ]
  },
  {
   "cell_type": "code",
   "execution_count": 41,
   "metadata": {},
   "outputs": [
    {
     "data": {
      "text/plain": [
       "3795"
      ]
     },
     "execution_count": 41,
     "metadata": {},
     "output_type": "execute_result"
    }
   ],
   "source": [
    "(f_smooth<0).sum()"
   ]
  },
  {
   "cell_type": "code",
   "execution_count": 42,
   "metadata": {},
   "outputs": [
    {
     "data": {
      "text/plain": [
       "[<matplotlib.lines.Line2D at 0x7f43cc18a780>]"
      ]
     },
     "execution_count": 42,
     "metadata": {},
     "output_type": "execute_result"
    },
    {
     "data": {
      "image/png": "[encoded data removed]",
      "text/plain": [
       "<matplotlib.figure.Figure at 0x7f43cc478f60>"
      ]
     },
     "metadata": {},
     "output_type": "display_data"
    }
   ],
   "source": [
    "num_interp = 100\n",
    "interp_rs = np.linspace(rs.min(), rs.max(), num_interp)\n",
    "interp_fs = np.interp(interp_rs, rs, f_smooth)\n",
    "interp_fs[interp_fs<0] = 0\n",
    "\n",
    "plt.plot(interp_rs, interp_fs)"
   ]
  },
  {
   "cell_type": "code",
   "execution_count": 44,
   "metadata": {},
   "outputs": [],
   "source": [
    "L = np.zeros(num_interp)\n",
    "L[0] = np.pi*interp_rs[0]**2  * interp_fs[0]\n",
    "for i in range(1,num_interp,1):\n",
    "    L[i] = L[i-1] + np.pi*(interp_rs[i]**2 - interp_rs[i-1]**2)*interp_fs[i]"
   ]
  },
  {
   "cell_type": "code",
   "execution_count": 45,
   "metadata": {},
   "outputs": [
    {
     "data": {
      "text/plain": [
       "[<matplotlib.lines.Line2D at 0x7f43dc1e38d0>]"
      ]
     },
     "execution_count": 45,
     "metadata": {},
     "output_type": "execute_result"
    },
    {
     "data": {
      "image/png": "[encoded data removed]",
      "text/plain": [
       "<matplotlib.figure.Figure at 0x7f43cc369a58>"
      ]
     },
     "metadata": {},
     "output_type": "display_data"
    }
   ],
   "source": [
    "plt.plot(interp_rs, L)"
   ]
  },
  {
   "cell_type": "code",
   "execution_count": 48,
   "metadata": {},
   "outputs": [],
   "source": [
    "A = np.pi * interp_rs**2"
   ]
  },
  {
   "cell_type": "code",
   "execution_count": 51,
   "metadata": {},
   "outputs": [
    {
     "data": {
      "text/plain": [
       "(0, 10)"
      ]
     },
     "execution_count": 51,
     "metadata": {},
     "output_type": "execute_result"
    },
    {
     "data": {
      "image/png": "[encoded data removed]",
      "text/plain": [
       "<matplotlib.figure.Figure at 0x7f43cc183400>"
      ]
     },
     "metadata": {},
     "output_type": "display_data"
    }
   ],
   "source": [
    "etas = interp_fs*A/L\n",
    "plt.plot(interp_rs, etas)\n",
    "plt.xlim([0,10])"
   ]
  },
  {
   "cell_type": "code",
   "execution_count": 54,
   "metadata": {},
   "outputs": [
    {
     "data": {
      "text/plain": [
       "6.5539573809517009"
      ]
     },
     "execution_count": 54,
     "metadata": {},
     "output_type": "execute_result"
    }
   ],
   "source": [
    "eta_idx = np.square(etas[interp_rs<10]-0.2).argmin()\n",
    "interp_rs[eta_idx]"
   ]
  },
  {
   "cell_type": "code",
   "execution_count": 55,
   "metadata": {},
   "outputs": [
    {
     "data": {
      "text/plain": [
       "0.18347755972883475"
      ]
     },
     "execution_count": 55,
     "metadata": {},
     "output_type": "execute_result"
    }
   ],
   "source": [
    "etas[eta_idx]"
   ]
  },
  {
   "cell_type": "code",
   "execution_count": 106,
   "metadata": {},
   "outputs": [],
   "source": [
    "spheroids = get_random_spheroids(num=-1)"
   ]
  },
  {
   "cell_type": "code",
   "execution_count": 191,
   "metadata": {
    "scrolled": false
   },
   "outputs": [
    {
     "name": "stdout",
     "output_type": "stream",
     "text": [
      "14.410280500750748\n",
      "10.351666374772343\n",
      "13.529113940131818\n",
      "10.09854268835151\n",
      "14.9746387188295\n",
      "CPU times: user 52.5 s, sys: 812 ms, total: 53.3 s\n",
      "Wall time: 13.5 s\n"
     ]
    }
   ],
   "source": [
    "%%time\n",
    "#_ = process_img(spheroids[6])\n",
    "\n",
    "processed = list(map(process_img, spheroids[:5]))\n",
    "\n",
    "#with Pool(5) as p:\n",
    "#    processed = p.map(process_img, spheroids[:5])"
   ]
  },
  {
   "cell_type": "code",
   "execution_count": 190,
   "metadata": {},
   "outputs": [],
   "source": [
    "def denoise(img, segmap, img_id):\n",
    "    noise_bank = img[segmap==0].flatten()\n",
    "    other_source = np.logical_and(segmap!=0, segmap!=img_id)\n",
    "    np.place(img, other_source, noise_bank)\n",
    "    \n",
    "    sep_arr = img.byteswap().newbyteorder('N')\n",
    "    #print(sep_arr.dtype.byteorder)\n",
    "    bkg = sep.Background(sep_arr, mask=segmap==img_id, bw=10, bh=10)\n",
    "    img = img-bkg\n",
    "    \n",
    "    return img\n",
    "\n",
    "\n",
    "def process_img(args):\n",
    "    img, segmap, img_id = args\n",
    "    src_map = segmap==img_id\n",
    "    img = denoise(img, segmap, img_id)\n",
    "    \n",
    "    \n",
    "    \n",
    "    #plt.figure()\n",
    "    #plt.imshow(img, cmap='gray')\n",
    "    \n",
    "    rs, fs = get_rs_and_fs(img, src_map)\n",
    "    \n",
    "    #plt.figure()\n",
    "    #plt.plot(rs, fs)\n",
    "    \n",
    "    dr = 0.05*(rs.max()-rs.min())\n",
    "    fs = dt.loessc_p(rs, fs, dr, pnum=1)\n",
    "    fs[fs<0]=0\n",
    "    \n",
    "    #plt.figure()\n",
    "    #plt.plot(rs, fs)\n",
    "    \n",
    "    num_interp = 100\n",
    "    _rs = np.linspace(rs.min(), rs.max(), num_interp)\n",
    "    fs = np.interp(_rs, rs, fs)\n",
    "    rs = _rs\n",
    "    \n",
    "    #plt.figure()\n",
    "    #plt.plot(rs, fs)\n",
    "    \n",
    "    L = np.zeros(num_interp)\n",
    "    L[0] = np.pi*rs[0]**2  * fs[0]\n",
    "    for i in range(1,num_interp,1):\n",
    "        L[i] = L[i-1] + np.pi*(rs[i]**2 - rs[i-1]**2)*fs[i]\n",
    "        \n",
    "    A = np.pi * rs**2\n",
    "\n",
    "    \n",
    "    etas = fs*A/L\n",
    "    r_lim = rs<12.5\n",
    "    R_p = np.interp(0.2, np.flipud(etas[r_lim]), np.flipud(rs[r_lim]))\n",
    "    \n",
    "    #plt.figure()\n",
    "    #plt.plot(etas[r_lim], rs[r_lim], '.')\n",
    "    #plt.vlines([0.2], 0, 12.5)\n",
    "    #print(np.flipud(etas[r_lim]), rs[r_lim])\n",
    "    #print(R_p)\n",
    "    \n",
    "    #plt.figure()\n",
    "    #plt.plot(rs, etas)\n",
    "    \n",
    "    Fp_idx = np.square(rs - 2*R_p).argmin()\n",
    "    #print(Fp_idx)\n",
    "    \n",
    "    F_p = np.cumsum(L[:Fp_idx]/L[:Fp_idx].sum())\n",
    "    \n",
    "    #plt.figure()\n",
    "    #plt.plot(F_p, rs[:Fp_idx])\n",
    "    \n",
    "    R_50 = np.interp(.5, F_p, rs[:Fp_idx])\n",
    "    R_90 = np.interp(.9, F_p, rs[:Fp_idx])\n",
    "    #print(F_p, rs[:Fp_idx])\n",
    "    #print(R_50)\n",
    "    \n",
    "    \n",
    "    P3, P4 = 8e-6, 8.47\n",
    "    re = R_50 / (1 - P3 * (R_90 / R_50)**P4)\n",
    "    ie = np.interp(re, rs, fs)\n",
    "    print(re)\n",
    "    return (rs, fs, re, ie)"
   ]
  },
  {
   "cell_type": "code",
   "execution_count": 3,
   "metadata": {
    "scrolled": true
   },
   "outputs": [
    {
     "name": "stdout",
     "output_type": "stream",
     "text": [
      "1.098\r"
     ]
    }
   ],
   "source": [
    "reload(dt)\n",
    "\n",
    "re_max_ratio = []\n",
    "_spheroids = get_random_spheroids(num=-1)\n",
    "\n",
    "res = []\n",
    "ies = []\n",
    "normed_rs = []\n",
    "normed_fs = []\n",
    "count = 0\n",
    "\n",
    "small_res = []\n",
    "\n",
    "for img, segmap, img_id in _spheroids:\n",
    "    count += 1\n",
    "    \n",
    "    print(count/len(_spheroids), end='\\r')\n",
    "\n",
    "    #background subtract images\n",
    "    src_map = segmap==img_id\n",
    "    \n",
    "    img = denoise(img, segmap, img_id)\n",
    "    \n",
    "    # get the sorted r vals and i vals\n",
    "    rs, fs = get_rs_and_fs(img, src_map)\n",
    "    \n",
    "    # smooth the fs using loess\n",
    "    #fs = dt.loessc(rs, fs, .60)\n",
    "    dR = 0.05*(R.max()-R.min())\n",
    "    fs = dt.loessc_p(rs, fs, dR, pnum=2)\n",
    "    #print(len(rs), len(fs))\n",
    "    #fs = lowess(fs, rs)\n",
    "    #print(len(rs), len(fs))\n",
    "    \n",
    "    # measure petrosian re \n",
    "    re = get_re((rs,fs))\n",
    "\n",
    "    if re<3:\n",
    "        small_res.append((img_id, re))\n",
    "    \n",
    "    re_idx = np.where(rs==re)[0][0] \n",
    "    \n",
    "    ie = fs[re_idx]\n",
    "    \n",
    "    #sum_to_re = fs[rs<=re_idx].sum()\n",
    "    #src_L = sum_to_re*2\n",
    "    #img_L = fs.sum()\n",
    "    #if src_L>img_L:\n",
    "    #    re_max_ratio.append(sum_to_re/img_L)\n",
    "    #    continue\n",
    "    \n",
    "    #max_r = np.square(np.cumsum(fs)-src_L).argmin()\n",
    "    \n",
    "    #max_r = rs[max_r]\n",
    "    \n",
    "    #fs = fs\n",
    "    #rs = rs\n",
    "    pos = lambda a: a if (a<=0).sum()==0 else a + ap.abs(a.min()) + 1e-3\n",
    "    normed_rs.append(pos(rs))\n",
    "    normed_fs.append(fs)\n",
    "    ies.append(ie)\n",
    "    res.append(re)    "
   ]
  },
  {
   "cell_type": "code",
   "execution_count": 4,
   "metadata": {},
   "outputs": [
    {
     "data": {
      "text/plain": [
       "(array([  1.,   0.,   0.,   0.,   1.,   0.,   0.,   1.,   2.,   4.,   4.,\n",
       "          7.,   6.,  17.,  11.,  12.,  13.,  14.,  14.,  13.,  15.,  15.,\n",
       "         15.,  16.,  13.,  15.,  13.,   9.,  12.,  12.,  19.,  10.,  17.,\n",
       "         10.,  14.,  12.,   6.,   8.,   7.,   9.,   3.,  10.,   3.,   5.,\n",
       "          4.,   3.,   2.,   3.,   5.,   4.,   6.,   2.,   3.,   5.,   3.,\n",
       "          3.,   4.,   3.,   3.,   7.,   3.,   2.,   3.,   5.,   2.,   1.,\n",
       "          1.,   1.,   0.,   3.,   1.,   1.,   1.,   2.,   0.,   1.,   2.,\n",
       "          0.,   3.,   2.,   1.,   0.,   1.,   2.,   1.,   0.,   0.,   2.,\n",
       "          1.,   2.,   2.,   1.,   1.,   1.,   2.,   0.,   0.,   0.,   0.,\n",
       "          1.]),\n",
       " array([ 2.43620418,  2.48057556,  2.52494693,  2.56931831,  2.61368969,\n",
       "         2.65806107,  2.70243245,  2.74680383,  2.7911752 ,  2.83554658,\n",
       "         2.87991796,  2.92428934,  2.96866072,  3.0130321 ,  3.05740348,\n",
       "         3.10177485,  3.14614623,  3.19051761,  3.23488899,  3.27926037,\n",
       "         3.32363175,  3.36800312,  3.4123745 ,  3.45674588,  3.50111726,\n",
       "         3.54548864,  3.58986002,  3.63423139,  3.67860277,  3.72297415,\n",
       "         3.76734553,  3.81171691,  3.85608829,  3.90045966,  3.94483104,\n",
       "         3.98920242,  4.0335738 ,  4.07794518,  4.12231656,  4.16668793,\n",
       "         4.21105931,  4.25543069,  4.29980207,  4.34417345,  4.38854483,\n",
       "         4.43291621,  4.47728758,  4.52165896,  4.56603034,  4.61040172,\n",
       "         4.6547731 ,  4.69914448,  4.74351585,  4.78788723,  4.83225861,\n",
       "         4.87662999,  4.92100137,  4.96537275,  5.00974412,  5.0541155 ,\n",
       "         5.09848688,  5.14285826,  5.18722964,  5.23160102,  5.27597239,\n",
       "         5.32034377,  5.36471515,  5.40908653,  5.45345791,  5.49782929,\n",
       "         5.54220066,  5.58657204,  5.63094342,  5.6753148 ,  5.71968618,\n",
       "         5.76405756,  5.80842894,  5.85280031,  5.89717169,  5.94154307,\n",
       "         5.98591445,  6.03028583,  6.07465721,  6.11902858,  6.16339996,\n",
       "         6.20777134,  6.25214272,  6.2965141 ,  6.34088548,  6.38525685,\n",
       "         6.42962823,  6.47399961,  6.51837099,  6.56274237,  6.60711375,\n",
       "         6.65148512,  6.6958565 ,  6.74022788,  6.78459926,  6.82897064,\n",
       "         6.87334202]),\n",
       " <a list of 100 Patch objects>)"
      ]
     },
     "execution_count": 4,
     "metadata": {},
     "output_type": "execute_result"
    }
   ],
   "source": [
    "plt.title('Effective Radius')\n",
    "plt.xlabel('$R_e$(Pixels)')\n",
    "plt.hist(res, bins=100)"
   ]
  },
  {
   "cell_type": "code",
   "execution_count": 127,
   "metadata": {},
   "outputs": [
    {
     "data": {
      "text/plain": [
       "(500, 1000)"
      ]
     },
     "execution_count": 127,
     "metadata": {},
     "output_type": "execute_result"
    }
   ],
   "source": [
    "stat_vals.shape"
   ]
  },
  {
   "cell_type": "code",
   "execution_count": 129,
   "metadata": {},
   "outputs": [],
   "source": [
    "interped_marks = np.concatenate([np.linspace(0, 1, 50, endpoint=False), np.linspace(1, 20, 950)])\n",
    "#stat_vals = np.dstack(stat_vals)[0,...]\n",
    "f_mean = np.log10(np.nanmedian(stat_vals, axis=0))\n",
    "f_16 = np.log10(np.nanpercentile(stat_vals, 16, axis=0))\n",
    "f_84 = np.log10(np.nanpercentile(stat_vals, 84, axis=0))\n",
    "    \n",
    "plt.plot(interped_marks, f_mean, color='r', label='$median$', zorder=100)\n",
    "plt.fill_between(interped_marks, f_16, f_84, color='r', alpha=0.45, label=\"$16^{th}-84^{th}$\", zorder=100)\n",
    "plt.legend()\n",
    "plt.show()"
   ]
  },
  {
   "cell_type": "code",
   "execution_count": 50,
   "metadata": {},
   "outputs": [],
   "source": [
    "interped_marks = np.concatenate([np.linspace(0, 1, 50, endpoint=False), np.linspace(1, 20, 950)])\n",
    "\n",
    "stat_vals = []\n",
    "\n",
    "plt.figure()\n",
    "plt.title('Normalized Surface Brightness')\n",
    "plt.xlabel('$R/R_e$')\n",
    "plt.ylabel('$I/I_e$')\n",
    "\n",
    "for rs, fs, re, ie in zip(normed_rs, normed_fs, res, ies):\n",
    "    color = 'b'\n",
    "    if np.sum(fs<=0) > 0:\n",
    "        fs = fs + np.abs(fs.min()) + 1e-3\n",
    "        ie = fs[rs==re][0]\n",
    "    \n",
    "    r = rs/re\n",
    "    f = fs/ie\n",
    "    plt.semilogy(r, f, color='k', alpha=.05)\n",
    "    stat_vals.append(np.interp(interped_marks, r, f, left=np.nan, right=np.nan))\n",
    "    \n",
    "\n",
    "stat_vals = np.dstack(stat_vals)[0,...]\n",
    "f_mean = np.nanmedian(stat_vals, axis=1)\n",
    "f_16 = np.nanpercentile(stat_vals, 16, axis=1)\n",
    "f_84 = np.nanpercentile(stat_vals, 84, axis=1)\n",
    "    \n",
    "plt.semilogy(interped_marks, f_mean, color='r', label='$median$', zorder=100)\n",
    "plt.fill_between(interped_marks, f_16, f_84, color='r', alpha=0.45, label=\"$16^{th}-84^{th}$\", zorder=100)\n",
    "plt.legend()\n",
    "plt.show()"
   ]
  },
  {
   "cell_type": "code",
   "execution_count": 52,
   "metadata": {},
   "outputs": [
    {
     "data": {
      "text/plain": [
       "array([[ 1.        ,  0.35850239],\n",
       "       [ 0.35850239,  1.        ]])"
      ]
     },
     "execution_count": 52,
     "metadata": {},
     "output_type": "execute_result"
    }
   ],
   "source": [
    "plt.scatter(res, ies)\n",
    "plt.xlabel('$R_e$')\n",
    "plt.ylabel('$I_e$')\n",
    "plt.title('$R_e$ $I_e$ Correlation')\n",
    "np.corrcoef(res, ies)"
   ]
  },
  {
   "cell_type": "code",
   "execution_count": 134,
   "metadata": {},
   "outputs": [],
   "source": [
    "valid_points = ~np.isnan(stat_vals).all(axis=0)\n",
    "\n",
    "X = interped_marks[valid_points, np.newaxis]\n",
    "Y = f_mean[valid_points]\n",
    "a = f_84[valid_points] - Y\n",
    "\n",
    "vals = {'x':dt._nmpy_encode(X),\n",
    "        'y':dt._nmpy_encode(Y),\n",
    "        'a':dt._nmpy_encode(a)}\n",
    "with open('vals_for_gp.json', 'w') as f:\n",
    "    json.dump(vals,f)"
   ]
  },
  {
   "cell_type": "code",
   "execution_count": 5,
   "metadata": {},
   "outputs": [
    {
     "name": "stdout",
     "output_type": "stream",
     "text": [
      "(999,) (999,) (999,)\n"
     ]
    }
   ],
   "source": [
    "with open('vals_for_gp.json', 'r') as f:\n",
    "    vals = json.load(f)\n",
    "    \n",
    "X = dt._nmpy_decode(vals['x'])[:,0]\n",
    "Y = dt._nmpy_decode(vals['y'])\n",
    "a = dt._nmpy_decode(vals['a'])\n",
    "\n",
    "print(X.shape, Y.shape, a.shape)"
   ]
  },
  {
   "cell_type": "code",
   "execution_count": 6,
   "metadata": {},
   "outputs": [
    {
     "name": "stdout",
     "output_type": "stream",
     "text": [
      "(349,) (349,) (349,)\n"
     ]
    },
    {
     "data": {
      "text/plain": [
       "<matplotlib.text.Text at 0x7fb53d31c438>"
      ]
     },
     "execution_count": 6,
     "metadata": {},
     "output_type": "execute_result"
    }
   ],
   "source": [
    "# truncate lines from 5re and on\n",
    "\n",
    "_X = X[X<=7.0]\n",
    "_Y = Y[X<=7.0]\n",
    "_a = a[X<=7.0]\n",
    "tmp = _Y-_a\n",
    "\n",
    "\n",
    "print(_X.shape, _Y.shape, _a.shape)\n",
    "split_idx = np.argmin(np.diff(_a))\n",
    "split_val = _X[split_idx]\n",
    "\n",
    "# fit and pad line to smooth\n",
    "plt.plot(_X[split_idx:],_Y[split_idx:], label='Measured Values')\n",
    "plt.fill_between(_X[split_idx:], tmp[split_idx:], _Y[split_idx:]+_a[split_idx:], alpha=0.2)\n",
    "\n",
    "_X = _X[split_idx:]\n",
    "_Y = _Y[split_idx:]\n",
    "_a = _a[split_idx:]\n",
    "\n",
    "_X, _Y = dt.pad_line(_X, _Y, 10, 10, append=False)\n",
    "_, _a = dt.pad_line(_X, _a, 10, 10, append=False)\n",
    "\n",
    "plt.plot(_X[_X<split_val], _Y[_X<split_val], '--', label='Linear Fit Values')\n",
    "plt.fill_between(_X[_X<split_val], _Y[_X<split_val]-_a[_X<split_val], _Y[_X<split_val]+_a[_X<split_val], alpha=0.2)\n",
    "\n",
    "plt.xlabel('$R/R_e$')\n",
    "plt.ylabel('$I/I_e (Log)$')\n",
    "plt.title('Measured Surface Brightnes W/Linear Fit Projection')\n",
    "#plt.legend()"
   ]
  },
  {
   "cell_type": "code",
   "execution_count": 7,
   "metadata": {},
   "outputs": [
    {
     "name": "stdout",
     "output_type": "stream",
     "text": [
      "Optimization terminated successfully.\n",
      "         Current function value: 32.861168\n",
      "         Iterations: 14\n",
      "         Function evaluations: 28\n"
     ]
    }
   ],
   "source": [
    "gp = GPHelper()\n",
    "gp.fit(_X[:,np.newaxis], _Y, _a, length_scale=0.75, optimize='sigma_n')\n",
    "_x, std = gp.predict(_X[:, np.newaxis], return_std=True)"
   ]
  },
  {
   "cell_type": "code",
   "execution_count": 153,
   "metadata": {},
   "outputs": [
    {
     "data": {
      "text/plain": [
       "<matplotlib.legend.Legend at 0x7f8df1271588>"
      ]
     },
     "execution_count": 153,
     "metadata": {},
     "output_type": "execute_result"
    }
   ],
   "source": [
    "plt.plot(_X,_Y, label='GP Fit')\n",
    "plt.fill_between(_X, _Y-std, _Y+std, alpha=0.2)\n",
    "plt.legend()"
   ]
  },
  {
   "cell_type": "code",
   "execution_count": 57,
   "metadata": {},
   "outputs": [],
   "source": [
    "test_vals = np.concatenate([np.linspace(0.01, 1, 50, endpoint=False), np.linspace(1, 5, 250)])"
   ]
  },
  {
   "cell_type": "code",
   "execution_count": 58,
   "metadata": {},
   "outputs": [
    {
     "name": "stdout",
     "output_type": "stream",
     "text": [
      "Drawing Samples..   \r"
     ]
    }
   ],
   "source": [
    "samples = gp.sample(test_vals[:,np.newaxis], num_samples=500)"
   ]
  },
  {
   "cell_type": "code",
   "execution_count": 368,
   "metadata": {},
   "outputs": [],
   "source": [
    "for i in range(samples.shape[0]):\n",
    "    plt.plot(test_vals, samples[i,:,0], color='b', alpha=0.2)"
   ]
  },
  {
   "cell_type": "code",
   "execution_count": 3,
   "metadata": {},
   "outputs": [],
   "source": [
    "def eff_r(rs, fs):\n",
    "    \n",
    "    diff = np.diff(rs).mean()\n",
    "    \n",
    "    def flux_sum(upto):\n",
    "        _rs = rs[rs<=upto]\n",
    "        _fs = fs[rs<=upto]\n",
    "        i_flux = fs[0] * rs[0]**2 * np.pi\n",
    "        #print(f'flux = {fs[0]} * {rs[0]**2} * {np.pi} = {i_flux}')\n",
    "        if len(_rs) > 1:\n",
    "            for r1, r2, f in zip(_rs[0:-1], _rs[1:], _fs[1:]):\n",
    "                rweight = (r2**2 - r1**2) * np.pi\n",
    "                i_flux += rweight * f\n",
    "                #print(f'{r1}->{r2} = {f}*{diff**2} = {diff**2 * f}')\n",
    "                #print(f'Total Flux:{i_flux}')\n",
    "            \n",
    "        return i_flux\n",
    "    \n",
    "    def eta_point(r):\n",
    "        \n",
    "        #numer = fs[rs==r][0] * np.pi * diff**2\n",
    "        numer = fs[rs==r][0]\n",
    "        #denom = fs[rs<=r].mean()\n",
    "        fsum = flux_sum(r)\n",
    "        denom = fsum /(np.pi*r**2)\n",
    "        \n",
    "        #print(f'{numer}/{denom}\\t{fsum}\\t{np.pi*r**2}')\n",
    "        #print(f'{numer}/{denom}')\n",
    "        \n",
    "        \n",
    "        return numer/denom\n",
    "        \n",
    "    \n",
    "    #flux_sum = lambda x: np.sum([np.pi*r*fs[rs==r] for r in rs[rs<=x]])\n",
    "    #eta_point = lambda r: ((np.pi*r**2*fs[rs==r]) / (flux_sum(r)/(np.pi*r**2))) \n",
    "    eta_line = np.array([eta_point(r) for r in rs])\n",
    "    plt.plot(rs, eta_line, color='b', alpha=0.1)\n",
    "    \n",
    "    petr_r = rs[np.square(eta_line[rs<12.5]-0.2).argmin()]\n",
    "    _fs = np.array([np.pi*r**2*f for r,f in zip(rs[rs<=2*petr_r], fs[rs<=2*petr_r])])\n",
    "    petr_f = _fs.sum()\n",
    "    \n",
    "    def rx(rs, fs, x):\n",
    "        x /= 100\n",
    "        sum_ratio = np.cumsum(fs)/petr_f\n",
    "        return rs[np.square(sum_ratio-x).argmin()]\n",
    "    \n",
    "    r50 = rx(rs, _fs, 50)\n",
    "    r90 = rx(rs, _fs, 90)\n",
    "    p3 = 8e-6\n",
    "    p4 = 8.47\n",
    "    \n",
    "    return r50 / (1 - p3*(r90/r50)**p4)"
   ]
  },
  {
   "cell_type": "code",
   "execution_count": 47,
   "metadata": {},
   "outputs": [
    {
     "name": "stdout",
     "output_type": "stream",
     "text": [
      "5.27219339115 0.904420233886\n",
      "0.998\r"
     ]
    }
   ],
   "source": [
    "new_res = []\n",
    "old_new_diffs = []\n",
    "\n",
    "count = 0\n",
    "goto = len(normed_rs)\n",
    "for rs, fs, re, ie in zip(normed_rs[:goto], normed_fs[:goto], res[:goto], ies[:goto]):\n",
    "    \n",
    "    #rs *= re\n",
    "    #fs *= ie\n",
    "    if fs.max() > 8:\n",
    "        print(re, ie)\n",
    "        continue\n",
    "    \n",
    "    count+=1\n",
    "    print(count/len(normed_rs), end='\\r')\n",
    "    #plt.plot(rs*re, fs*ie, color='b', alpha=0.2)\n",
    "    new_re = eff_r(rs*re, fs*ie)\n",
    "    new_res.append(new_re)"
   ]
  },
  {
   "cell_type": "code",
   "execution_count": 59,
   "metadata": {},
   "outputs": [],
   "source": [
    "x = test_vals\n",
    "gp_res = []\n",
    "for re, ie, fs in zip(res, ies, list(samples[:,:,0])):\n",
    "    fs = 10**fs * ie\n",
    "\n",
    "    rs = x * re\n",
    "\n",
    "    #plt.figure()\n",
    "    #plt.plot(r, s, '.', label='SBP')\n",
    "    #plt.xlabel('R')\n",
    "    #plt.legend()\n",
    "    #plt.figure()\n",
    "    new_re = eff_r(rs, fs)\n",
    "    gp_res.append(new_re)\n",
    "    #old_new_diffs.append(abs(in_re-new_re))"
   ]
  },
  {
   "cell_type": "code",
   "execution_count": 53,
   "metadata": {},
   "outputs": [
    {
     "name": "stdout",
     "output_type": "stream",
     "text": [
      "Drawing Samples..   \r"
     ]
    },
    {
     "ename": "KeyboardInterrupt",
     "evalue": "",
     "output_type": "error",
     "traceback": [
      "\u001b[0;31m---------------------------------------------------------------------------\u001b[0m",
      "\u001b[0;31mKeyboardInterrupt\u001b[0m                         Traceback (most recent call last)",
      "\u001b[0;32m<ipython-input-53-1fbc8ba3a7c7>\u001b[0m in \u001b[0;36m<module>\u001b[0;34m()\u001b[0m\n\u001b[1;32m     15\u001b[0m     \u001b[0;31m#plt.plot(gp_rs[gp_rs<=7])\u001b[0m\u001b[0;34m\u001b[0m\u001b[0;34m\u001b[0m\u001b[0m\n\u001b[1;32m     16\u001b[0m     \u001b[0mfs\u001b[0m \u001b[0;34m=\u001b[0m \u001b[0mnp\u001b[0m\u001b[0;34m.\u001b[0m\u001b[0mzeros_like\u001b[0m\u001b[0;34m(\u001b[0m\u001b[0mgp_rs\u001b[0m\u001b[0;34m)\u001b[0m\u001b[0;34m\u001b[0m\u001b[0m\n\u001b[0;32m---> 17\u001b[0;31m     \u001b[0mfs\u001b[0m\u001b[0;34m[\u001b[0m\u001b[0mgp_rs\u001b[0m\u001b[0;34m<=\u001b[0m\u001b[0;36m5\u001b[0m\u001b[0;34m]\u001b[0m \u001b[0;34m=\u001b[0m \u001b[0;36m10\u001b[0m\u001b[0;34m**\u001b[0m\u001b[0mgp\u001b[0m\u001b[0;34m.\u001b[0m\u001b[0msample\u001b[0m\u001b[0;34m(\u001b[0m\u001b[0mgp_rs\u001b[0m\u001b[0;34m[\u001b[0m\u001b[0mgp_rs\u001b[0m\u001b[0;34m<=\u001b[0m\u001b[0;36m5\u001b[0m\u001b[0;34m,\u001b[0m\u001b[0mnp\u001b[0m\u001b[0;34m.\u001b[0m\u001b[0mnewaxis\u001b[0m\u001b[0;34m]\u001b[0m\u001b[0;34m)\u001b[0m\u001b[0;34m\u001b[0m\u001b[0m\n\u001b[0m\u001b[1;32m     18\u001b[0m     \u001b[0mfs\u001b[0m\u001b[0;34m[\u001b[0m\u001b[0mfs\u001b[0m\u001b[0;34m==\u001b[0m\u001b[0;36m0\u001b[0m\u001b[0;34m]\u001b[0m \u001b[0;34m=\u001b[0m \u001b[0mnoise\u001b[0m\u001b[0;34m[\u001b[0m\u001b[0mfs\u001b[0m\u001b[0;34m==\u001b[0m\u001b[0;36m0\u001b[0m\u001b[0;34m]\u001b[0m\u001b[0;34m\u001b[0m\u001b[0m\n\u001b[1;32m     19\u001b[0m     \u001b[0;31m#orig_pos = np.argsort(sort_args)\u001b[0m\u001b[0;34m\u001b[0m\u001b[0;34m\u001b[0m\u001b[0m\n",
      "\u001b[0;32m~/Documents/gp-imgs/gphelper.py\u001b[0m in \u001b[0;36msample\u001b[0;34m(self, X, num_samples, monotonic, seed)\u001b[0m\n\u001b[1;32m     90\u001b[0m                 \u001b[0mprint\u001b[0m\u001b[0;34m(\u001b[0m\u001b[0;34m'Drawing Samples'\u001b[0m\u001b[0;34m+\u001b[0m\u001b[0;34m'.'\u001b[0m\u001b[0;34m*\u001b[0m\u001b[0mnum_dots\u001b[0m\u001b[0;34m+\u001b[0m\u001b[0;34m' '\u001b[0m\u001b[0;34m*\u001b[0m\u001b[0;34m(\u001b[0m\u001b[0;36m5\u001b[0m\u001b[0;34m-\u001b[0m\u001b[0mnum_dots\u001b[0m\u001b[0;34m)\u001b[0m\u001b[0;34m,\u001b[0m \u001b[0mend\u001b[0m\u001b[0;34m=\u001b[0m\u001b[0;34m'\\r'\u001b[0m\u001b[0;34m)\u001b[0m\u001b[0;34m\u001b[0m\u001b[0m\n\u001b[1;32m     91\u001b[0m                 \u001b[0mseed\u001b[0m \u001b[0;34m=\u001b[0m \u001b[0mnp\u001b[0m\u001b[0;34m.\u001b[0m\u001b[0mrandom\u001b[0m\u001b[0;34m.\u001b[0m\u001b[0mrandint\u001b[0m\u001b[0;34m(\u001b[0m\u001b[0;36m0\u001b[0m\u001b[0;34m,\u001b[0m \u001b[0;36m1e9\u001b[0m\u001b[0;34m)\u001b[0m\u001b[0;34m\u001b[0m\u001b[0m\n\u001b[0;32m---> 92\u001b[0;31m                 \u001b[0msample\u001b[0m \u001b[0;34m=\u001b[0m \u001b[0mself\u001b[0m\u001b[0;34m.\u001b[0m\u001b[0m_gp\u001b[0m\u001b[0;34m.\u001b[0m\u001b[0msample_y\u001b[0m\u001b[0;34m(\u001b[0m\u001b[0mX\u001b[0m\u001b[0;34m,\u001b[0m \u001b[0mrandom_state\u001b[0m\u001b[0;34m=\u001b[0m\u001b[0mnp\u001b[0m\u001b[0;34m.\u001b[0m\u001b[0mrandom\u001b[0m\u001b[0;34m.\u001b[0m\u001b[0mrandint\u001b[0m\u001b[0;34m(\u001b[0m\u001b[0;36m0\u001b[0m\u001b[0;34m,\u001b[0m \u001b[0;36m1e9\u001b[0m\u001b[0;34m)\u001b[0m\u001b[0;34m)\u001b[0m\u001b[0;34m\u001b[0m\u001b[0m\n\u001b[0m\u001b[1;32m     93\u001b[0m             \u001b[0msamples\u001b[0m\u001b[0;34m.\u001b[0m\u001b[0mappend\u001b[0m\u001b[0;34m(\u001b[0m\u001b[0msample\u001b[0m\u001b[0;34m.\u001b[0m\u001b[0mflatten\u001b[0m\u001b[0;34m(\u001b[0m\u001b[0;34m)\u001b[0m\u001b[0;34m[\u001b[0m\u001b[0;34m:\u001b[0m\u001b[0;34m,\u001b[0m\u001b[0mnp\u001b[0m\u001b[0;34m.\u001b[0m\u001b[0mnewaxis\u001b[0m\u001b[0;34m]\u001b[0m\u001b[0;34m)\u001b[0m\u001b[0;34m\u001b[0m\u001b[0m\n\u001b[1;32m     94\u001b[0m \u001b[0;34m\u001b[0m\u001b[0m\n",
      "\u001b[0;32m~/anaconda3/envs/sep/lib/python3.6/site-packages/sklearn/gaussian_process/gpr.py\u001b[0m in \u001b[0;36msample_y\u001b[0;34m(self, X, n_samples, random_state)\u001b[0m\n\u001b[1;32m    367\u001b[0m         \u001b[0my_mean\u001b[0m\u001b[0;34m,\u001b[0m \u001b[0my_cov\u001b[0m \u001b[0;34m=\u001b[0m \u001b[0mself\u001b[0m\u001b[0;34m.\u001b[0m\u001b[0mpredict\u001b[0m\u001b[0;34m(\u001b[0m\u001b[0mX\u001b[0m\u001b[0;34m,\u001b[0m \u001b[0mreturn_cov\u001b[0m\u001b[0;34m=\u001b[0m\u001b[0;32mTrue\u001b[0m\u001b[0;34m)\u001b[0m\u001b[0;34m\u001b[0m\u001b[0m\n\u001b[1;32m    368\u001b[0m         \u001b[0;32mif\u001b[0m \u001b[0my_mean\u001b[0m\u001b[0;34m.\u001b[0m\u001b[0mndim\u001b[0m \u001b[0;34m==\u001b[0m \u001b[0;36m1\u001b[0m\u001b[0;34m:\u001b[0m\u001b[0;34m\u001b[0m\u001b[0m\n\u001b[0;32m--> 369\u001b[0;31m             \u001b[0my_samples\u001b[0m \u001b[0;34m=\u001b[0m \u001b[0mrng\u001b[0m\u001b[0;34m.\u001b[0m\u001b[0mmultivariate_normal\u001b[0m\u001b[0;34m(\u001b[0m\u001b[0my_mean\u001b[0m\u001b[0;34m,\u001b[0m \u001b[0my_cov\u001b[0m\u001b[0;34m,\u001b[0m \u001b[0mn_samples\u001b[0m\u001b[0;34m)\u001b[0m\u001b[0;34m.\u001b[0m\u001b[0mT\u001b[0m\u001b[0;34m\u001b[0m\u001b[0m\n\u001b[0m\u001b[1;32m    370\u001b[0m         \u001b[0;32melse\u001b[0m\u001b[0;34m:\u001b[0m\u001b[0;34m\u001b[0m\u001b[0m\n\u001b[1;32m    371\u001b[0m             \u001b[0my_samples\u001b[0m \u001b[0;34m=\u001b[0m\u001b[0;31m \u001b[0m\u001b[0;31m\\\u001b[0m\u001b[0;34m\u001b[0m\u001b[0m\n",
      "\u001b[0;32mmtrand.pyx\u001b[0m in \u001b[0;36mmtrand.RandomState.multivariate_normal (numpy/random/mtrand/mtrand.c:36911)\u001b[0;34m()\u001b[0m\n",
      "\u001b[0;32m~/anaconda3/envs/sep/lib/python3.6/site-packages/scipy/linalg/decomp_svd.py\u001b[0m in \u001b[0;36msvd\u001b[0;34m(a, full_matrices, compute_uv, overwrite_a, check_finite, lapack_driver)\u001b[0m\n\u001b[1;32m    114\u001b[0m     \u001b[0;31m# perform decomposition\u001b[0m\u001b[0;34m\u001b[0m\u001b[0;34m\u001b[0m\u001b[0m\n\u001b[1;32m    115\u001b[0m     u, s, v, info = gesXd(a1, compute_uv=compute_uv, lwork=lwork,\n\u001b[0;32m--> 116\u001b[0;31m                           full_matrices=full_matrices, overwrite_a=overwrite_a)\n\u001b[0m\u001b[1;32m    117\u001b[0m \u001b[0;34m\u001b[0m\u001b[0m\n\u001b[1;32m    118\u001b[0m     \u001b[0;32mif\u001b[0m \u001b[0minfo\u001b[0m \u001b[0;34m>\u001b[0m \u001b[0;36m0\u001b[0m\u001b[0;34m:\u001b[0m\u001b[0;34m\u001b[0m\u001b[0m\n",
      "\u001b[0;31mKeyboardInterrupt\u001b[0m: "
     ]
    }
   ],
   "source": [
    "gp_res = []\n",
    "def make_rs():\n",
    "    x, y = np.meshgrid(np.arange(84), np.arange(84))\n",
    "    cx, cy = np.random.rand()+42, np.random.rand()+42\n",
    "    return np.sqrt((cx-x)**2 + (cy-y)**2)\n",
    "    \n",
    "goto = 5\n",
    "for re, ie in zip(res[:goto], ies[:goto]):\n",
    "    rs = make_rs()/re\n",
    "    flat_rs = rs.flatten()\n",
    "    sort_args = np.argsort(flat_rs)\n",
    "    gp_rs = flat_rs[sort_args]\n",
    "    \n",
    "    noise = np.random.normal(0.0, 0.25, gp_rs.shape)\n",
    "    #plt.plot(gp_rs[gp_rs<=7])\n",
    "    fs = np.zeros_like(gp_rs)\n",
    "    fs[gp_rs<=5] = 10**gp.sample(gp_rs[gp_rs<=5,np.newaxis])\n",
    "    fs[fs==0] = noise[fs==0]\n",
    "    #orig_pos = np.argsort(sort_args)\n",
    "    #fs = fs[orig_pos].reshape([84,84])\n",
    "    \n",
    "    _re = get_re((gp_rs,fs))\n",
    "    gp_res.append(_re)    "
   ]
  },
  {
   "cell_type": "code",
   "execution_count": 385,
   "metadata": {},
   "outputs": [
    {
     "data": {
      "text/plain": [
       "[array([[ 0,  1,  2, ..., 81, 82, 83],\n",
       "        [ 0,  1,  2, ..., 81, 82, 83],\n",
       "        [ 0,  1,  2, ..., 81, 82, 83],\n",
       "        ..., \n",
       "        [ 0,  1,  2, ..., 81, 82, 83],\n",
       "        [ 0,  1,  2, ..., 81, 82, 83],\n",
       "        [ 0,  1,  2, ..., 81, 82, 83]]), array([[ 0,  0,  0, ...,  0,  0,  0],\n",
       "        [ 1,  1,  1, ...,  1,  1,  1],\n",
       "        [ 2,  2,  2, ...,  2,  2,  2],\n",
       "        ..., \n",
       "        [81, 81, 81, ..., 81, 81, 81],\n",
       "        [82, 82, 82, ..., 82, 82, 82],\n",
       "        [83, 83, 83, ..., 83, 83, 83]])]"
      ]
     },
     "execution_count": 385,
     "metadata": {},
     "output_type": "execute_result"
    }
   ],
   "source": [
    "np.meshgrid(np.arange(84), np.arange(84))"
   ]
  },
  {
   "cell_type": "code",
   "execution_count": 364,
   "metadata": {
    "scrolled": true
   },
   "outputs": [
    {
     "ename": "IndexError",
     "evalue": "list index out of range",
     "output_type": "error",
     "traceback": [
      "\u001b[0;31m---------------------------------------------------------------------------\u001b[0m",
      "\u001b[0;31mIndexError\u001b[0m                                Traceback (most recent call last)",
      "\u001b[0;32m<ipython-input-364-48ac90cd9f48>\u001b[0m in \u001b[0;36m<module>\u001b[0;34m()\u001b[0m\n\u001b[1;32m      5\u001b[0m     \u001b[0min_idx\u001b[0m \u001b[0;34m=\u001b[0m \u001b[0mnp\u001b[0m\u001b[0;34m.\u001b[0m\u001b[0mrandom\u001b[0m\u001b[0;34m.\u001b[0m\u001b[0mrandint\u001b[0m\u001b[0;34m(\u001b[0m\u001b[0;36m1\u001b[0m\u001b[0;34m,\u001b[0m\u001b[0;36m501\u001b[0m\u001b[0;34m)\u001b[0m\u001b[0;34m\u001b[0m\u001b[0m\n\u001b[1;32m      6\u001b[0m \u001b[0;34m\u001b[0m\u001b[0m\n\u001b[0;32m----> 7\u001b[0;31m     \u001b[0min_ie\u001b[0m \u001b[0;34m=\u001b[0m \u001b[0mies\u001b[0m\u001b[0;34m[\u001b[0m\u001b[0min_idx\u001b[0m\u001b[0;34m]\u001b[0m\u001b[0;34m\u001b[0m\u001b[0m\n\u001b[0m\u001b[1;32m      8\u001b[0m     \u001b[0min_re\u001b[0m \u001b[0;34m=\u001b[0m \u001b[0mres\u001b[0m\u001b[0;34m[\u001b[0m\u001b[0min_idx\u001b[0m\u001b[0;34m]\u001b[0m\u001b[0;34m\u001b[0m\u001b[0m\n\u001b[1;32m      9\u001b[0m \u001b[0;34m\u001b[0m\u001b[0m\n",
      "\u001b[0;31mIndexError\u001b[0m: list index out of range"
     ]
    }
   ],
   "source": [
    "new_res = []\n",
    "old_new_diffs = []\n",
    "\n",
    "for i in range(500):#samples.shape[0]):\n",
    "    in_idx = np.random.randint(1,501)\n",
    "    \n",
    "    in_ie = ies[in_idx]\n",
    "    in_re = res[in_idx]\n",
    "    \n",
    "    s = samples[i,:,0]\n",
    "    s = 10**s * in_ie\n",
    "\n",
    "    r = test_vals * in_re\n",
    "\n",
    "    #plt.figure()\n",
    "    #plt.plot(r, s, '.', label='SBP')\n",
    "    #plt.xlabel('R')\n",
    "    #plt.legend()\n",
    "    #plt.figure()\n",
    "    new_re = eff_r(r, s)\n",
    "    new_res.append(new_re)\n",
    "    old_new_diffs.append(abs(in_re-new_re))"
   ]
  },
  {
   "cell_type": "code",
   "execution_count": 72,
   "metadata": {},
   "outputs": [
    {
     "ename": "NameError",
     "evalue": "name 'res' is not defined",
     "output_type": "error",
     "traceback": [
      "\u001b[0;31m---------------------------------------------------------------------------\u001b[0m",
      "\u001b[0;31mNameError\u001b[0m                                 Traceback (most recent call last)",
      "\u001b[0;32m<ipython-input-72-de1a6086890f>\u001b[0m in \u001b[0;36m<module>\u001b[0;34m()\u001b[0m\n\u001b[0;32m----> 1\u001b[0;31m \u001b[0mprint\u001b[0m\u001b[0;34m(\u001b[0m\u001b[0mlen\u001b[0m\u001b[0;34m(\u001b[0m\u001b[0mres\u001b[0m\u001b[0;34m)\u001b[0m\u001b[0;34m,\u001b[0m \u001b[0mlen\u001b[0m\u001b[0;34m(\u001b[0m\u001b[0mnew_res\u001b[0m\u001b[0;34m)\u001b[0m\u001b[0;34m,\u001b[0m \u001b[0mlen\u001b[0m\u001b[0;34m(\u001b[0m\u001b[0mgp_res\u001b[0m\u001b[0;34m)\u001b[0m\u001b[0;34m)\u001b[0m\u001b[0;34m\u001b[0m\u001b[0m\n\u001b[0m\u001b[1;32m      2\u001b[0m \u001b[0mplt\u001b[0m\u001b[0;34m.\u001b[0m\u001b[0mhist\u001b[0m\u001b[0;34m(\u001b[0m\u001b[0mres\u001b[0m\u001b[0;34m,\u001b[0m \u001b[0mbins\u001b[0m\u001b[0;34m=\u001b[0m\u001b[0;36m20\u001b[0m\u001b[0;34m,\u001b[0m \u001b[0malpha\u001b[0m\u001b[0;34m=\u001b[0m\u001b[0;36m0.5\u001b[0m\u001b[0;34m,\u001b[0m \u001b[0mlabel\u001b[0m\u001b[0;34m=\u001b[0m\u001b[0;34m'Pixel Measured'\u001b[0m\u001b[0;34m)\u001b[0m\u001b[0;34m\u001b[0m\u001b[0m\n\u001b[1;32m      3\u001b[0m \u001b[0mplt\u001b[0m\u001b[0;34m.\u001b[0m\u001b[0mhist\u001b[0m\u001b[0;34m(\u001b[0m\u001b[0mnew_res\u001b[0m\u001b[0;34m,\u001b[0m \u001b[0mbins\u001b[0m\u001b[0;34m=\u001b[0m\u001b[0;36m40\u001b[0m\u001b[0;34m,\u001b[0m \u001b[0malpha\u001b[0m\u001b[0;34m=\u001b[0m\u001b[0;36m0.5\u001b[0m\u001b[0;34m,\u001b[0m \u001b[0mlabel\u001b[0m\u001b[0;34m=\u001b[0m\u001b[0;34m'Line Measured'\u001b[0m\u001b[0;34m)\u001b[0m\u001b[0;34m\u001b[0m\u001b[0m\n\u001b[1;32m      4\u001b[0m \u001b[0;31m#plt.figure()\u001b[0m\u001b[0;34m\u001b[0m\u001b[0;34m\u001b[0m\u001b[0m\n\u001b[1;32m      5\u001b[0m \u001b[0mplt\u001b[0m\u001b[0;34m.\u001b[0m\u001b[0mhist\u001b[0m\u001b[0;34m(\u001b[0m\u001b[0mgp_res\u001b[0m\u001b[0;34m,\u001b[0m \u001b[0mbins\u001b[0m\u001b[0;34m=\u001b[0m\u001b[0;36m20\u001b[0m\u001b[0;34m,\u001b[0m \u001b[0malpha\u001b[0m\u001b[0;34m=\u001b[0m\u001b[0;36m0.5\u001b[0m\u001b[0;34m,\u001b[0m \u001b[0mlabel\u001b[0m\u001b[0;34m=\u001b[0m\u001b[0;34m'GP Line Measured'\u001b[0m\u001b[0;34m)\u001b[0m\u001b[0;34m\u001b[0m\u001b[0m\n",
      "\u001b[0;31mNameError\u001b[0m: name 'res' is not defined"
     ]
    }
   ],
   "source": [
    "print(len(res), len(new_res), len(gp_res))\n",
    "plt.hist(res, bins=20, alpha=0.5, label='Pixel Measured')\n",
    "plt.hist(new_res, bins=40, alpha=0.5, label='Line Measured')\n",
    "#plt.figure()\n",
    "plt.hist(gp_res, bins=20, alpha=0.5, label='GP Line Measured')\n",
    "plt.xlabel(\"Effective Radius\")\n",
    "plt.legend()"
   ]
  },
  {
   "cell_type": "markdown",
   "metadata": {},
   "source": [
    "$$B_n(x;\\gamma) = \\gamma^{-\\frac{1}{2}}\\phi_n(\\gamma^{-1}x)$$"
   ]
  },
  {
   "cell_type": "code",
   "execution_count": 70,
   "metadata": {},
   "outputs": [
    {
     "data": {
      "text/plain": [
       "(array([   1.,    6.,    3.,   11.,    9.,   13.,   16.,   11.,   25.,\n",
       "          20.,   26.,   28.,   20.,   36.,   27.,   39.,   40.,   34.,\n",
       "          46.,   35.,   49.,   50.,   48.,   59.,   46.,   62.,   54.,\n",
       "          61.,   70.,   57.,   72.,   64.,   75.,   83.,   65.,   88.,\n",
       "          71.,   89.,   85.,   82.,  101.,   82.,   99.,   99.,   84.,\n",
       "         114.,   99.,  111.,  102.,  105.,  116.,  102.,  131.,  113.,\n",
       "         119.,  130.,  105.,  143.,  123.,  135.,  139.,  123.,  150.,\n",
       "         126.,  154.,  148.,  138.,  155.,  140.,  161.,  154.,  130.,\n",
       "         114.,   99.,  103.,   86.,   91.,   83.,   74.,   65.,   63.,\n",
       "          60.,   62.,   58.,   49.,   42.,   42.,   36.,   40.,   35.,\n",
       "          29.,   21.,   22.,   14.,   20.,   16.,   12.,    8.,    3.,    2.]),\n",
       " array([  0.1483544 ,   0.73977213,   1.33118985,   1.92260758,\n",
       "          2.5140253 ,   3.10544303,   3.69686075,   4.28827848,\n",
       "          4.8796962 ,   5.47111393,   6.06253165,   6.65394938,\n",
       "          7.2453671 ,   7.83678482,   8.42820255,   9.01962027,\n",
       "          9.611038  ,  10.20245572,  10.79387345,  11.38529117,\n",
       "         11.9767089 ,  12.56812662,  13.15954435,  13.75096207,\n",
       "         14.3423798 ,  14.93379752,  15.52521524,  16.11663297,\n",
       "         16.70805069,  17.29946842,  17.89088614,  18.48230387,\n",
       "         19.07372159,  19.66513932,  20.25655704,  20.84797477,\n",
       "         21.43939249,  22.03081022,  22.62222794,  23.21364566,\n",
       "         23.80506339,  24.39648111,  24.98789884,  25.57931656,\n",
       "         26.17073429,  26.76215201,  27.35356974,  27.94498746,\n",
       "         28.53640519,  29.12782291,  29.71924064,  30.31065836,\n",
       "         30.90207608,  31.49349381,  32.08491153,  32.67632926,\n",
       "         33.26774698,  33.85916471,  34.45058243,  35.04200016,\n",
       "         35.63341788,  36.22483561,  36.81625333,  37.40767106,\n",
       "         37.99908878,  38.5905065 ,  39.18192423,  39.77334195,\n",
       "         40.36475968,  40.9561774 ,  41.54759513,  42.13901285,\n",
       "         42.73043058,  43.3218483 ,  43.91326603,  44.50468375,\n",
       "         45.09610147,  45.6875192 ,  46.27893692,  46.87035465,\n",
       "         47.46177237,  48.0531901 ,  48.64460782,  49.23602555,\n",
       "         49.82744327,  50.418861  ,  51.01027872,  51.60169645,\n",
       "         52.19311417,  52.78453189,  53.37594962,  53.96736734,\n",
       "         54.55878507,  55.15020279,  55.74162052,  56.33303824,\n",
       "         56.92445597,  57.51587369,  58.10729142,  58.69870914,  59.29012687]),\n",
       " <a list of 100 Patch objects>)"
      ]
     },
     "execution_count": 70,
     "metadata": {},
     "output_type": "execute_result"
    }
   ],
   "source": [
    "plt.hist(normed_rs[0], bins=100)"
   ]
  }
 ],
 "metadata": {
  "kernelspec": {
   "display_name": "Python [default]",
   "language": "python",
   "name": "python3"
  },
  "language_info": {
   "codemirror_mode": {
    "name": "ipython",
    "version": 3
   },
   "file_extension": ".py",
   "mimetype": "text/x-python",
   "name": "python",
   "nbconvert_exporter": "python",
   "pygments_lexer": "ipython3",
   "version": "3.6.2"
  }
 },
 "nbformat": 4,
 "nbformat_minor": 2
}
