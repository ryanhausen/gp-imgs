{
 "cells": [
  {
   "cell_type": "code",
   "execution_count": 1,
   "metadata": {},
   "outputs": [
    {
     "name": "stdout",
     "output_type": "stream",
     "text": [
      "Using matplotlib backend: Qt5Agg\n"
     ]
    }
   ],
   "source": [
    "# adds parent dir to python path\n",
    "import sys\n",
    "sys.path.insert(0, '..')\n",
    "\n",
    "#system lib\n",
    "import os\n",
    "import json\n",
    "\n",
    "# 3rd party lib\n",
    "import numpy as np\n",
    "#import matplotlib\n",
    "#import matplotlib.pyplot as plt\n",
    "#%matplotlib notebook\n",
    "#matplotlib.rcParams.update({'font.size': 22})\n",
    "#from bqplot import pyplot as plt\n",
    "\n",
    "import matplotlib.pyplot as plt\n",
    "%matplotlib auto\n",
    "\n",
    "# astro lib\n",
    "from astropy.io import fits\n",
    "import sep\n",
    "\n",
    "# my lib\n",
    "import ImageTools as it\n",
    "import DataTools as dt\n",
    "from gphelper import GPHelper\n",
    "\n",
    "from importlib import reload\n",
    "\n",
    "import warnings\n",
    "warnings.filterwarnings('ignore')\n",
    "\n",
    "\n",
    "from multiprocessing import Pool"
   ]
  },
  {
   "cell_type": "code",
   "execution_count": 10,
   "metadata": {},
   "outputs": [],
   "source": [
    "def make_nonnegative(img):\n",
    "    epsilon = np.abs(img.min()) + 1e-3\n",
    "    if img.min() <= 0:\n",
    "        img += epsilon\n",
    "    return img\n",
    "\n",
    "def get_spheroids(num=10, band='h'):\n",
    "    with open('../spheroids', 'r') as f:\n",
    "        spheroids= np.array(f.readlines())\n",
    "    \n",
    "    data_dir = os.path.join(os.getenv('HOME'), 'Documents/astro_data/orig_images')\n",
    "    fmask = 'GDS_{}_{}.fits'\n",
    "    f_string = os.path.join(data_dir, fmask)\n",
    "    \n",
    "    sources = []\n",
    "    for s in spheroids:\n",
    "        s = s.strip()\n",
    "        img = fits.getdata(f_string.format(s, band))\n",
    "        segmap = fits.getdata(f_string.format(s, 'segmap'))\n",
    "        img_id = int(s.split('_')[1])\n",
    "        sources.append((img.copy(), segmap.copy(), img_id))\n",
    "        del img\n",
    "        del segmap\n",
    "        \n",
    "    return sources\n",
    "        \n",
    "def process_img(args):\n",
    "    def denoise(img, segmap, img_id):\n",
    "        noise_bank = img[segmap==0].flatten()\n",
    "        other_source = np.logical_and(segmap!=0, segmap!=img_id)\n",
    "        np.place(img, other_source, noise_bank)\n",
    "\n",
    "        sep_arr = img.byteswap().newbyteorder('N')\n",
    "        bkg = sep.Background(sep_arr, mask=segmap==img_id, bw=10, bh=10)\n",
    "        img = img-bkg\n",
    "\n",
    "        return img\n",
    "    \n",
    "    def get_rs_and_fs(img, src_map):\n",
    "        cx, cy = it.img_center(img, src_map)\n",
    "        xs, ys = np.meshgrid(np.arange(img.shape[0]), np.arange(img.shape[1]).T)\n",
    "        rs = np.sqrt(np.square(xs-cx)+np.square(ys-cy))\n",
    "\n",
    "        rs = rs.flatten()\n",
    "        fs = img.flatten()\n",
    "        sorted_rs = np.argsort(rs)\n",
    "\n",
    "        rs = rs[sorted_rs]\n",
    "        fs = fs[sorted_rs]\n",
    "\n",
    "        return rs, fs\n",
    "    \n",
    "    img, segmap, img_id = args\n",
    "    src_map = segmap==img_id\n",
    "    img = denoise(img, segmap, img_id)\n",
    "    \n",
    "    rs, fs = get_rs_and_fs(img, src_map)\n",
    "    \n",
    "    dr = 0.05*(rs.max()-rs.min())\n",
    "    fs = dt.loessc_p(rs, fs, dr, pnum=2)\n",
    "    fs[fs<0]=0\n",
    "    \n",
    "    num_interp = 100\n",
    "    _rs = np.linspace(rs.min(), rs.max(), num_interp)\n",
    "    fs = np.interp(_rs, rs, fs)\n",
    "    rs = _rs\n",
    "    \n",
    "    L = np.zeros(num_interp)\n",
    "    L[0] = np.pi*rs[0]**2  * fs[0]\n",
    "    for i in range(1,num_interp,1):\n",
    "        L[i] = L[i-1] + np.pi*(rs[i]**2 - rs[i-1]**2)*((fs[i]+fs[i-1])/2)\n",
    "\n",
    "    A = np.pi * rs**2\n",
    "    etas = fs*A/L\n",
    "    r_lim = rs<25.0\n",
    "    #etas = etas[r_lim]\n",
    "    mono_dec = np.argmax(np.diff(etas)>=0)\n",
    "    mono_dec = np.arange(len(etas))<mono_dec\n",
    "    r_lim = np.logical_and(r_lim, mono_dec)\n",
    "    \n",
    "    Rp = np.interp(0.2, np.flipud(etas[r_lim]), np.flipud(rs[r_lim]))\n",
    "    Fp_idx = np.square(rs - 2*Rp).argmin()\n",
    "\n",
    "    Fp = np.cumsum(L[:Fp_idx]/L[:Fp_idx].sum())\n",
    "    Ip = np.interp(Rp, rs, fs)\n",
    "\n",
    "    return (rs, fs, Rp, Ip, etas, img_id)"
   ]
  },
  {
   "cell_type": "code",
   "execution_count": 64,
   "metadata": {},
   "outputs": [],
   "source": [
    "# get imgs in other bands\n",
    "spheroids_h = get_spheroids(-1, 'h')\n",
    "spheroids_j = get_spheroids(-1, 'j')\n",
    "spheroids_v = get_spheroids(-1, 'v')\n",
    "spheroids_z = get_spheroids(-1, 'z')"
   ]
  },
  {
   "cell_type": "code",
   "execution_count": 4,
   "metadata": {},
   "outputs": [],
   "source": [
    "# get the imgs in h band \n",
    "with open('h_vals.json', 'r') as f:\n",
    "    processed_h = json.load(f)"
   ]
  },
  {
   "cell_type": "code",
   "execution_count": 5,
   "metadata": {},
   "outputs": [],
   "source": [
    "ids = [h['id'] for h in processed_h]\n",
    "\n",
    "# get rid of the imgs that were excluded from h\n",
    "tmpj, tmpv, tmpz = [], [], []\n",
    "for j, v, z, in zip(spheroids_j, spheroids_v, spheroids_z):\n",
    "    if j[-1] in ids:\n",
    "        tmpj.append(j)\n",
    "        tmpv.append(v)\n",
    "        tmpz.append(z)\n",
    "\n",
    "spheroids_j = tmpj\n",
    "spheroids_v = tmpv\n",
    "spheroids_z = tmpz"
   ]
  },
  {
   "cell_type": "code",
   "execution_count": null,
   "metadata": {},
   "outputs": [
    {
     "name": "stdout",
     "output_type": "stream",
     "text": [
      "0.644\r"
     ]
    }
   ],
   "source": [
    "%%time\n",
    "count = 0\n",
    "\n",
    "processed_h, processed_j, processed_v, processed_z = [], [], [], []\n",
    "for h, j, v, z in zip(spheroids_h, spheroids_j, spheroids_v, spheroids_z):\n",
    "    print(count/len(spheroids_j), end='\\r')\n",
    "    count += 1\n",
    "    \n",
    "    try:\n",
    "        h = process_img(h)\n",
    "        j = process_img(j)\n",
    "        v = process_img(v)\n",
    "        z = process_img(z)\n",
    "    except Exception as e:\n",
    "        continue\n",
    "    \n",
    "    processed_h.append(h)\n",
    "    processed_j.append(j)\n",
    "    processed_v.append(v)\n",
    "    processed_z.append(z)"
   ]
  },
  {
   "cell_type": "code",
   "execution_count": 15,
   "metadata": {},
   "outputs": [],
   "source": [
    "kept_ids = [p[-1] for p in processed_j]"
   ]
  },
  {
   "cell_type": "code",
   "execution_count": 19,
   "metadata": {},
   "outputs": [],
   "source": [
    "tmp_h = []\n",
    "for h in processed_h:\n",
    "    if h['id'] in kept_ids:\n",
    "        tmp_h.append(h)\n",
    "processed_h = tmp_h"
   ]
  },
  {
   "cell_type": "code",
   "execution_count": 20,
   "metadata": {},
   "outputs": [],
   "source": [
    "with open('h_vals.json', 'w') as f:\n",
    "    json.dump(processed_h, f)"
   ]
  },
  {
   "cell_type": "code",
   "execution_count": 21,
   "metadata": {},
   "outputs": [],
   "source": [
    "for b,data in zip(['j','v','z'], [processed_j, processed_v, processed_z]):\n",
    "    vals = []\n",
    "    for s in data:\n",
    "        v = {\n",
    "            'rs' : dt._nmpy_encode(s[0]),\n",
    "            'fs' : dt._nmpy_encode(s[1]),\n",
    "            'rp' : s[2],\n",
    "            'ip' : s[3],\n",
    "            'etas' : dt._nmpy_encode(s[4]),\n",
    "            'id' : s[5]\n",
    "        }\n",
    "        vals.append(v)\n",
    "\n",
    "    with open(b+'_vals.json', 'w') as f:\n",
    "        json.dump(vals, f)"
   ]
  },
  {
   "cell_type": "code",
   "execution_count": 24,
   "metadata": {},
   "outputs": [],
   "source": [
    "tmp_h = []\n",
    "\n",
    "for h in processed_h:\n",
    "    tmp_h.append((\n",
    "        dt._nmpy_decode(h['rs']),\n",
    "        dt._nmpy_decode(h['fs']),\n",
    "        h['rp'],\n",
    "        h['ip'],\n",
    "        dt._nmpy_decode(h['etas']),\n",
    "        h['id']\n",
    "    ))\n",
    "    \n",
    "processed_h = tmp_h    "
   ]
  },
  {
   "cell_type": "code",
   "execution_count": 28,
   "metadata": {},
   "outputs": [],
   "source": [
    "processed_h = sorted(processed_h, key=lambda v: v[-1])\n",
    "processed_j = sorted(processed_j, key=lambda v: v[-1])\n",
    "processed_v = sorted(processed_v, key=lambda v: v[-1])\n",
    "processed_z = sorted(processed_z, key=lambda v: v[-1])"
   ]
  },
  {
   "cell_type": "code",
   "execution_count": 63,
   "metadata": {},
   "outputs": [],
   "source": [
    "for h in processed_j:\n",
    "    plt.plot(h[0], h[1])"
   ]
  },
  {
   "cell_type": "code",
   "execution_count": 55,
   "metadata": {},
   "outputs": [],
   "source": [
    "interped_marks = np.concatenate([np.linspace(0, 1, 50, endpoint=False), np.linspace(1, 20, 950)])\n",
    "j_ratios, v_ratios, z_ratios = [], [], []\n",
    "h_vals, j_vals, v_vals, z_vals = [], [], [], []\n",
    "\n",
    "for h, j, v, z in zip(processed_h, processed_j, processed_v, processed_z):\n",
    "    h_rs, h_fs, h_rp, h_ip = h[0], h[1], h[3], h[4]\n",
    "    j_rs, j_fs, j_rp, j_ip = j[0], j[1], j[3], j[4]\n",
    "    v_rs, v_fs, v_rp, v_ip = v[0], v[1], v[3], v[4]\n",
    "    z_rs, z_fs, z_rp, z_ip = z[0], z[1], z[3], z[4]\n",
    "    \n",
    "    # are there any values we need to pad\n",
    "    if (np.sum(h_fs<=0)+np.sum(j_fs<=0)+np.sum(v_fs<=0)+np.sum(z_fs<=0)) > 0:\n",
    "            epsilon = min(h_fs.min(), j_fs.min(), v_fs.min(), z_fs.min()) + 1e-3\n",
    "    \n",
    "            h_fs += epsilon\n",
    "            j_fs += epsilon\n",
    "            v_fs += epsilon\n",
    "            z_fs += epsilon\n",
    "    \n",
    "    \n",
    "    h_vals.append(h_fs)\n",
    "    j_vals.append(j_fs)\n",
    "    v_vals.append(v_fs)\n",
    "    z_vals.append(z_fs)\n",
    "    \n",
    "    # normalize\n",
    "    h_rs /= h_rp\n",
    "    h_fs /= h_ip\n",
    "    j_rs /= h_rp\n",
    "    j_fs /= j_ip\n",
    "    v_rs /= h_rp\n",
    "    v_fs /= v_ip\n",
    "    z_rs /= h_rp\n",
    "    z_fs /= z_ip\n",
    "\n",
    "    \n",
    "\n",
    "    \n",
    "    \n",
    "    # get interp values\n",
    "    h_fs = np.interp(interped_marks, h_rs, h_fs, left=np.nan, right=np.nan)\n",
    "    j_fs = np.interp(interped_marks, j_rs, j_fs, left=np.nan, right=np.nan)\n",
    "    v_fs = np.interp(interped_marks, v_rs, v_fs, left=np.nan, right=np.nan)\n",
    "    z_fs = np.interp(interped_marks, z_rs, z_fs, left=np.nan, right=np.nan)\n",
    "    \n",
    "\n",
    "    j_ratios.append(j_fs/h_fs)\n",
    "    v_ratios.append(v_fs/h_fs)\n",
    "    z_ratios.append(z_fs/h_fs)"
   ]
  },
  {
   "cell_type": "code",
   "execution_count": 58,
   "metadata": {},
   "outputs": [
    {
     "ename": "ValueError",
     "evalue": "x and y must have same first dimension, but have shapes (1000,) and (100,)",
     "output_type": "error",
     "traceback": [
      "\u001b[0;31m---------------------------------------------------------------------------\u001b[0m",
      "\u001b[0;31mValueError\u001b[0m                                Traceback (most recent call last)",
      "\u001b[0;32m<ipython-input-58-feac3ee8d637>\u001b[0m in \u001b[0;36m<module>\u001b[0;34m()\u001b[0m\n\u001b[1;32m      7\u001b[0m \u001b[0mplt\u001b[0m\u001b[0;34m.\u001b[0m\u001b[0mtitle\u001b[0m\u001b[0;34m(\u001b[0m\u001b[0;34m'V'\u001b[0m\u001b[0;34m)\u001b[0m\u001b[0;34m\u001b[0m\u001b[0m\n\u001b[1;32m      8\u001b[0m \u001b[0;32mfor\u001b[0m \u001b[0mf\u001b[0m \u001b[0;32min\u001b[0m \u001b[0mv_vals\u001b[0m\u001b[0;34m:\u001b[0m\u001b[0;34m\u001b[0m\u001b[0m\n\u001b[0;32m----> 9\u001b[0;31m     \u001b[0mplt\u001b[0m\u001b[0;34m.\u001b[0m\u001b[0mplot\u001b[0m\u001b[0;34m(\u001b[0m\u001b[0minterped_marks\u001b[0m\u001b[0;34m,\u001b[0m \u001b[0mf\u001b[0m\u001b[0;34m)\u001b[0m\u001b[0;34m\u001b[0m\u001b[0m\n\u001b[0m\u001b[1;32m     10\u001b[0m \u001b[0;34m\u001b[0m\u001b[0m\n\u001b[1;32m     11\u001b[0m \u001b[0mplt\u001b[0m\u001b[0;34m.\u001b[0m\u001b[0mfigure\u001b[0m\u001b[0;34m(\u001b[0m\u001b[0;34m)\u001b[0m\u001b[0;34m\u001b[0m\u001b[0m\n",
      "\u001b[0;32m~/anaconda3/envs/sep/lib/python3.6/site-packages/matplotlib/pyplot.py\u001b[0m in \u001b[0;36mplot\u001b[0;34m(*args, **kwargs)\u001b[0m\n\u001b[1;32m   3315\u001b[0m                       mplDeprecation)\n\u001b[1;32m   3316\u001b[0m     \u001b[0;32mtry\u001b[0m\u001b[0;34m:\u001b[0m\u001b[0;34m\u001b[0m\u001b[0m\n\u001b[0;32m-> 3317\u001b[0;31m         \u001b[0mret\u001b[0m \u001b[0;34m=\u001b[0m \u001b[0max\u001b[0m\u001b[0;34m.\u001b[0m\u001b[0mplot\u001b[0m\u001b[0;34m(\u001b[0m\u001b[0;34m*\u001b[0m\u001b[0margs\u001b[0m\u001b[0;34m,\u001b[0m \u001b[0;34m**\u001b[0m\u001b[0mkwargs\u001b[0m\u001b[0;34m)\u001b[0m\u001b[0;34m\u001b[0m\u001b[0m\n\u001b[0m\u001b[1;32m   3318\u001b[0m     \u001b[0;32mfinally\u001b[0m\u001b[0;34m:\u001b[0m\u001b[0;34m\u001b[0m\u001b[0m\n\u001b[1;32m   3319\u001b[0m         \u001b[0max\u001b[0m\u001b[0;34m.\u001b[0m\u001b[0m_hold\u001b[0m \u001b[0;34m=\u001b[0m \u001b[0mwashold\u001b[0m\u001b[0;34m\u001b[0m\u001b[0m\n",
      "\u001b[0;32m~/anaconda3/envs/sep/lib/python3.6/site-packages/matplotlib/__init__.py\u001b[0m in \u001b[0;36minner\u001b[0;34m(ax, *args, **kwargs)\u001b[0m\n\u001b[1;32m   1896\u001b[0m                     warnings.warn(msg % (label_namer, func.__name__),\n\u001b[1;32m   1897\u001b[0m                                   RuntimeWarning, stacklevel=2)\n\u001b[0;32m-> 1898\u001b[0;31m             \u001b[0;32mreturn\u001b[0m \u001b[0mfunc\u001b[0m\u001b[0;34m(\u001b[0m\u001b[0max\u001b[0m\u001b[0;34m,\u001b[0m \u001b[0;34m*\u001b[0m\u001b[0margs\u001b[0m\u001b[0;34m,\u001b[0m \u001b[0;34m**\u001b[0m\u001b[0mkwargs\u001b[0m\u001b[0;34m)\u001b[0m\u001b[0;34m\u001b[0m\u001b[0m\n\u001b[0m\u001b[1;32m   1899\u001b[0m         \u001b[0mpre_doc\u001b[0m \u001b[0;34m=\u001b[0m \u001b[0minner\u001b[0m\u001b[0;34m.\u001b[0m\u001b[0m__doc__\u001b[0m\u001b[0;34m\u001b[0m\u001b[0m\n\u001b[1;32m   1900\u001b[0m         \u001b[0;32mif\u001b[0m \u001b[0mpre_doc\u001b[0m \u001b[0;32mis\u001b[0m \u001b[0;32mNone\u001b[0m\u001b[0;34m:\u001b[0m\u001b[0;34m\u001b[0m\u001b[0m\n",
      "\u001b[0;32m~/anaconda3/envs/sep/lib/python3.6/site-packages/matplotlib/axes/_axes.py\u001b[0m in \u001b[0;36mplot\u001b[0;34m(self, *args, **kwargs)\u001b[0m\n\u001b[1;32m   1404\u001b[0m         \u001b[0mkwargs\u001b[0m \u001b[0;34m=\u001b[0m \u001b[0mcbook\u001b[0m\u001b[0;34m.\u001b[0m\u001b[0mnormalize_kwargs\u001b[0m\u001b[0;34m(\u001b[0m\u001b[0mkwargs\u001b[0m\u001b[0;34m,\u001b[0m \u001b[0m_alias_map\u001b[0m\u001b[0;34m)\u001b[0m\u001b[0;34m\u001b[0m\u001b[0m\n\u001b[1;32m   1405\u001b[0m \u001b[0;34m\u001b[0m\u001b[0m\n\u001b[0;32m-> 1406\u001b[0;31m         \u001b[0;32mfor\u001b[0m \u001b[0mline\u001b[0m \u001b[0;32min\u001b[0m \u001b[0mself\u001b[0m\u001b[0;34m.\u001b[0m\u001b[0m_get_lines\u001b[0m\u001b[0;34m(\u001b[0m\u001b[0;34m*\u001b[0m\u001b[0margs\u001b[0m\u001b[0;34m,\u001b[0m \u001b[0;34m**\u001b[0m\u001b[0mkwargs\u001b[0m\u001b[0;34m)\u001b[0m\u001b[0;34m:\u001b[0m\u001b[0;34m\u001b[0m\u001b[0m\n\u001b[0m\u001b[1;32m   1407\u001b[0m             \u001b[0mself\u001b[0m\u001b[0;34m.\u001b[0m\u001b[0madd_line\u001b[0m\u001b[0;34m(\u001b[0m\u001b[0mline\u001b[0m\u001b[0;34m)\u001b[0m\u001b[0;34m\u001b[0m\u001b[0m\n\u001b[1;32m   1408\u001b[0m             \u001b[0mlines\u001b[0m\u001b[0;34m.\u001b[0m\u001b[0mappend\u001b[0m\u001b[0;34m(\u001b[0m\u001b[0mline\u001b[0m\u001b[0;34m)\u001b[0m\u001b[0;34m\u001b[0m\u001b[0m\n",
      "\u001b[0;32m~/anaconda3/envs/sep/lib/python3.6/site-packages/matplotlib/axes/_base.py\u001b[0m in \u001b[0;36m_grab_next_args\u001b[0;34m(self, *args, **kwargs)\u001b[0m\n\u001b[1;32m    405\u001b[0m                 \u001b[0;32mreturn\u001b[0m\u001b[0;34m\u001b[0m\u001b[0m\n\u001b[1;32m    406\u001b[0m             \u001b[0;32mif\u001b[0m \u001b[0mlen\u001b[0m\u001b[0;34m(\u001b[0m\u001b[0mremaining\u001b[0m\u001b[0;34m)\u001b[0m \u001b[0;34m<=\u001b[0m \u001b[0;36m3\u001b[0m\u001b[0;34m:\u001b[0m\u001b[0;34m\u001b[0m\u001b[0m\n\u001b[0;32m--> 407\u001b[0;31m                 \u001b[0;32mfor\u001b[0m \u001b[0mseg\u001b[0m \u001b[0;32min\u001b[0m \u001b[0mself\u001b[0m\u001b[0;34m.\u001b[0m\u001b[0m_plot_args\u001b[0m\u001b[0;34m(\u001b[0m\u001b[0mremaining\u001b[0m\u001b[0;34m,\u001b[0m \u001b[0mkwargs\u001b[0m\u001b[0;34m)\u001b[0m\u001b[0;34m:\u001b[0m\u001b[0;34m\u001b[0m\u001b[0m\n\u001b[0m\u001b[1;32m    408\u001b[0m                     \u001b[0;32myield\u001b[0m \u001b[0mseg\u001b[0m\u001b[0;34m\u001b[0m\u001b[0m\n\u001b[1;32m    409\u001b[0m                 \u001b[0;32mreturn\u001b[0m\u001b[0;34m\u001b[0m\u001b[0m\n",
      "\u001b[0;32m~/anaconda3/envs/sep/lib/python3.6/site-packages/matplotlib/axes/_base.py\u001b[0m in \u001b[0;36m_plot_args\u001b[0;34m(self, tup, kwargs)\u001b[0m\n\u001b[1;32m    383\u001b[0m             \u001b[0mx\u001b[0m\u001b[0;34m,\u001b[0m \u001b[0my\u001b[0m \u001b[0;34m=\u001b[0m \u001b[0mindex_of\u001b[0m\u001b[0;34m(\u001b[0m\u001b[0mtup\u001b[0m\u001b[0;34m[\u001b[0m\u001b[0;34m-\u001b[0m\u001b[0;36m1\u001b[0m\u001b[0;34m]\u001b[0m\u001b[0;34m)\u001b[0m\u001b[0;34m\u001b[0m\u001b[0m\n\u001b[1;32m    384\u001b[0m \u001b[0;34m\u001b[0m\u001b[0m\n\u001b[0;32m--> 385\u001b[0;31m         \u001b[0mx\u001b[0m\u001b[0;34m,\u001b[0m \u001b[0my\u001b[0m \u001b[0;34m=\u001b[0m \u001b[0mself\u001b[0m\u001b[0;34m.\u001b[0m\u001b[0m_xy_from_xy\u001b[0m\u001b[0;34m(\u001b[0m\u001b[0mx\u001b[0m\u001b[0;34m,\u001b[0m \u001b[0my\u001b[0m\u001b[0;34m)\u001b[0m\u001b[0;34m\u001b[0m\u001b[0m\n\u001b[0m\u001b[1;32m    386\u001b[0m \u001b[0;34m\u001b[0m\u001b[0m\n\u001b[1;32m    387\u001b[0m         \u001b[0;32mif\u001b[0m \u001b[0mself\u001b[0m\u001b[0;34m.\u001b[0m\u001b[0mcommand\u001b[0m \u001b[0;34m==\u001b[0m \u001b[0;34m'plot'\u001b[0m\u001b[0;34m:\u001b[0m\u001b[0;34m\u001b[0m\u001b[0m\n",
      "\u001b[0;32m~/anaconda3/envs/sep/lib/python3.6/site-packages/matplotlib/axes/_base.py\u001b[0m in \u001b[0;36m_xy_from_xy\u001b[0;34m(self, x, y)\u001b[0m\n\u001b[1;32m    242\u001b[0m         \u001b[0;32mif\u001b[0m \u001b[0mx\u001b[0m\u001b[0;34m.\u001b[0m\u001b[0mshape\u001b[0m\u001b[0;34m[\u001b[0m\u001b[0;36m0\u001b[0m\u001b[0;34m]\u001b[0m \u001b[0;34m!=\u001b[0m \u001b[0my\u001b[0m\u001b[0;34m.\u001b[0m\u001b[0mshape\u001b[0m\u001b[0;34m[\u001b[0m\u001b[0;36m0\u001b[0m\u001b[0;34m]\u001b[0m\u001b[0;34m:\u001b[0m\u001b[0;34m\u001b[0m\u001b[0m\n\u001b[1;32m    243\u001b[0m             raise ValueError(\"x and y must have same first dimension, but \"\n\u001b[0;32m--> 244\u001b[0;31m                              \"have shapes {} and {}\".format(x.shape, y.shape))\n\u001b[0m\u001b[1;32m    245\u001b[0m         \u001b[0;32mif\u001b[0m \u001b[0mx\u001b[0m\u001b[0;34m.\u001b[0m\u001b[0mndim\u001b[0m \u001b[0;34m>\u001b[0m \u001b[0;36m2\u001b[0m \u001b[0;32mor\u001b[0m \u001b[0my\u001b[0m\u001b[0;34m.\u001b[0m\u001b[0mndim\u001b[0m \u001b[0;34m>\u001b[0m \u001b[0;36m2\u001b[0m\u001b[0;34m:\u001b[0m\u001b[0;34m\u001b[0m\u001b[0m\n\u001b[1;32m    246\u001b[0m             raise ValueError(\"x and y can be no greater than 2-D, but have \"\n",
      "\u001b[0;31mValueError\u001b[0m: x and y must have same first dimension, but have shapes (1000,) and (100,)"
     ]
    }
   ],
   "source": [
    "plt.figure()\n",
    "plt.title('J')\n",
    "for f in j_vals:\n",
    "    plt.plot(f)\n",
    "    \n",
    "plt.figure()\n",
    "plt.title('V')\n",
    "for f in v_vals:\n",
    "    plt.plot(interped_marks, f)\n",
    "    \n",
    "plt.figure()\n",
    "plt.title('Z')\n",
    "for f in z_vals:\n",
    "    plt.plot(interped_marks, f)"
   ]
  },
  {
   "cell_type": "code",
   "execution_count": 46,
   "metadata": {},
   "outputs": [],
   "source": [
    "plt.figure()\n",
    "plt.title('J')\n",
    "for f in j_ratios:\n",
    "    plt.plot(interped_marks, f)\n",
    "    \n",
    "plt.figure()\n",
    "plt.title('V')\n",
    "for f in v_ratios:\n",
    "    plt.plot(interped_marks, f)\n",
    "    \n",
    "plt.figure()\n",
    "plt.title('Z')\n",
    "for f in z_ratios:\n",
    "    plt.plot(interped_marks, f)"
   ]
  }
 ],
 "metadata": {
  "kernelspec": {
   "display_name": "Python [conda env:sep]",
   "language": "python",
   "name": "conda-env-sep-py"
  },
  "language_info": {
   "codemirror_mode": {
    "name": "ipython",
    "version": 3
   },
   "file_extension": ".py",
   "mimetype": "text/x-python",
   "name": "python",
   "nbconvert_exporter": "python",
   "pygments_lexer": "ipython3",
   "version": "3.6.2"
  }
 },
 "nbformat": 4,
 "nbformat_minor": 2
}
